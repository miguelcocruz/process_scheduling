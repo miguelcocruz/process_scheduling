{
 "cells": [
  {
   "cell_type": "markdown",
   "metadata": {},
   "source": [
    "## 0.2 - Developing initial algorithms\n",
    "\n",
    "This notebook concerns the development of initial simple algorithms:\n",
    "- Assigning all baths of the first request\n",
    "- Assigning a new request after a given request has already been assigned\n"
   ]
  },
  {
   "cell_type": "code",
   "execution_count": 9,
   "metadata": {},
   "outputs": [],
   "source": [
    "%load_ext autoreload\n",
    "%autoreload 2\n",
    "\n",
    "from src import ps\n",
    "import numpy as np"
   ]
  },
  {
   "cell_type": "code",
   "execution_count": 101,
   "metadata": {},
   "outputs": [],
   "source": [
    "ss = ps.Schedule()\n",
    "ss.load_data(8) "
   ]
  },
  {
   "cell_type": "markdown",
   "metadata": {},
   "source": [
    "### 0.2.1 - First assignment\n",
    "\n",
    "Given a request's index, the first_assignment() function assigns all baths of that request as the first one and returns:\n",
    "- *tb*: the instants when the bath i starts \n",
    "- *ts*: the instants when the request enters the drying step h\n",
    "- *tf*: the instant when the request leaves the last bath\n",
    "\n",
    "It builds a schedule where the time of each bath and drying step is the minimum amount possible."
   ]
  },
  {
   "cell_type": "code",
   "execution_count": 231,
   "metadata": {},
   "outputs": [],
   "source": [
    "def first_assignment(index):\n",
    "    \n",
    "    _tb = np.zeros(shape=(ss.M))\n",
    "    _ts = np.zeros(shape=(ss.H))\n",
    "    _tin = np.array(ss.tin[index])\n",
    "    _sec = np.array(ss.sec[index])\n",
    "    \n",
    "    # 1st cycle - assigning the baths taking into account the minimum amount of time required\n",
    "    for j in range(1, ss.M):\n",
    "        if j == 0:\n",
    "            _tb[0] = 0\n",
    "        \n",
    "        else:\n",
    "            _tb[j] = _tb[j - 1] + _tin[j - 1]\n",
    "            \n",
    "    # 2nd cycle - adding the drying steps     \n",
    "    for h, j in enumerate(ss.b):\n",
    "        _ts[h] = _tb[j]\n",
    "        _tb[j:] += _sec[ss.b.index(j)]\n",
    "    \n",
    "    _tf = _tb[ss.M - 1] + _tin[ss.M - 1]\n",
    "    \n",
    "    return _tb, _ts, _tf"
   ]
  },
  {
   "cell_type": "code",
   "execution_count": 35,
   "metadata": {},
   "outputs": [],
   "source": [
    "tb0, ts0, tf0 = first_assignment(0)"
   ]
  },
  {
   "cell_type": "code",
   "execution_count": 36,
   "metadata": {},
   "outputs": [
    {
     "name": "stdout",
     "output_type": "stream",
     "text": [
      "tb: [  0.  38. 127. 241. 290. 374. 523. 730. 817.]\n",
      "ts: [197. 407. 623. 739.]\n",
      "tf: 845.0\n"
     ]
    }
   ],
   "source": [
    "print(\"tb: %s\" %tb0)\n",
    "print(\"ts: %s\" %ts0)\n",
    "print(\"tf: %s\" %tf0)"
   ]
  },
  {
   "cell_type": "markdown",
   "metadata": {},
   "source": [
    "**Testing the performance** "
   ]
  },
  {
   "cell_type": "code",
   "execution_count": 37,
   "metadata": {},
   "outputs": [
    {
     "name": "stdout",
     "output_type": "stream",
     "text": [
      "92.3 µs ± 5.54 µs per loop (mean ± std. dev. of 7 runs, 10000 loops each)\n"
     ]
    }
   ],
   "source": [
    "%timeit first_assignment(0)"
   ]
  },
  {
   "cell_type": "code",
   "execution_count": 38,
   "metadata": {},
   "outputs": [
    {
     "name": "stdout",
     "output_type": "stream",
     "text": [
      "16.2 µs ± 2.01 µs per loop (mean ± std. dev. of 7 runs, 100000 loops each)\n"
     ]
    }
   ],
   "source": [
    "%%timeit\n",
    "\n",
    "index = 0\n",
    "_tb = np.zeros(shape=(ss.M))\n",
    "_ts = np.zeros(shape=(ss.H))\n",
    "_tin = np.array(ss.tin[index])\n",
    "_sec = np.array(ss.sec[index])"
   ]
  },
  {
   "cell_type": "code",
   "execution_count": 39,
   "metadata": {},
   "outputs": [
    {
     "name": "stdout",
     "output_type": "stream",
     "text": [
      "4.87 µs ± 325 ns per loop (mean ± std. dev. of 7 runs, 100000 loops each)\n"
     ]
    }
   ],
   "source": [
    "%%timeit\n",
    "\n",
    "index = 0\n",
    "_tb = [0 for _ in range(ss.M)]\n",
    "_ts = [0 for _ in range(ss.H)]\n",
    "_tin = ss.tin[index]\n",
    "_sec = ss.sec[index]"
   ]
  },
  {
   "cell_type": "markdown",
   "metadata": {},
   "source": [
    "A gain in performance is seen if Python lists are used but then, the following assignment could not be done in the same way using lists. \n",
    "\n",
    "     _tb[j:] += _sec[ss.b.index(j)]\n",
    "     \n",
    "So, for now the numpy.array structure will be used in this function."
   ]
  },
  {
   "cell_type": "markdown",
   "metadata": {},
   "source": [
    "### 0.2.2 - Assigning a new request\n",
    "\n",
    "This is one of the problem's main functions. Given an already scheduled request (whose times are defined by the arguments *tb_prev, ts_prev, tf_prev*), it assigns a new request with a given *index*.\n",
    "\n",
    "The first version of this function worked in three cycles - three *for-loops*. Thus, it is very costly performance-wise. An explanation of the algorithm can be found in *References\\Algoritmo - Nuevo pedido.pdf* (written in Spanish)."
   ]
  },
  {
   "cell_type": "code",
   "execution_count": 98,
   "metadata": {},
   "outputs": [],
   "source": [
    "# 1st version\n",
    "def assign_new_request(tb_prev, ts_prev, tf_prev, index):\n",
    "    global M, sec, tin, tax\n",
    "    \n",
    "    _tb = np.zeros(shape=(ss.M))\n",
    "    _ts = np.zeros(shape=(ss.H))\n",
    "    _tin = np.array(ss.tin[index])\n",
    "    _sec = np.array(ss.sec[index])\n",
    "    _tax = np.array(ss.tax[index])\n",
    "    _b = np.array(ss.b)\n",
    "    \n",
    "    # 1st cycle - assigning the baths taking into account minimum amount of time required\n",
    "    # and the leaving time of the previous request\n",
    "    \n",
    "    for j in range(ss.M):\n",
    "        \n",
    "        if j == 0:\n",
    "            _tb[0] = tb_prev[1]\n",
    "        \n",
    "        elif j < ss.M - 1:\n",
    "            _tb[j] = max(_tb[j - 1] + _tin[j - 1], tb_prev[j+1])\n",
    "        else:\n",
    "            _tb[j] = max(_tb[j - 1] + _tin[j - 1], tf_prev)\n",
    "    \n",
    "    # 2nd cycle - adding the drying steps\n",
    "    \n",
    "    for h, j in enumerate(ss.b):\n",
    "        j -= 1\n",
    "        \n",
    "        if j == 0:\n",
    "            _tb[j:] -= _tb[j] - ts_prev[h]\n",
    "        elif h > 0:\n",
    "            _tb[j:] -= min(_tb[j] - (_tb[j - 1] + _tin[j - 1]), _tb[j] - ts_prev[h], _tb[j] - _ts[h - 1] - _sec[h - 1])\n",
    "        else:\n",
    "            _tb[j:] -= min(_tb[j] - (_tb[j - 1] + _tin[j - 1]), _tb[j] - ts_prev[h])\n",
    "            \n",
    "        _ts[h] = _tb[j] + _tin[j]\n",
    "        delta = tb_prev[j + 1:] - _tb[j:-1]\n",
    "\n",
    "        if j + 1 in ss.b:  \n",
    "            _tb[j + 1:] += max(_sec[h], _sec[h] + ts_prev[ss.b.index(j + 1)] - _tb[j + 1], *delta)\n",
    "        else:\n",
    "            _tb[j + 1:] += max(_sec[h], _sec[h] + tb_prev[j + 2] - _tb[j + 1], *delta)\n",
    "   \n",
    "    _tf = _tb[ss.M - 1] + _tin[ss.M - 1]\n",
    "    \n",
    "    \n",
    "    # 3rd cycle - correcting the baths whose times are greater than the maximum amount\n",
    "    \n",
    "    for j in range(ss.M):\n",
    "\n",
    "        if j + 1 in ss.b:\n",
    "            h = ss.b.index(j + 1)\n",
    "\n",
    "            if _ts[h] > _tax[j] + _tb[j]:\n",
    "                shift = _ts[h] - _tb[j] - _tax[j]\n",
    "                _tb[:j + 1] += shift\n",
    "                _ts[h] += shift\n",
    "\n",
    "        elif j < ss.M - 1 and _tb[j + 1] > _tax[j] + _tb[j]:\n",
    "            shift = _tb[j + 1] - _tb[j] - _tax[j]\n",
    "            _tb[:j + 1] += shift\n",
    "            _ts[_b < j + 1] += shift\n",
    "\n",
    "        elif j == ss.M - 1 and tf_prev > _tb[j]:\n",
    "            shift = tf_prev - _tb[j]\n",
    "            _tb += shift\n",
    "            _ts += shift\n",
    "            _tf += shift\n",
    "                \n",
    "    return _tb, _ts, _tf\n",
    "            "
   ]
  },
  {
   "cell_type": "code",
   "execution_count": 41,
   "metadata": {},
   "outputs": [
    {
     "name": "stdout",
     "output_type": "stream",
     "text": [
      "500 µs ± 52.9 µs per loop (mean ± std. dev. of 7 runs, 1000 loops each)\n"
     ]
    }
   ],
   "source": [
    "%timeit assign_new_request(tb0, ts0, tf0, index=1)"
   ]
  },
  {
   "cell_type": "markdown",
   "metadata": {},
   "source": [
    "Again, a better performance could be achieved by building and algorithm with just one loop.\n",
    "Besides that, after some experimentation, it was clear that the way of thinking about the requests' scheduling should be changed. The next steps will illustrate the problem."
   ]
  },
  {
   "cell_type": "code",
   "execution_count": 223,
   "metadata": {},
   "outputs": [],
   "source": [
    "tb0, ts0, tf0 = first_assignment(0)\n",
    "tb17, ts17, tf17 = assign_new_request(tb0, ts0, tf0, 17)"
   ]
  },
  {
   "cell_type": "code",
   "execution_count": 226,
   "metadata": {},
   "outputs": [
    {
     "data": {
      "image/png": "[encoded data removed]",
      "text/plain": [
       "<Figure size 432x288 with 1 Axes>"
      ]
     },
     "metadata": {
      "needs_background": "light"
     },
     "output_type": "display_data"
    }
   ],
   "source": [
    "import matplotlib.pyplot as plt\n",
    "co = ['lightcoral', 'yellow', 'plum', 'grey', 'royalblue', 'maroon', 'coral', 'g', 'red', 'sienna']\n",
    "\n",
    "fig, ax = plt.subplots()\n",
    "ax.set_xlabel('Time')\n",
    "ax.set_yticks([1.5, 4.5])\n",
    "ax.set_yticklabels(['Request 0', 'Request 17'])\n",
    "\n",
    "ax.broken_barh(ss.compute_Vb(tb0, ts0, tf0), yrange=(0,3), color=co)\n",
    "ax.broken_barh(ss.compute_Vb(tb23, ts23, tf23), yrange=(3.2,3), color=co)\n",
    "\n",
    "ax.annotate('lower than max', \n",
    "            (180,6.2), \n",
    "            xytext=(180,7.5), \n",
    "            arrowprops=dict(facecolor='black', arrowstyle='simple'))\n",
    "ax.set_ylim(0,8);"
   ]
  },
  {
   "cell_type": "markdown",
   "metadata": {},
   "source": [
    "[a] The goal should not be to always have the smallest time in bath. In this example, if the sixth bath of the second request (Request 17) started sooner, the previous baths could also finish sooner and be available for the next request sooner."
   ]
  },
  {
   "cell_type": "markdown",
   "metadata": {},
   "source": [
    "### 0.2.3 - New algorithm for assigning a new request\n",
    "\n",
    "This new algorithm is based on the previous algorithm, but it accomplishes the same of  with just one loop and taking into account the change proposed in [a]."
   ]
  },
  {
   "cell_type": "code",
   "execution_count": 220,
   "metadata": {},
   "outputs": [],
   "source": [
    "# 2nd version\n",
    "\n",
    "def assign_new_request_v2(tb_prev, ts_prev, tf_prev, index):\n",
    "\n",
    "    _tb = np.zeros(shape=(ss.M))\n",
    "    _ts = np.zeros(shape=(ss.H))\n",
    "    _tin = np.array(ss.tin[index])\n",
    "    _sec = np.array(ss.sec[index])\n",
    "    _tax = np.array(ss.tax[index])\n",
    "    _b = np.array(ss.b)\n",
    "\n",
    "    _h = -1\n",
    "    _jh = 0\n",
    "\n",
    "    for j in range(ss.M):\n",
    "\n",
    "        if j == 0:\n",
    "\n",
    "            if j + 1 in ss.b:\n",
    "                _tb[0] = ts_prev[0]\n",
    "                _ts[0] = _tb[0] + _tin[0]\n",
    "                _h = 0\n",
    "                _jh = 1\n",
    "\n",
    "            else:\n",
    "                _tb[0] = tb_prev[1]\n",
    "\n",
    "        elif j < ss.M - 1:\n",
    "\n",
    "            if j in ss.b:\n",
    "                _jh = j\n",
    "\n",
    "                if j + 1 in ss.b:\n",
    "                    _h += 1\n",
    "                    _tb[j] = max(_ts[_h - 1] + _sec[_h - 1], ts_prev[_h])\n",
    "\n",
    "                    _ts[_h] = _tb[j] + _tin[j]\n",
    "\n",
    "                else:\n",
    "                    _tb[j] = max(_ts[_h] + _sec[_h], tb_prev[j+1])\n",
    "\n",
    "            else:\n",
    "\n",
    "                if j + 1 in ss.b:\n",
    "                    _h += 1\n",
    "                    _tb[j] = max(_tb[j - 1] + _tin[j - 1], ts_prev[_h])\n",
    "                    _ts[_h] = _tb[j] + _tin[j]\n",
    "\n",
    "                else:\n",
    "                    _tb[j] = max(_tb[j - 1] + _tin[j - 1], tb_prev[j+1])\n",
    "                \n",
    "                \n",
    "                if _tb[j] - _tb[j - 1] > _tax[j - 1]:\n",
    "                    #sub-algorithm used for correcting the problem addressed in [a]\n",
    "                    \n",
    "                    dif = _tb[j] - _tb[j - 1] - _tax[j - 1]\n",
    "    \n",
    "                    for k in reversed(range(_jh,j)):\n",
    "                        if k in ss.b or k == 0:\n",
    "                            _tb[k:j] += dif\n",
    "                            break\n",
    "\n",
    "                        else:\n",
    "                            shift = -_tb[k] + _tb[k - 1] + _tax[k - 1]\n",
    "                            _tb[k:j] += min(dif, shift)\n",
    "                            dif -= shift\n",
    "\n",
    "                            if dif <= 0:\n",
    "                                break\n",
    "\n",
    "\n",
    "        else:\n",
    "\n",
    "            if j in ss.b:\n",
    "                _tb[j] = max(_ts[_h] + _sec[_h], tf_prev)\n",
    "\n",
    "            else:\n",
    "                _tb[j] = max(_tb[j - 1] + _tin[j - 1], tf_prev)\n",
    "\n",
    "                if _tb[j] - _tb[j - 1] > _tax[j - 1]:\n",
    "                    _tb[_jh:j] += _tb[j] - _tb[j - 1] - _tax[j - 1]\n",
    "\n",
    "                    dif = _tb[j] - _tb[j - 1] - _tax[j - 1]\n",
    "                    \n",
    "                    for k in reversed(range(_jh,j)):\n",
    "\n",
    "                        if k in ss.b or k == 0:\n",
    "                            _tb[k:j] += dif\n",
    "                            break\n",
    "\n",
    "                        else:\n",
    "                            shift = -_tb[k] + _tb[k - 1] + _tax[k - 1]\n",
    "                            _tb[k:j] += min(dif, shift)\n",
    "                            dif -= shift\n",
    "\n",
    "                            if dif <= 0:\n",
    "                                break\n",
    "\n",
    "\n",
    "    _tf = _tb[ss.M - 1] + _tin[ss.M - 1]\n",
    "\n",
    "    return _tb, _ts, _tf"
   ]
  },
  {
   "cell_type": "code",
   "execution_count": 228,
   "metadata": {},
   "outputs": [],
   "source": [
    "tb23_2, ts23_2, tf23_2 = assign_new_request_v2(tb0, ts0, tf0, 17)"
   ]
  },
  {
   "cell_type": "code",
   "execution_count": 229,
   "metadata": {},
   "outputs": [
    {
     "data": {
      "image/png": "[encoded data removed]",
      "text/plain": [
       "<Figure size 432x288 with 2 Axes>"
      ]
     },
     "metadata": {
      "needs_background": "light"
     },
     "output_type": "display_data"
    }
   ],
   "source": [
    "fig, ax = plt.subplots(nrows=2, sharex=True)\n",
    "\n",
    "ax[0].broken_barh(ss.compute_Vb(tb0, ts0, tf0), yrange=(0,3), color=co)\n",
    "ax[0].broken_barh(ss.compute_Vb(tb23, ts23, tf23), yrange=(3.2,3), color=co);\n",
    "\n",
    "ax[1].broken_barh(ss.compute_Vb(tb0, ts0, tf0), yrange=(0,3), color=co)\n",
    "ax[1].broken_barh(ss.compute_Vb(tb23_2, ts23_2, tf23_2), yrange=(3.2,3), color=co);\n",
    "\n",
    "ax[1].axvline(x=tb30[1], color='black')\n",
    "ax[0].axvline(x=tb30[1], color='black');"
   ]
  },
  {
   "cell_type": "markdown",
   "metadata": {},
   "source": [
    "This new algorithm assigns longer baths when it is needed. In the figure, the second bath of the second request is shifted to left in the graph below (corresponding to the nem algorithm). This means that the second bath of the next request can start sooner."
   ]
  },
  {
   "cell_type": "code",
   "execution_count": 230,
   "metadata": {},
   "outputs": [
    {
     "name": "stdout",
     "output_type": "stream",
     "text": [
      "121 µs ± 9.51 µs per loop (mean ± std. dev. of 7 runs, 10000 loops each)\n"
     ]
    }
   ],
   "source": [
    "%timeit assign_new_request_v2(tb0, ts0, tf0, index=1)"
   ]
  }
 ],
 "metadata": {
  "kernelspec": {
   "display_name": "Python 3",
   "language": "python",
   "name": "python3"
  },
  "language_info": {
   "codemirror_mode": {
    "name": "ipython",
    "version": 3
   },
   "file_extension": ".py",
   "mimetype": "text/x-python",
   "name": "python",
   "nbconvert_exporter": "python",
   "pygments_lexer": "ipython3",
   "version": "3.7.1"
  }
 },
 "nbformat": 4,
 "nbformat_minor": 2
}
