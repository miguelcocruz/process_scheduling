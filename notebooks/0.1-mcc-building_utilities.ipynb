{
 "cells": [
  {
   "cell_type": "markdown",
   "metadata": {},
   "source": [
    "## 0.1 - Building utilities"
   ]
  },
  {
   "cell_type": "markdown",
   "metadata": {},
   "source": [
    "This notebook contains the development of I/O functions.\n",
    "These functions will then be implemented as methods of the class Schedule."
   ]
  },
  {
   "cell_type": "markdown",
   "metadata": {},
   "source": [
    "### 0.1.1 - Loading the data\n",
    "\n",
    "Loading the data from the text files and storing it in a list."
   ]
  },
  {
   "cell_type": "code",
   "execution_count": 1,
   "metadata": {},
   "outputs": [],
   "source": [
    "import os\n",
    "\n",
    "# ejemplar_calibrado_1 will be used to test the functions in this notebook\n",
    "filenumber = 1\n",
    "set_type = 'calibrado'\n",
    "\n",
    "# check project structure for clarification\n",
    "project_dir = os.path.join(os.path.curdir, os.pardir)\n",
    "raw_data_path = os.path.join(project_dir,'data','raw')\n",
    "\n",
    "filepath = os.path.join(raw_data_path, 'ejemplares_{}'.format(set_type), 'ejemplar_{}_{}.txt'.format(set_type, filenumber))\n",
    "\n",
    "lines = []\n",
    "\n",
    "with open(filepath, 'r') as file:\n",
    "    for line in file:\n",
    "        lines.append(line)"
   ]
  },
  {
   "cell_type": "code",
   "execution_count": 4,
   "metadata": {},
   "outputs": [
    {
     "data": {
      "text/plain": [
       "['55\\n',\n",
       " '15\\n',\n",
       " '2\\n',\n",
       " '53*75*97*27*70*29*6*26*86*39*96*56*53*21*58\\n',\n",
       " '85*60*74*85*63*76*73*42*65*84*68*73*63*72*76\\n',\n",
       " '8*24*13*20*37*30*33*30*31*24*5*37*8*17*33\\n',\n",
       " '10*23*18*32*19*9*30*25*85*10*83*87*45*47*48\\n',\n",
       " '76*95*59*72*83*7*19*43*66*55*30*25*66*69*99\\n',\n",
       " '20*7*32*23*39*5*29*26*93*97*24*34*88*79*98\\n',\n",
       " '31*36*12*35*9*30*31*80*13*84*78*86*62*100*64\\n']"
      ]
     },
     "execution_count": 4,
     "metadata": {},
     "output_type": "execute_result"
    }
   ],
   "source": [
    "lines[:10]"
   ]
  },
  {
   "cell_type": "code",
   "execution_count": 5,
   "metadata": {},
   "outputs": [
    {
     "data": {
      "text/plain": [
       "['115*108\\n',\n",
       " '108*46\\n',\n",
       " '77*51\\n',\n",
       " '137*137\\n',\n",
       " '73*107\\n',\n",
       " '129*102\\n',\n",
       " '103*59\\n',\n",
       " '61*30\\n',\n",
       " '142*51\\n',\n",
       " '50*118\\n']"
      ]
     },
     "execution_count": 5,
     "metadata": {},
     "output_type": "execute_result"
    }
   ],
   "source": [
    "lines[-10:]"
   ]
  },
  {
   "cell_type": "markdown",
   "metadata": {},
   "source": [
    "### 0.1.2 - Parsing the data\n",
    "\n",
    "Storing the loaded data into the corresponding variables.\n",
    "\n",
    "- $N$: number of requests\n",
    "- $M$: number of baths\n",
    "- $H$: number of drying steps"
   ]
  },
  {
   "cell_type": "code",
   "execution_count": 6,
   "metadata": {},
   "outputs": [],
   "source": [
    "N = int(lines[0].strip('\\n'))\n",
    "M = int(lines[1].strip('\\n'))\n",
    "H = int(lines[2].strip('\\n'))"
   ]
  },
  {
   "cell_type": "markdown",
   "metadata": {},
   "source": [
    "- $tin_{i, j}$ : the minimum amount of time the request $i$ needs to be on bath $j$"
   ]
  },
  {
   "cell_type": "code",
   "execution_count": 7,
   "metadata": {},
   "outputs": [],
   "source": [
    "tin = []\n",
    "\n",
    "for i in range(3,3+N):\n",
    "    tin.append([int(j) for j in lines[i].strip('\\n').split('*')])"
   ]
  },
  {
   "cell_type": "markdown",
   "metadata": {},
   "source": [
    "- $tax_{i, j}$ : the maximum amount of time the request $i$ can to be on bath $j$"
   ]
  },
  {
   "cell_type": "code",
   "execution_count": 8,
   "metadata": {},
   "outputs": [],
   "source": [
    "tax = []\n",
    "\n",
    "for i in range(3+N, 3+2*N):\n",
    "    tax.append([int(j) for j in lines[i].strip('\\n').split('*')])"
   ]
  },
  {
   "cell_type": "markdown",
   "metadata": {},
   "source": [
    "- $b_{h}$ : the bath after which there is a drying step $h$ - e.g. if $b_{0}=3$ that means the first drying step comes after the fourth bath (zero-based index)"
   ]
  },
  {
   "cell_type": "code",
   "execution_count": 9,
   "metadata": {},
   "outputs": [],
   "source": [
    "b = [int(h) for h in lines[3+2*N].strip('\\n').split('*')]"
   ]
  },
  {
   "cell_type": "markdown",
   "metadata": {},
   "source": [
    "- $sec_{i,h}$ : the minimum amount of time the request $i$ needs to be on the drying step $h$"
   ]
  },
  {
   "cell_type": "code",
   "execution_count": 10,
   "metadata": {},
   "outputs": [],
   "source": [
    "sec = []\n",
    "\n",
    "for i in range(3+2*N+1, 3+3*N+1):\n",
    "    sec.append([int(h) for h in lines[i].strip('\\n').split('*')])"
   ]
  },
  {
   "cell_type": "markdown",
   "metadata": {},
   "source": [
    "It should be assessed later if storing the problem's parameters as a numpy.array structure is necessary or if yields better performance.\n",
    "\n",
    "### 0.1.3 - Writing the output file\n",
    "\n",
    "Creating a text file to store the results (solutions and execution times) of the algorithm according to the defined structure (see references\\Trabajo-MQOI.pdf)"
   ]
  },
  {
   "cell_type": "code",
   "execution_count": 11,
   "metadata": {},
   "outputs": [],
   "source": [
    "def write_output(tb, ts, tf, fo, time):\n",
    "    #tb, ts, tf - required output that defines the solution. see references or the next notebook\n",
    "    #fo - list containing the values of the objective functions\n",
    "    #time - list containing the respective times of computation\n",
    "    \n",
    "    with open('test1.txt', 'w') as file:\n",
    "        \n",
    "        for _f, _t in zip(fo, time):\n",
    "            file.write(\"{}*{}\\n\".format(str(_f), str(_t))) #tirar str?\n",
    "            \n",
    "        file.write(\"{}\\n\".format(str(len(fo))))\n",
    "        \n",
    "        for _tb, _ts, _tf in zip(tb, ts, tf):\n",
    "            file.write(\"{}*{}*{}\\n\".format(\"*\".join(map(str,map(int,_tb))), \\\n",
    "                                          \"*\".join(map(str,map(int,_ts))), \\\n",
    "                                          str(int(_tf))))\n",
    "            "
   ]
  },
  {
   "cell_type": "markdown",
   "metadata": {},
   "source": [
    "### 0.1.4 - Testing implementation of class Schedule"
   ]
  },
  {
   "cell_type": "markdown",
   "metadata": {},
   "source": [
    "Testing done after writing a script file ps.py containing class Schedule with the I/O methods."
   ]
  },
  {
   "cell_type": "code",
   "execution_count": 44,
   "metadata": {},
   "outputs": [
    {
     "name": "stdout",
     "output_type": "stream",
     "text": [
      "The autoreload extension is already loaded. To reload it, use:\n",
      "  %reload_ext autoreload\n"
     ]
    }
   ],
   "source": [
    "# It will reload all changed modules every time before executing a new line\n",
    "%load_ext autoreload\n",
    "%autoreload 2"
   ]
  },
  {
   "cell_type": "code",
   "execution_count": 45,
   "metadata": {},
   "outputs": [],
   "source": [
    "# Importing modules\n",
    "from src import ps\n",
    "import numpy as np"
   ]
  },
  {
   "cell_type": "code",
   "execution_count": 21,
   "metadata": {},
   "outputs": [],
   "source": [
    "# Loading the dataset ejemplar_calibrado_8\n",
    "ss = ps.Schedule()\n",
    "ss.load_data('prueba', 8) "
   ]
  },
  {
   "cell_type": "code",
   "execution_count": 22,
   "metadata": {},
   "outputs": [
    {
     "name": "stdout",
     "output_type": "stream",
     "text": [
      "Number of request: 55\n",
      "Number of baths: 9\n",
      "Number of drying steps: 4\n"
     ]
    }
   ],
   "source": [
    "print(\"Number of request: %s\" %ss.N,)\n",
    "print(\"Number of baths: %s\" %ss.M)\n",
    "print(\"Number of drying steps: %s\" %ss.H)"
   ]
  },
  {
   "cell_type": "code",
   "execution_count": 23,
   "metadata": {},
   "outputs": [
    {
     "data": {
      "text/plain": [
       "[[38, 89, 70, 49, 84, 33, 100, 9, 28],\n",
       " [35, 30, 36, 30, 13, 18, 67, 11, 98],\n",
       " [74, 96, 82, 50, 25, 63, 75, 11, 38],\n",
       " [31, 22, 34, 11, 11, 37, 7, 13, 69],\n",
       " [77, 49, 66, 39, 8, 13, 46, 80, 85]]"
      ]
     },
     "execution_count": 23,
     "metadata": {},
     "output_type": "execute_result"
    }
   ],
   "source": [
    "ss.tin[:5] # zero-based index. That is, the first request can be called by ss.tin[0]"
   ]
  },
  {
   "cell_type": "code",
   "execution_count": 24,
   "metadata": {},
   "outputs": [
    {
     "data": {
      "text/plain": [
       "[3, 6, 7, 8]"
      ]
     },
     "execution_count": 24,
     "metadata": {},
     "output_type": "execute_result"
    }
   ],
   "source": [
    "ss.b"
   ]
  },
  {
   "cell_type": "markdown",
   "metadata": {},
   "source": [
    "### 0.1.5 - Retrieving the proposed solution values"
   ]
  },
  {
   "cell_type": "code",
   "execution_count": 51,
   "metadata": {},
   "outputs": [
    {
     "data": {
      "text/plain": [
       "4796"
      ]
     },
     "execution_count": 51,
     "metadata": {},
     "output_type": "execute_result"
    }
   ],
   "source": [
    "set_type = 'prueba'\n",
    "filepath = os.path.join(raw_data_path, \"@valores_ejemplares_{}.txt\".format(set_type))\n",
    "\n",
    "solution_lines = []\n",
    "\n",
    "with open(filepath, 'r') as file:\n",
    "    for line in file:\n",
    "        solution_lines.append(line)\n",
    "        \n",
    "index = 8\n",
    "solution_value = int(solution_lines[index+1].strip().split()[-1])\n",
    "solution_value"
   ]
  }
 ],
 "metadata": {
  "kernelspec": {
   "display_name": "Python 3",
   "language": "python",
   "name": "python3"
  },
  "language_info": {
   "codemirror_mode": {
    "name": "ipython",
    "version": 3
   },
   "file_extension": ".py",
   "mimetype": "text/x-python",
   "name": "python",
   "nbconvert_exporter": "python",
   "pygments_lexer": "ipython3",
   "version": "3.7.1"
  }
 },
 "nbformat": 4,
 "nbformat_minor": 2
}
