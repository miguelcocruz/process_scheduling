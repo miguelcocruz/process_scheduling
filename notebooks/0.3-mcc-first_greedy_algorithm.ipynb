{
 "cells": [
  {
   "cell_type": "markdown",
   "metadata": {},
   "source": [
    "## 0.3 - Developing a greedy algorithm\n",
    "\n",
    "This notebook will contain a simple greedy algorithm created used the functions constructed in the notebook 0.2. \n",
    "\n",
    "The greedy algorithm starts with a given request (*request 1*). Then:\n",
    "- assign one request at a time and store its *tf* (instant of time the request leaves the last bath)\n",
    "- the request which yields the lowest *tf* is assigned\n",
    "- repeat previous steps until there are no requests to be assigned\n",
    "\n",
    "After this first algorithm, greedy algorithms with different indicators will be tested."
   ]
  },
  {
   "cell_type": "code",
   "execution_count": 1,
   "metadata": {},
   "outputs": [],
   "source": [
    "%load_ext autoreload\n",
    "%autoreload 2"
   ]
  },
  {
   "cell_type": "code",
   "execution_count": 2,
   "metadata": {},
   "outputs": [],
   "source": [
    "from src import ps\n",
    "import matplotlib.pyplot as plt\n",
    "import numpy as np\n",
    "import pandas as pd"
   ]
  },
  {
   "cell_type": "code",
   "execution_count": 3,
   "metadata": {},
   "outputs": [],
   "source": [
    "ss = ps.Schedule()\n",
    "ss.load_data('prueba', 8)"
   ]
  },
  {
   "cell_type": "code",
   "execution_count": 4,
   "metadata": {},
   "outputs": [],
   "source": [
    "# Implementation of the greedy algorithm\n",
    "\n",
    "first = 0\n",
    "\n",
    "tb1, ts1, tf1 = ss.first_assignment(first)\n",
    "\n",
    "_tb = [None for _ in range(ss.N)]\n",
    "_ts = [None for _ in range(ss.N)]\n",
    "_tf = [None for _ in range(ss.N)]\n",
    "tb_aux, ts_aux, tf_aux = [], [], []\n",
    "\n",
    "_tb[first], _ts[first], _tf[first] = tb1.copy(), ts1.copy(), tf1.copy()\n",
    "\n",
    "unused_requests = set(range(ss.N)) - {first}\n",
    "\n",
    "order = [first]\n",
    "\n",
    "while len(unused_requests) > 0:\n",
    "    ds = []\n",
    "    new = True\n",
    "    ds_opt = 0\n",
    "\n",
    "    for i in unused_requests:\n",
    "        tb2, ts2, tf2 = ss.assign_new_request(tb1, ts1, tf1, i)\n",
    "\n",
    "        ds.append(tf2)\n",
    "\n",
    "        if ds[-1] < ds_opt or new:\n",
    "            ds_opt = ds[-1].copy()\n",
    "            tb_opt, ts_opt, tf_opt = tb2.copy(), ts2.copy(), tf2.copy()\n",
    "            i_add = i\n",
    "            new = False\n",
    "\n",
    "    new = True\n",
    "    unused_requests -= {i_add}\n",
    "    order.append(i_add)\n",
    "\n",
    "    _tb[i_add] = tb_opt.copy()\n",
    "    _ts[i_add] = ts_opt.copy()\n",
    "    _tf[i_add] = tf_opt.copy()\n",
    "\n",
    "    tb1, ts1, tf1 = tb_opt.copy(), ts_opt.copy(), tf_opt.copy()\n"
   ]
  },
  {
   "cell_type": "code",
   "execution_count": 5,
   "metadata": {},
   "outputs": [
    {
     "data": {
      "image/png": "[encoded data removed]",
      "text/plain": [
       "<Figure size 432x288 with 1 Axes>"
      ]
     },
     "metadata": {
      "needs_background": "light"
     },
     "output_type": "display_data"
    }
   ],
   "source": [
    "fig, ax = plt.subplots()\n",
    "co = ['lightcoral', 'yellow', 'plum', 'grey', 'royalblue', 'maroon', 'coral', 'g', 'red', 'sienna']\n",
    "\n",
    "ax.set_xlabel('Time')\n",
    "ax.set_ylabel('Request')\n",
    "\n",
    "pp = 0\n",
    "\n",
    "for i in order:\n",
    "    pp += 1\n",
    "    ax.broken_barh(ss.compute_Vb(_tb[i], _ts[i], _tf[i]), yrange=(pp,1), color=co)"
   ]
  },
  {
   "cell_type": "code",
   "execution_count": 6,
   "metadata": {},
   "outputs": [
    {
     "data": {
      "text/plain": [
       "5898.0"
      ]
     },
     "execution_count": 6,
     "metadata": {},
     "output_type": "execute_result"
    }
   ],
   "source": [
    "max(_tf)"
   ]
  },
  {
   "cell_type": "markdown",
   "metadata": {},
   "source": [
    "### Testing indicators"
   ]
  },
  {
   "cell_type": "code",
   "execution_count": 7,
   "metadata": {},
   "outputs": [],
   "source": [
    "def assign_all(first, method):\n",
    "\n",
    "    tb1, ts1, tf1 = ss.first_assignment(first)\n",
    "\n",
    "    _tb = [None for _ in range(ss.N)]\n",
    "    _ts = [None for _ in range(ss.N)]\n",
    "    _tf = [None for _ in range(ss.N)]\n",
    "    tb_aux, ts_aux, tf_aux = [], [], []\n",
    "\n",
    "    _tb[first], _ts[first], _tf[first] = tb1.copy(), ts1.copy(), tf1.copy()\n",
    "\n",
    "    unused_requests = set(range(ss.N)) - {first}\n",
    "\n",
    "    order = [first]\n",
    "\n",
    "    while len(unused_requests) > 0:\n",
    "        ds = []\n",
    "        new = True\n",
    "        ds_opt = 0\n",
    "\n",
    "        for i in unused_requests:\n",
    "            tb2, ts2, tf2 = ss.assign_new_request(tb1, ts1, tf1, i)\n",
    "            \n",
    "            if method == 'tf':\n",
    "                ds.append(tf2)\n",
    "            elif method == 'id':\n",
    "                ds.append(idle_time(tb1, ts1, tf1, tb2, ts2, tf2))\n",
    "            elif method == 'itf':\n",
    "                ds.append(idle_time(tb1, ts1, tf1, tb2, ts2, tf2) * tf2)\n",
    "            elif method == 'ef':\n",
    "                ds.append(idle_time(tb1, ts1, tf1, tb2, ts2, tf2) * efficiency(tb2, ts2, tf2, i) * tf2)\n",
    "            elif method == 'wid':\n",
    "                ds.append(weighted_idle_time(tb1, ts1, tf1, tb2, ts2, tf2))\n",
    "            elif method == 'wt':\n",
    "                ds.append(weighted_idle_time(tb1, ts1, tf1, tb2, ts2, tf2) * tf2)\n",
    "               \n",
    "\n",
    "            if ds[-1] < ds_opt or new:\n",
    "                ds_opt = ds[-1].copy()\n",
    "                tb_opt, ts_opt, tf_opt = tb2.copy(), ts2.copy(), tf2.copy()\n",
    "                i_add = i\n",
    "                new = False\n",
    "\n",
    "        new = True\n",
    "        unused_requests -= {i_add}\n",
    "        order.append(i_add)\n",
    "\n",
    "        _tb[i_add] = tb_opt.copy()\n",
    "        _ts[i_add] = ts_opt.copy()\n",
    "        _tf[i_add] = tf_opt.copy()\n",
    "\n",
    "        tb1, ts1, tf1 = tb_opt.copy(), ts_opt.copy(), tf_opt.copy()\n",
    "    \n",
    "    return _tb, _ts, _tf, order"
   ]
  },
  {
   "cell_type": "code",
   "execution_count": 8,
   "metadata": {},
   "outputs": [],
   "source": [
    "result = dict()"
   ]
  },
  {
   "cell_type": "markdown",
   "metadata": {},
   "source": [
    "#### Indicator: *tf*"
   ]
  },
  {
   "cell_type": "code",
   "execution_count": 10,
   "metadata": {},
   "outputs": [
    {
     "name": "stdout",
     "output_type": "stream",
     "text": [
      "Wall time: 6.84 s\n"
     ]
    }
   ],
   "source": [
    "%%time\n",
    "result['tf'] = [0 for _ in range(ss.N)]\n",
    "\n",
    "for i in range(ss.N):\n",
    "    tb_, ts_, tf_, order_ = assign_all(i, 'tf')\n",
    "    result['tf'][i] = max(tf_)"
   ]
  },
  {
   "cell_type": "markdown",
   "metadata": {},
   "source": [
    "#### Indicator: *idle time*\n",
    "\n",
    "It is based on the idea that idle times should be minimized. It computes the difference between the time a request's bath ends and the time the same bath for the next request starts. Then, it returns the sum of the absolute values. "
   ]
  },
  {
   "cell_type": "code",
   "execution_count": 23,
   "metadata": {},
   "outputs": [],
   "source": [
    "def idle_time(tb1, ts1, tf1, tb2, ts2, tf2):\n",
    "    \n",
    "    _dis = [abs(tb2[j] - tb1[j + 1]) if j + 1 not in ss.b else abs(tb2[j] - ts1[ss.b.index(j + 1)]) for j in range(ss.M - 1)]\n",
    "    _dis.append(abs(tf1 - tb2[-1]))\n",
    "\n",
    "    return sum(_dis)"
   ]
  },
  {
   "cell_type": "code",
   "execution_count": 24,
   "metadata": {},
   "outputs": [
    {
     "name": "stdout",
     "output_type": "stream",
     "text": [
      "Wall time: 8.44 s\n"
     ]
    }
   ],
   "source": [
    "%%time\n",
    "result['id'] = [0 for _ in range(ss.N)]\n",
    "\n",
    "for i in range(ss.N):\n",
    "    tb_, ts_, tf_, order_ = assign_all(i, 'id')\n",
    "    result['id'][i] = max(tf_)"
   ]
  },
  {
   "cell_type": "markdown",
   "metadata": {},
   "source": [
    "#### Indicator: *idle time x tf*"
   ]
  },
  {
   "cell_type": "code",
   "execution_count": 20,
   "metadata": {},
   "outputs": [
    {
     "name": "stdout",
     "output_type": "stream",
     "text": [
      "Wall time: 9.34 s\n"
     ]
    }
   ],
   "source": [
    "%%time\n",
    "result['itf'] = [0 for _ in range(ss.N)]\n",
    "\n",
    "for i in range(ss.N):\n",
    "    tb_, ts_, tf_, order_ = assign_all(i, 'itf')\n",
    "    result['itf'][i] = max(tf_)"
   ]
  },
  {
   "cell_type": "markdown",
   "metadata": {},
   "source": [
    "#### Indicator: *idle time x efficiency*"
   ]
  },
  {
   "cell_type": "code",
   "execution_count": 21,
   "metadata": {},
   "outputs": [],
   "source": [
    "def efficiency(tb1, ts1, tf1, index):\n",
    "    _v1 = ss.compute_Vb(tb1, ts1, tf1)\n",
    "    used_time = sum([v[1] for v in _v1])\n",
    "    min_time = sum(ss.tin[index])\n",
    "    max_time = sum(ss.tax[index])\n",
    "    \n",
    "    return (used_time - min_time) / (max_time + 1 - used_time)"
   ]
  },
  {
   "cell_type": "code",
   "execution_count": 22,
   "metadata": {},
   "outputs": [
    {
     "name": "stdout",
     "output_type": "stream",
     "text": [
      "Wall time: 13 s\n"
     ]
    }
   ],
   "source": [
    "%%time\n",
    "result['ef'] = [0 for _ in range(ss.N)]\n",
    "\n",
    "for i in range(ss.N):\n",
    "    tb_, ts_, tf_, order_ = assign_all(i, 'ef')\n",
    "    result['ef'][i] = max(tf_)"
   ]
  },
  {
   "cell_type": "markdown",
   "metadata": {},
   "source": [
    "#### Indicator: *weighted idle time*\n",
    "\n",
    "It is based on the idea that inefficiency (large idle times) tends to get larger for the last baths. Therefore, it should be given priority to requests whose first baths are close together i.e. have small idle times. For later baths, the inefficiency of the previous requests should 'accommodate' the idle times of the next requests."
   ]
  },
  {
   "cell_type": "code",
   "execution_count": 25,
   "metadata": {},
   "outputs": [],
   "source": [
    "def weighted_idle_time(tb1, ts1, tf1, tb2, ts2, tf2):\n",
    "    \n",
    "    _dis = [abs(tb2[j] - tb1[j + 1]) ** (j + 1) if j + 1 not in ss.b else abs(tb2[j] - ts1[ss.b.index(j + 1)]) ** (j + 1) for j in range(ss.M - 1)]\n",
    "    _dis.append(abs(tf1 - tb2[-1]) ** (ss.M))\n",
    "\n",
    "    return sum(_dis)"
   ]
  },
  {
   "cell_type": "code",
   "execution_count": 26,
   "metadata": {},
   "outputs": [
    {
     "name": "stdout",
     "output_type": "stream",
     "text": [
      "Wall time: 9.66 s\n"
     ]
    }
   ],
   "source": [
    "%%time\n",
    "result['wid'] = [0 for _ in range(ss.N)]\n",
    "\n",
    "for i in range(ss.N):\n",
    "    tb_, ts_, tf_, order_ = assign_all(i, 'wid')\n",
    "    result['wid'][i] = max(tf_)"
   ]
  },
  {
   "cell_type": "markdown",
   "metadata": {},
   "source": [
    "#### Indicator: *weighted idle time x tf*"
   ]
  },
  {
   "cell_type": "code",
   "execution_count": 27,
   "metadata": {},
   "outputs": [
    {
     "name": "stdout",
     "output_type": "stream",
     "text": [
      "Wall time: 9.37 s\n"
     ]
    }
   ],
   "source": [
    "%%time\n",
    "result['wt'] = [0 for _ in range(ss.N)]\n",
    "\n",
    "for i in range(ss.N):\n",
    "    tb_, ts_, tf_, order_ = assign_all(i, 'wt')\n",
    "    result['wt'][i] = max(tf_)"
   ]
  },
  {
   "cell_type": "markdown",
   "metadata": {},
   "source": [
    "### Comparing the results"
   ]
  },
  {
   "cell_type": "code",
   "execution_count": 28,
   "metadata": {},
   "outputs": [],
   "source": [
    "results_df = pd.DataFrame(result)"
   ]
  },
  {
   "cell_type": "code",
   "execution_count": 29,
   "metadata": {},
   "outputs": [],
   "source": [
    "results_df['best'] = results_df.idxmin(1)"
   ]
  },
  {
   "cell_type": "code",
   "execution_count": 30,
   "metadata": {},
   "outputs": [
    {
     "data": {
      "text/html": [
       "<div>\n",
       "<style scoped>\n",
       "    .dataframe tbody tr th:only-of-type {\n",
       "        vertical-align: middle;\n",
       "    }\n",
       "\n",
       "    .dataframe tbody tr th {\n",
       "        vertical-align: top;\n",
       "    }\n",
       "\n",
       "    .dataframe thead th {\n",
       "        text-align: right;\n",
       "    }\n",
       "</style>\n",
       "<table border=\"1\" class=\"dataframe\">\n",
       "  <thead>\n",
       "    <tr style=\"text-align: right;\">\n",
       "      <th></th>\n",
       "      <th>tf</th>\n",
       "      <th>id</th>\n",
       "      <th>itf</th>\n",
       "      <th>ef</th>\n",
       "      <th>wid</th>\n",
       "      <th>wt</th>\n",
       "      <th>best</th>\n",
       "    </tr>\n",
       "  </thead>\n",
       "  <tbody>\n",
       "    <tr>\n",
       "      <th>0</th>\n",
       "      <td>5898.0</td>\n",
       "      <td>5128.0</td>\n",
       "      <td>5564.0</td>\n",
       "      <td>5950.0</td>\n",
       "      <td>5566.0</td>\n",
       "      <td>5564.0</td>\n",
       "      <td>id</td>\n",
       "    </tr>\n",
       "    <tr>\n",
       "      <th>1</th>\n",
       "      <td>5746.0</td>\n",
       "      <td>5110.0</td>\n",
       "      <td>5479.0</td>\n",
       "      <td>5967.0</td>\n",
       "      <td>5481.0</td>\n",
       "      <td>5479.0</td>\n",
       "      <td>id</td>\n",
       "    </tr>\n",
       "    <tr>\n",
       "      <th>2</th>\n",
       "      <td>5771.0</td>\n",
       "      <td>5130.0</td>\n",
       "      <td>5700.0</td>\n",
       "      <td>5935.0</td>\n",
       "      <td>5702.0</td>\n",
       "      <td>5700.0</td>\n",
       "      <td>id</td>\n",
       "    </tr>\n",
       "    <tr>\n",
       "      <th>3</th>\n",
       "      <td>5756.0</td>\n",
       "      <td>5113.0</td>\n",
       "      <td>5487.0</td>\n",
       "      <td>5898.0</td>\n",
       "      <td>5489.0</td>\n",
       "      <td>5487.0</td>\n",
       "      <td>id</td>\n",
       "    </tr>\n",
       "    <tr>\n",
       "      <th>4</th>\n",
       "      <td>5841.0</td>\n",
       "      <td>5199.0</td>\n",
       "      <td>5595.0</td>\n",
       "      <td>5948.0</td>\n",
       "      <td>5597.0</td>\n",
       "      <td>5595.0</td>\n",
       "      <td>id</td>\n",
       "    </tr>\n",
       "    <tr>\n",
       "      <th>5</th>\n",
       "      <td>5859.0</td>\n",
       "      <td>5125.0</td>\n",
       "      <td>5494.0</td>\n",
       "      <td>5669.0</td>\n",
       "      <td>5494.0</td>\n",
       "      <td>5494.0</td>\n",
       "      <td>id</td>\n",
       "    </tr>\n",
       "    <tr>\n",
       "      <th>6</th>\n",
       "      <td>5758.0</td>\n",
       "      <td>5245.0</td>\n",
       "      <td>5564.0</td>\n",
       "      <td>5734.0</td>\n",
       "      <td>5566.0</td>\n",
       "      <td>5564.0</td>\n",
       "      <td>id</td>\n",
       "    </tr>\n",
       "    <tr>\n",
       "      <th>7</th>\n",
       "      <td>5759.0</td>\n",
       "      <td>5070.0</td>\n",
       "      <td>5506.0</td>\n",
       "      <td>5910.0</td>\n",
       "      <td>5508.0</td>\n",
       "      <td>5506.0</td>\n",
       "      <td>id</td>\n",
       "    </tr>\n",
       "    <tr>\n",
       "      <th>8</th>\n",
       "      <td>5821.0</td>\n",
       "      <td>5320.0</td>\n",
       "      <td>5692.0</td>\n",
       "      <td>5727.0</td>\n",
       "      <td>5694.0</td>\n",
       "      <td>5692.0</td>\n",
       "      <td>id</td>\n",
       "    </tr>\n",
       "    <tr>\n",
       "      <th>9</th>\n",
       "      <td>5693.0</td>\n",
       "      <td>5239.0</td>\n",
       "      <td>5576.0</td>\n",
       "      <td>5923.0</td>\n",
       "      <td>5536.0</td>\n",
       "      <td>5576.0</td>\n",
       "      <td>id</td>\n",
       "    </tr>\n",
       "    <tr>\n",
       "      <th>10</th>\n",
       "      <td>5709.0</td>\n",
       "      <td>4997.0</td>\n",
       "      <td>5437.0</td>\n",
       "      <td>5623.0</td>\n",
       "      <td>5437.0</td>\n",
       "      <td>5437.0</td>\n",
       "      <td>id</td>\n",
       "    </tr>\n",
       "    <tr>\n",
       "      <th>11</th>\n",
       "      <td>5789.0</td>\n",
       "      <td>5145.0</td>\n",
       "      <td>5510.0</td>\n",
       "      <td>5935.0</td>\n",
       "      <td>5512.0</td>\n",
       "      <td>5510.0</td>\n",
       "      <td>id</td>\n",
       "    </tr>\n",
       "    <tr>\n",
       "      <th>12</th>\n",
       "      <td>5851.0</td>\n",
       "      <td>5142.0</td>\n",
       "      <td>5570.0</td>\n",
       "      <td>5745.0</td>\n",
       "      <td>5566.0</td>\n",
       "      <td>5570.0</td>\n",
       "      <td>id</td>\n",
       "    </tr>\n",
       "    <tr>\n",
       "      <th>13</th>\n",
       "      <td>5865.0</td>\n",
       "      <td>5085.0</td>\n",
       "      <td>5590.0</td>\n",
       "      <td>5616.0</td>\n",
       "      <td>5592.0</td>\n",
       "      <td>5590.0</td>\n",
       "      <td>id</td>\n",
       "    </tr>\n",
       "    <tr>\n",
       "      <th>14</th>\n",
       "      <td>5792.0</td>\n",
       "      <td>5097.0</td>\n",
       "      <td>5493.0</td>\n",
       "      <td>6063.0</td>\n",
       "      <td>5495.0</td>\n",
       "      <td>5493.0</td>\n",
       "      <td>id</td>\n",
       "    </tr>\n",
       "    <tr>\n",
       "      <th>15</th>\n",
       "      <td>5823.0</td>\n",
       "      <td>5151.0</td>\n",
       "      <td>5746.0</td>\n",
       "      <td>5764.0</td>\n",
       "      <td>5748.0</td>\n",
       "      <td>5746.0</td>\n",
       "      <td>id</td>\n",
       "    </tr>\n",
       "    <tr>\n",
       "      <th>16</th>\n",
       "      <td>5793.0</td>\n",
       "      <td>5168.0</td>\n",
       "      <td>5611.0</td>\n",
       "      <td>5733.0</td>\n",
       "      <td>5613.0</td>\n",
       "      <td>5611.0</td>\n",
       "      <td>id</td>\n",
       "    </tr>\n",
       "    <tr>\n",
       "      <th>17</th>\n",
       "      <td>5719.0</td>\n",
       "      <td>5107.0</td>\n",
       "      <td>5496.0</td>\n",
       "      <td>5922.0</td>\n",
       "      <td>5498.0</td>\n",
       "      <td>5496.0</td>\n",
       "      <td>id</td>\n",
       "    </tr>\n",
       "    <tr>\n",
       "      <th>18</th>\n",
       "      <td>5850.0</td>\n",
       "      <td>5193.0</td>\n",
       "      <td>5639.0</td>\n",
       "      <td>5945.0</td>\n",
       "      <td>5641.0</td>\n",
       "      <td>5639.0</td>\n",
       "      <td>id</td>\n",
       "    </tr>\n",
       "    <tr>\n",
       "      <th>19</th>\n",
       "      <td>5904.0</td>\n",
       "      <td>5185.0</td>\n",
       "      <td>5766.0</td>\n",
       "      <td>5992.0</td>\n",
       "      <td>5768.0</td>\n",
       "      <td>5766.0</td>\n",
       "      <td>id</td>\n",
       "    </tr>\n",
       "    <tr>\n",
       "      <th>20</th>\n",
       "      <td>5792.0</td>\n",
       "      <td>5193.0</td>\n",
       "      <td>5592.0</td>\n",
       "      <td>5669.0</td>\n",
       "      <td>5594.0</td>\n",
       "      <td>5592.0</td>\n",
       "      <td>id</td>\n",
       "    </tr>\n",
       "    <tr>\n",
       "      <th>21</th>\n",
       "      <td>5832.0</td>\n",
       "      <td>5124.0</td>\n",
       "      <td>5463.0</td>\n",
       "      <td>5667.0</td>\n",
       "      <td>5463.0</td>\n",
       "      <td>5463.0</td>\n",
       "      <td>id</td>\n",
       "    </tr>\n",
       "    <tr>\n",
       "      <th>22</th>\n",
       "      <td>5839.0</td>\n",
       "      <td>5333.0</td>\n",
       "      <td>5581.0</td>\n",
       "      <td>5869.0</td>\n",
       "      <td>5583.0</td>\n",
       "      <td>5581.0</td>\n",
       "      <td>id</td>\n",
       "    </tr>\n",
       "    <tr>\n",
       "      <th>23</th>\n",
       "      <td>5756.0</td>\n",
       "      <td>5110.0</td>\n",
       "      <td>5478.0</td>\n",
       "      <td>5804.0</td>\n",
       "      <td>5480.0</td>\n",
       "      <td>5478.0</td>\n",
       "      <td>id</td>\n",
       "    </tr>\n",
       "    <tr>\n",
       "      <th>24</th>\n",
       "      <td>5886.0</td>\n",
       "      <td>5312.0</td>\n",
       "      <td>5465.0</td>\n",
       "      <td>5784.0</td>\n",
       "      <td>5461.0</td>\n",
       "      <td>5465.0</td>\n",
       "      <td>id</td>\n",
       "    </tr>\n",
       "    <tr>\n",
       "      <th>25</th>\n",
       "      <td>5906.0</td>\n",
       "      <td>5157.0</td>\n",
       "      <td>5595.0</td>\n",
       "      <td>5660.0</td>\n",
       "      <td>5597.0</td>\n",
       "      <td>5595.0</td>\n",
       "      <td>id</td>\n",
       "    </tr>\n",
       "    <tr>\n",
       "      <th>26</th>\n",
       "      <td>5692.0</td>\n",
       "      <td>5161.0</td>\n",
       "      <td>5627.0</td>\n",
       "      <td>5736.0</td>\n",
       "      <td>5623.0</td>\n",
       "      <td>5627.0</td>\n",
       "      <td>id</td>\n",
       "    </tr>\n",
       "    <tr>\n",
       "      <th>27</th>\n",
       "      <td>5692.0</td>\n",
       "      <td>5096.0</td>\n",
       "      <td>5504.0</td>\n",
       "      <td>5645.0</td>\n",
       "      <td>5531.0</td>\n",
       "      <td>5504.0</td>\n",
       "      <td>id</td>\n",
       "    </tr>\n",
       "    <tr>\n",
       "      <th>28</th>\n",
       "      <td>5773.0</td>\n",
       "      <td>5142.0</td>\n",
       "      <td>5558.0</td>\n",
       "      <td>5750.0</td>\n",
       "      <td>5558.0</td>\n",
       "      <td>5558.0</td>\n",
       "      <td>id</td>\n",
       "    </tr>\n",
       "    <tr>\n",
       "      <th>29</th>\n",
       "      <td>5886.0</td>\n",
       "      <td>5171.0</td>\n",
       "      <td>5587.0</td>\n",
       "      <td>6126.0</td>\n",
       "      <td>5565.0</td>\n",
       "      <td>5587.0</td>\n",
       "      <td>id</td>\n",
       "    </tr>\n",
       "    <tr>\n",
       "      <th>30</th>\n",
       "      <td>5756.0</td>\n",
       "      <td>5101.0</td>\n",
       "      <td>5468.0</td>\n",
       "      <td>5879.0</td>\n",
       "      <td>5470.0</td>\n",
       "      <td>5468.0</td>\n",
       "      <td>id</td>\n",
       "    </tr>\n",
       "    <tr>\n",
       "      <th>31</th>\n",
       "      <td>5831.0</td>\n",
       "      <td>5139.0</td>\n",
       "      <td>5530.0</td>\n",
       "      <td>5743.0</td>\n",
       "      <td>5526.0</td>\n",
       "      <td>5530.0</td>\n",
       "      <td>id</td>\n",
       "    </tr>\n",
       "    <tr>\n",
       "      <th>32</th>\n",
       "      <td>5748.0</td>\n",
       "      <td>5132.0</td>\n",
       "      <td>5667.0</td>\n",
       "      <td>5833.0</td>\n",
       "      <td>5669.0</td>\n",
       "      <td>5667.0</td>\n",
       "      <td>id</td>\n",
       "    </tr>\n",
       "    <tr>\n",
       "      <th>33</th>\n",
       "      <td>5793.0</td>\n",
       "      <td>5158.0</td>\n",
       "      <td>5522.0</td>\n",
       "      <td>5591.0</td>\n",
       "      <td>5524.0</td>\n",
       "      <td>5522.0</td>\n",
       "      <td>id</td>\n",
       "    </tr>\n",
       "    <tr>\n",
       "      <th>34</th>\n",
       "      <td>5799.0</td>\n",
       "      <td>5162.0</td>\n",
       "      <td>5453.0</td>\n",
       "      <td>5951.0</td>\n",
       "      <td>5449.0</td>\n",
       "      <td>5453.0</td>\n",
       "      <td>id</td>\n",
       "    </tr>\n",
       "    <tr>\n",
       "      <th>35</th>\n",
       "      <td>5792.0</td>\n",
       "      <td>5130.0</td>\n",
       "      <td>5585.0</td>\n",
       "      <td>5871.0</td>\n",
       "      <td>5585.0</td>\n",
       "      <td>5585.0</td>\n",
       "      <td>id</td>\n",
       "    </tr>\n",
       "    <tr>\n",
       "      <th>36</th>\n",
       "      <td>5710.0</td>\n",
       "      <td>5115.0</td>\n",
       "      <td>5508.0</td>\n",
       "      <td>5965.0</td>\n",
       "      <td>5528.0</td>\n",
       "      <td>5508.0</td>\n",
       "      <td>id</td>\n",
       "    </tr>\n",
       "    <tr>\n",
       "      <th>37</th>\n",
       "      <td>5745.0</td>\n",
       "      <td>5093.0</td>\n",
       "      <td>5474.0</td>\n",
       "      <td>5601.0</td>\n",
       "      <td>5470.0</td>\n",
       "      <td>5474.0</td>\n",
       "      <td>id</td>\n",
       "    </tr>\n",
       "    <tr>\n",
       "      <th>38</th>\n",
       "      <td>5753.0</td>\n",
       "      <td>5116.0</td>\n",
       "      <td>5585.0</td>\n",
       "      <td>5981.0</td>\n",
       "      <td>5587.0</td>\n",
       "      <td>5585.0</td>\n",
       "      <td>id</td>\n",
       "    </tr>\n",
       "    <tr>\n",
       "      <th>39</th>\n",
       "      <td>5852.0</td>\n",
       "      <td>5192.0</td>\n",
       "      <td>5613.0</td>\n",
       "      <td>5925.0</td>\n",
       "      <td>5613.0</td>\n",
       "      <td>5613.0</td>\n",
       "      <td>id</td>\n",
       "    </tr>\n",
       "    <tr>\n",
       "      <th>40</th>\n",
       "      <td>5876.0</td>\n",
       "      <td>5173.0</td>\n",
       "      <td>5670.0</td>\n",
       "      <td>5898.0</td>\n",
       "      <td>5625.0</td>\n",
       "      <td>5670.0</td>\n",
       "      <td>id</td>\n",
       "    </tr>\n",
       "    <tr>\n",
       "      <th>41</th>\n",
       "      <td>5850.0</td>\n",
       "      <td>5324.0</td>\n",
       "      <td>5606.0</td>\n",
       "      <td>5809.0</td>\n",
       "      <td>5608.0</td>\n",
       "      <td>5606.0</td>\n",
       "      <td>id</td>\n",
       "    </tr>\n",
       "    <tr>\n",
       "      <th>42</th>\n",
       "      <td>5645.0</td>\n",
       "      <td>5154.0</td>\n",
       "      <td>5578.0</td>\n",
       "      <td>6112.0</td>\n",
       "      <td>5580.0</td>\n",
       "      <td>5578.0</td>\n",
       "      <td>id</td>\n",
       "    </tr>\n",
       "    <tr>\n",
       "      <th>43</th>\n",
       "      <td>5770.0</td>\n",
       "      <td>5159.0</td>\n",
       "      <td>5593.0</td>\n",
       "      <td>5856.0</td>\n",
       "      <td>5593.0</td>\n",
       "      <td>5593.0</td>\n",
       "      <td>id</td>\n",
       "    </tr>\n",
       "    <tr>\n",
       "      <th>44</th>\n",
       "      <td>5711.0</td>\n",
       "      <td>5160.0</td>\n",
       "      <td>5592.0</td>\n",
       "      <td>5685.0</td>\n",
       "      <td>5592.0</td>\n",
       "      <td>5592.0</td>\n",
       "      <td>id</td>\n",
       "    </tr>\n",
       "    <tr>\n",
       "      <th>45</th>\n",
       "      <td>5752.0</td>\n",
       "      <td>5106.0</td>\n",
       "      <td>5534.0</td>\n",
       "      <td>5927.0</td>\n",
       "      <td>5530.0</td>\n",
       "      <td>5534.0</td>\n",
       "      <td>id</td>\n",
       "    </tr>\n",
       "    <tr>\n",
       "      <th>46</th>\n",
       "      <td>5784.0</td>\n",
       "      <td>5170.0</td>\n",
       "      <td>5635.0</td>\n",
       "      <td>5643.0</td>\n",
       "      <td>5637.0</td>\n",
       "      <td>5635.0</td>\n",
       "      <td>id</td>\n",
       "    </tr>\n",
       "    <tr>\n",
       "      <th>47</th>\n",
       "      <td>5610.0</td>\n",
       "      <td>5096.0</td>\n",
       "      <td>5455.0</td>\n",
       "      <td>5900.0</td>\n",
       "      <td>5457.0</td>\n",
       "      <td>5455.0</td>\n",
       "      <td>id</td>\n",
       "    </tr>\n",
       "    <tr>\n",
       "      <th>48</th>\n",
       "      <td>5850.0</td>\n",
       "      <td>5142.0</td>\n",
       "      <td>5554.0</td>\n",
       "      <td>5966.0</td>\n",
       "      <td>5556.0</td>\n",
       "      <td>5554.0</td>\n",
       "      <td>id</td>\n",
       "    </tr>\n",
       "    <tr>\n",
       "      <th>49</th>\n",
       "      <td>5678.0</td>\n",
       "      <td>5137.0</td>\n",
       "      <td>5613.0</td>\n",
       "      <td>5818.0</td>\n",
       "      <td>5615.0</td>\n",
       "      <td>5613.0</td>\n",
       "      <td>id</td>\n",
       "    </tr>\n",
       "    <tr>\n",
       "      <th>50</th>\n",
       "      <td>5719.0</td>\n",
       "      <td>5165.0</td>\n",
       "      <td>5603.0</td>\n",
       "      <td>5637.0</td>\n",
       "      <td>5640.0</td>\n",
       "      <td>5603.0</td>\n",
       "      <td>id</td>\n",
       "    </tr>\n",
       "    <tr>\n",
       "      <th>51</th>\n",
       "      <td>5591.0</td>\n",
       "      <td>5103.0</td>\n",
       "      <td>5546.0</td>\n",
       "      <td>5822.0</td>\n",
       "      <td>5548.0</td>\n",
       "      <td>5546.0</td>\n",
       "      <td>id</td>\n",
       "    </tr>\n",
       "    <tr>\n",
       "      <th>52</th>\n",
       "      <td>5755.0</td>\n",
       "      <td>5101.0</td>\n",
       "      <td>5500.0</td>\n",
       "      <td>5957.0</td>\n",
       "      <td>5502.0</td>\n",
       "      <td>5500.0</td>\n",
       "      <td>id</td>\n",
       "    </tr>\n",
       "    <tr>\n",
       "      <th>53</th>\n",
       "      <td>5793.0</td>\n",
       "      <td>5188.0</td>\n",
       "      <td>5563.0</td>\n",
       "      <td>5801.0</td>\n",
       "      <td>5565.0</td>\n",
       "      <td>5563.0</td>\n",
       "      <td>id</td>\n",
       "    </tr>\n",
       "    <tr>\n",
       "      <th>54</th>\n",
       "      <td>5745.0</td>\n",
       "      <td>5127.0</td>\n",
       "      <td>5527.0</td>\n",
       "      <td>6100.0</td>\n",
       "      <td>5529.0</td>\n",
       "      <td>5527.0</td>\n",
       "      <td>id</td>\n",
       "    </tr>\n",
       "  </tbody>\n",
       "</table>\n",
       "</div>"
      ],
      "text/plain": [
       "        tf      id     itf      ef     wid      wt best\n",
       "0   5898.0  5128.0  5564.0  5950.0  5566.0  5564.0   id\n",
       "1   5746.0  5110.0  5479.0  5967.0  5481.0  5479.0   id\n",
       "2   5771.0  5130.0  5700.0  5935.0  5702.0  5700.0   id\n",
       "3   5756.0  5113.0  5487.0  5898.0  5489.0  5487.0   id\n",
       "4   5841.0  5199.0  5595.0  5948.0  5597.0  5595.0   id\n",
       "5   5859.0  5125.0  5494.0  5669.0  5494.0  5494.0   id\n",
       "6   5758.0  5245.0  5564.0  5734.0  5566.0  5564.0   id\n",
       "7   5759.0  5070.0  5506.0  5910.0  5508.0  5506.0   id\n",
       "8   5821.0  5320.0  5692.0  5727.0  5694.0  5692.0   id\n",
       "9   5693.0  5239.0  5576.0  5923.0  5536.0  5576.0   id\n",
       "10  5709.0  4997.0  5437.0  5623.0  5437.0  5437.0   id\n",
       "11  5789.0  5145.0  5510.0  5935.0  5512.0  5510.0   id\n",
       "12  5851.0  5142.0  5570.0  5745.0  5566.0  5570.0   id\n",
       "13  5865.0  5085.0  5590.0  5616.0  5592.0  5590.0   id\n",
       "14  5792.0  5097.0  5493.0  6063.0  5495.0  5493.0   id\n",
       "15  5823.0  5151.0  5746.0  5764.0  5748.0  5746.0   id\n",
       "16  5793.0  5168.0  5611.0  5733.0  5613.0  5611.0   id\n",
       "17  5719.0  5107.0  5496.0  5922.0  5498.0  5496.0   id\n",
       "18  5850.0  5193.0  5639.0  5945.0  5641.0  5639.0   id\n",
       "19  5904.0  5185.0  5766.0  5992.0  5768.0  5766.0   id\n",
       "20  5792.0  5193.0  5592.0  5669.0  5594.0  5592.0   id\n",
       "21  5832.0  5124.0  5463.0  5667.0  5463.0  5463.0   id\n",
       "22  5839.0  5333.0  5581.0  5869.0  5583.0  5581.0   id\n",
       "23  5756.0  5110.0  5478.0  5804.0  5480.0  5478.0   id\n",
       "24  5886.0  5312.0  5465.0  5784.0  5461.0  5465.0   id\n",
       "25  5906.0  5157.0  5595.0  5660.0  5597.0  5595.0   id\n",
       "26  5692.0  5161.0  5627.0  5736.0  5623.0  5627.0   id\n",
       "27  5692.0  5096.0  5504.0  5645.0  5531.0  5504.0   id\n",
       "28  5773.0  5142.0  5558.0  5750.0  5558.0  5558.0   id\n",
       "29  5886.0  5171.0  5587.0  6126.0  5565.0  5587.0   id\n",
       "30  5756.0  5101.0  5468.0  5879.0  5470.0  5468.0   id\n",
       "31  5831.0  5139.0  5530.0  5743.0  5526.0  5530.0   id\n",
       "32  5748.0  5132.0  5667.0  5833.0  5669.0  5667.0   id\n",
       "33  5793.0  5158.0  5522.0  5591.0  5524.0  5522.0   id\n",
       "34  5799.0  5162.0  5453.0  5951.0  5449.0  5453.0   id\n",
       "35  5792.0  5130.0  5585.0  5871.0  5585.0  5585.0   id\n",
       "36  5710.0  5115.0  5508.0  5965.0  5528.0  5508.0   id\n",
       "37  5745.0  5093.0  5474.0  5601.0  5470.0  5474.0   id\n",
       "38  5753.0  5116.0  5585.0  5981.0  5587.0  5585.0   id\n",
       "39  5852.0  5192.0  5613.0  5925.0  5613.0  5613.0   id\n",
       "40  5876.0  5173.0  5670.0  5898.0  5625.0  5670.0   id\n",
       "41  5850.0  5324.0  5606.0  5809.0  5608.0  5606.0   id\n",
       "42  5645.0  5154.0  5578.0  6112.0  5580.0  5578.0   id\n",
       "43  5770.0  5159.0  5593.0  5856.0  5593.0  5593.0   id\n",
       "44  5711.0  5160.0  5592.0  5685.0  5592.0  5592.0   id\n",
       "45  5752.0  5106.0  5534.0  5927.0  5530.0  5534.0   id\n",
       "46  5784.0  5170.0  5635.0  5643.0  5637.0  5635.0   id\n",
       "47  5610.0  5096.0  5455.0  5900.0  5457.0  5455.0   id\n",
       "48  5850.0  5142.0  5554.0  5966.0  5556.0  5554.0   id\n",
       "49  5678.0  5137.0  5613.0  5818.0  5615.0  5613.0   id\n",
       "50  5719.0  5165.0  5603.0  5637.0  5640.0  5603.0   id\n",
       "51  5591.0  5103.0  5546.0  5822.0  5548.0  5546.0   id\n",
       "52  5755.0  5101.0  5500.0  5957.0  5502.0  5500.0   id\n",
       "53  5793.0  5188.0  5563.0  5801.0  5565.0  5563.0   id\n",
       "54  5745.0  5127.0  5527.0  6100.0  5529.0  5527.0   id"
      ]
     },
     "execution_count": 30,
     "metadata": {},
     "output_type": "execute_result"
    }
   ],
   "source": [
    "results_df"
   ]
  },
  {
   "cell_type": "code",
   "execution_count": 31,
   "metadata": {},
   "outputs": [
    {
     "data": {
      "image/png": "[encoded data removed]",
      "text/plain": [
       "<Figure size 432x288 with 1 Axes>"
      ]
     },
     "metadata": {
      "needs_background": "light"
     },
     "output_type": "display_data"
    }
   ],
   "source": [
    "results_df.boxplot(column=['tf', 'id', 'itf', 'ef', 'wid', 'wt']);"
   ]
  },
  {
   "cell_type": "code",
   "execution_count": 32,
   "metadata": {},
   "outputs": [
    {
     "data": {
      "text/plain": [
       "tf      5591\n",
       "id      4997\n",
       "itf     5437\n",
       "ef      5591\n",
       "wid     5437\n",
       "wt      5437\n",
       "best      id\n",
       "dtype: object"
      ]
     },
     "execution_count": 32,
     "metadata": {},
     "output_type": "execute_result"
    }
   ],
   "source": [
    "results_df.min()"
   ]
  },
  {
   "cell_type": "markdown",
   "metadata": {},
   "source": [
    "### Testing on a different dataset"
   ]
  },
  {
   "cell_type": "code",
   "execution_count": 41,
   "metadata": {},
   "outputs": [],
   "source": [
    "ss.load_data('prueba', 1)"
   ]
  },
  {
   "cell_type": "code",
   "execution_count": 42,
   "metadata": {},
   "outputs": [],
   "source": [
    "def test_indicators(ss, indicators):\n",
    "    _result = dict()\n",
    "    \n",
    "    for ind in indicators:\n",
    "        _result[ind] = [0 for _ in range(ss.N)]\n",
    "\n",
    "        for i in range(ss.N):\n",
    "            tb_, ts_, tf_, order_ = assign_all(i, ind)\n",
    "            _result[ind][i] = max(tf_)\n",
    "            \n",
    "    return _result"
   ]
  },
  {
   "cell_type": "code",
   "execution_count": 43,
   "metadata": {},
   "outputs": [],
   "source": [
    "result2 = test_indicators(ss, ['id', 'itf', 'wid', 'wt'])"
   ]
  },
  {
   "cell_type": "code",
   "execution_count": 44,
   "metadata": {},
   "outputs": [],
   "source": [
    "results2_df = pd.DataFrame(result2)\n",
    "results2_df['best'] = results2_df.idxmin(1)"
   ]
  },
  {
   "cell_type": "code",
   "execution_count": 45,
   "metadata": {},
   "outputs": [
    {
     "data": {
      "image/png": "[encoded data removed]",
      "text/plain": [
       "<Figure size 432x288 with 1 Axes>"
      ]
     },
     "metadata": {
      "needs_background": "light"
     },
     "output_type": "display_data"
    }
   ],
   "source": [
    "results2_df.boxplot(column=['id', 'itf', 'wid', 'wt']);"
   ]
  },
  {
   "cell_type": "code",
   "execution_count": 46,
   "metadata": {},
   "outputs": [
    {
     "data": {
      "text/plain": [
       "id      3067\n",
       "itf     3067\n",
       "wid     3395\n",
       "wt      3395\n",
       "best      id\n",
       "dtype: object"
      ]
     },
     "execution_count": 46,
     "metadata": {},
     "output_type": "execute_result"
    }
   ],
   "source": [
    "results2_df.min()"
   ]
  },
  {
   "cell_type": "code",
   "execution_count": 47,
   "metadata": {},
   "outputs": [
    {
     "data": {
      "text/plain": [
       "3266"
      ]
     },
     "execution_count": 47,
     "metadata": {},
     "output_type": "execute_result"
    }
   ],
   "source": [
    "ps.get_solution_value('prueba', 11)"
   ]
  },
  {
   "cell_type": "markdown",
   "metadata": {},
   "source": [
    "**Conclusion:** a single indicator can't be used for all datasets.\n",
    "\n",
    "Options:\n",
    "* Try to find different indicators\n",
    "* Try to find a different weighting rule\n",
    "* Analyse datasets' characteristics that lead to different best-performing indicators and choose rule to define which one to apply\n",
    "* Train the algorithm and find a linear combination of the indicators that fits well on the majority\n",
    "* Apply multiple greedy algorithms each one with a different indicator"
   ]
  }
 ],
 "metadata": {
  "kernelspec": {
   "display_name": "Python 3",
   "language": "python",
   "name": "python3"
  },
  "language_info": {
   "codemirror_mode": {
    "name": "ipython",
    "version": 3
   },
   "file_extension": ".py",
   "mimetype": "text/x-python",
   "name": "python",
   "nbconvert_exporter": "python",
   "pygments_lexer": "ipython3",
   "version": "3.7.1"
  }
 },
 "nbformat": 4,
 "nbformat_minor": 2
}
