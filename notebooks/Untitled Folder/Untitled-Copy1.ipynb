{
 "cells": [
  {
   "cell_type": "code",
   "execution_count": 32,
   "metadata": {},
   "outputs": [
    {
     "name": "stdout",
     "output_type": "stream",
     "text": [
      "The autoreload extension is already loaded. To reload it, use:\n",
      "  %reload_ext autoreload\n"
     ]
    }
   ],
   "source": [
    "%load_ext autoreload\n",
    "%autoreload 2"
   ]
  },
  {
   "cell_type": "code",
   "execution_count": 33,
   "metadata": {},
   "outputs": [],
   "source": [
    "from src import algo\n",
    "import numpy as np"
   ]
  },
  {
   "cell_type": "code",
   "execution_count": 34,
   "metadata": {},
   "outputs": [],
   "source": [
    "lines = algo.load_data(8)\n",
    "N, M, H, b, tin, tax, sec = algo.parse_data(lines)"
   ]
  },
  {
   "cell_type": "code",
   "execution_count": 35,
   "metadata": {},
   "outputs": [
    {
     "ename": "NameError",
     "evalue": "name 'M' is not defined",
     "output_type": "error",
     "traceback": [
      "\u001b[1;31m---------------------------------------------------------------------------\u001b[0m",
      "\u001b[1;31mNameError\u001b[0m                                 Traceback (most recent call last)",
      "\u001b[1;32m<ipython-input-35-b4a400558ce0>\u001b[0m in \u001b[0;36m<module>\u001b[1;34m()\u001b[0m\n\u001b[1;32m----> 1\u001b[1;33m \u001b[0mtb0\u001b[0m\u001b[1;33m,\u001b[0m \u001b[0mts0\u001b[0m\u001b[1;33m,\u001b[0m \u001b[0mtf0\u001b[0m \u001b[1;33m=\u001b[0m \u001b[0malgo\u001b[0m\u001b[1;33m.\u001b[0m\u001b[0mfirst_assignment\u001b[0m\u001b[1;33m(\u001b[0m\u001b[0mindex\u001b[0m\u001b[1;33m=\u001b[0m\u001b[1;36m0\u001b[0m\u001b[1;33m)\u001b[0m\u001b[1;33m\u001b[0m\u001b[0m\n\u001b[0m",
      "\u001b[1;32mc:\\users\\miguel\\process_scheduling\\src\\algo.py\u001b[0m in \u001b[0;36mfirst_assignment\u001b[1;34m(index)\u001b[0m\n\u001b[0;32m     64\u001b[0m     \u001b[1;32mglobal\u001b[0m \u001b[0mM\u001b[0m\u001b[1;33m,\u001b[0m \u001b[0mH\u001b[0m\u001b[1;33m,\u001b[0m \u001b[0mtin\u001b[0m\u001b[1;33m,\u001b[0m \u001b[0msec\u001b[0m\u001b[1;33m\u001b[0m\u001b[0m\n\u001b[0;32m     65\u001b[0m \u001b[1;33m\u001b[0m\u001b[0m\n\u001b[1;32m---> 66\u001b[1;33m     \u001b[0m_tb\u001b[0m \u001b[1;33m=\u001b[0m \u001b[0mnp\u001b[0m\u001b[1;33m.\u001b[0m\u001b[0mzeros\u001b[0m\u001b[1;33m(\u001b[0m\u001b[0mshape\u001b[0m\u001b[1;33m=\u001b[0m\u001b[1;33m(\u001b[0m\u001b[0mM\u001b[0m\u001b[1;33m)\u001b[0m\u001b[1;33m)\u001b[0m\u001b[1;33m\u001b[0m\u001b[0m\n\u001b[0m\u001b[0;32m     67\u001b[0m     \u001b[0m_ts\u001b[0m \u001b[1;33m=\u001b[0m \u001b[0mnp\u001b[0m\u001b[1;33m.\u001b[0m\u001b[0mzeros\u001b[0m\u001b[1;33m(\u001b[0m\u001b[0mshape\u001b[0m\u001b[1;33m=\u001b[0m\u001b[1;33m(\u001b[0m\u001b[0mH\u001b[0m\u001b[1;33m)\u001b[0m\u001b[1;33m)\u001b[0m\u001b[1;33m\u001b[0m\u001b[0m\n\u001b[0;32m     68\u001b[0m     \u001b[0m_tin\u001b[0m \u001b[1;33m=\u001b[0m \u001b[0mnp\u001b[0m\u001b[1;33m.\u001b[0m\u001b[0marray\u001b[0m\u001b[1;33m(\u001b[0m\u001b[0mtin\u001b[0m\u001b[1;33m[\u001b[0m\u001b[0mindex\u001b[0m\u001b[1;33m]\u001b[0m\u001b[1;33m)\u001b[0m\u001b[1;33m\u001b[0m\u001b[0m\n",
      "\u001b[1;31mNameError\u001b[0m: name 'M' is not defined"
     ]
    }
   ],
   "source": [
    "tb0, ts0, tf0 = algo.first_assignment(index=0)"
   ]
  },
  {
   "cell_type": "code",
   "execution_count": 23,
   "metadata": {},
   "outputs": [],
   "source": [
    "def dissimilarity(tb_1, ts_1, tb_2, ts_2):\n",
    "    global M, H\n",
    "    \n",
    "    #test shifting the array first\n",
    "    \n",
    "    dis1 = [abs(tb_1[i+1] - tb_2[i]) for i in range(M - 1)]\n",
    "    dis2 = [abs(ts_1[i+1] - ts_2[i]) for i in range(H - 1)]\n",
    "\n",
    "    sum1 = sum(dis1)\n",
    "    sum2 = sum(dis2)\n",
    "\n",
    "    return sum1 +  sum2\n"
   ]
  },
  {
   "cell_type": "code",
   "execution_count": 24,
   "metadata": {},
   "outputs": [],
   "source": [
    "def above_min(tb_2, ts_2, tf_2, index):\n",
    "    global M, H, tin\n",
    "    \n",
    "    _T = compute_T_ind(tb_2, ts_2, tf_2)\n",
    "    \n",
    "    return sum(abs(_T - tin[index]))\n",
    "    "
   ]
  },
  {
   "cell_type": "code",
   "execution_count": 25,
   "metadata": {},
   "outputs": [],
   "source": [
    "def compute_T_ind(tb_1, ts_1, tf_1):\n",
    "    \n",
    "    global N, M\n",
    "    \n",
    "    T = np.zeros(shape=(M))\n",
    "    \n",
    "\n",
    "    for j in range(M):\n",
    "        if j == M - 1:\n",
    "            T[j] = tf_1 - tb_1[j]\n",
    "        elif j+1 in b:\n",
    "            T[j] = ts_1[b.index(j+1)] - tb_1[j]\n",
    "        else:\n",
    "            T[j] = tb_1[j+1] - tb_1[j]\n",
    "            \n",
    "    return T"
   ]
  },
  {
   "cell_type": "code",
   "execution_count": 22,
   "metadata": {},
   "outputs": [],
   "source": [
    "from random import randint"
   ]
  },
  {
   "cell_type": "code",
   "execution_count": 26,
   "metadata": {},
   "outputs": [],
   "source": [
    "def get_all(first):\n",
    "    global order\n",
    "    #first = randint(0, N)\n",
    "    \n",
    "    tb1, ts1, tf1 = first_assignment(first)\n",
    "\n",
    "    tb = [None for i in range(N)]\n",
    "    ts = [None for i in range(N)]\n",
    "    tf = [None for i in range(N)]\n",
    "\n",
    "    tb_aux, ts_aux, tf_aux = [], [], []\n",
    "\n",
    "    tb[first], ts[first], tf[first] = tb1.copy(), ts1.copy(), tf1.copy()\n",
    "\n",
    "    #alterar valor inicial aqui e em first_assignment\n",
    "    unused_requests = set(range(N)) - {first}\n",
    "\n",
    "    order = [first]\n",
    "    \n",
    "    while len(unused_requests) > 0:\n",
    "        ds = []\n",
    "        ds_opt = 100000000\n",
    "        \n",
    "        for i in unused_requests:\n",
    "            tb2, ts2, tf2 = assign_new_request(tb1, ts1, tf1, i, True)\n",
    "            \n",
    "            #ds.append(dissimilarity(tb1, ts1, tb2, ts2))\n",
    "            #ds.append(tf2)\n",
    "            #ds.append(above_min(tb2, ts2, tf2, i))\n",
    "            ds.append(dissimilarity_2(tb1, ts1, tb2, ts2, tf1, tf2))\n",
    "            \n",
    "            if ds[-1] < ds_opt:\n",
    "                ds_opt = ds[-1].copy()\n",
    "                tb_opt, ts_opt, tf_opt = tb2.copy(), ts2.copy(), tf2.copy()\n",
    "                i_add = i\n",
    "        \n",
    "        [assign_new_request(tb1, ts1, tf1, i, True) for i in unused_requests]\n",
    "        \n",
    "        unused_requests -= {i_add}\n",
    "\n",
    "        order.append(i_add)\n",
    "        tb[i_add] = tb_opt.copy()\n",
    "        ts[i_add] = ts_opt.copy()\n",
    "        tf[i_add] = tf_opt.copy()\n",
    "\n",
    "        #try it without the copy method\n",
    "        tb1, ts1, tf1 = tb_opt.copy(), ts_opt.copy(), tf_opt.copy()\n",
    "        \n",
    "    \n",
    "    return tb, ts, tf\n"
   ]
  },
  {
   "cell_type": "code",
   "execution_count": 205,
   "metadata": {},
   "outputs": [
    {
     "name": "stdout",
     "output_type": "stream",
     "text": [
      "477 ms ± 15.3 ms per loop (mean ± std. dev. of 7 runs, 5 loops each)\n"
     ]
    }
   ],
   "source": [
    "%timeit -n 5 get_all(0)"
   ]
  },
  {
   "cell_type": "code",
   "execution_count": 215,
   "metadata": {},
   "outputs": [
    {
     "name": "stdout",
     "output_type": "stream",
     "text": [
      "520 ms ± 37.1 ms per loop (mean ± std. dev. of 7 runs, 1 loop each)\n"
     ]
    }
   ],
   "source": [
    "%%timeit\n",
    "\n",
    "first=0\n",
    "\n",
    "tb = [None for _ in range(N)]\n",
    "ts = [None for _ in range(N)]\n",
    "tf = [None for _ in range(N)]\n",
    "\n",
    "tb[first], ts[first], tf[first] = first_assignment(first)\n",
    "\n",
    "unused_requests = set(range(N)) - {first}\n",
    "\n",
    "i_add=first\n",
    "\n",
    "while len(unused_requests) > 0:\n",
    "    dict1 = {i: diss(tb[i_add], ts[i_add], assign_new_request(tb[i_add], ts[i_add], tf[i_add], i, True)) for i in unused_requests}\n",
    "    \n",
    "    i_prev = i_add\n",
    "\n",
    "    i_add = min(dict1, key=dict1.get)\n",
    "\n",
    "    unused_requests -= {i_add}\n",
    "    \n",
    "    tb[i_add], ts[i_add], tf[i_add] = assign_new_request(tb[i_prev], ts[i_prev], tf[i_prev], i_add, True)\n",
    "    "
   ]
  },
  {
   "cell_type": "code",
   "execution_count": 24,
   "metadata": {},
   "outputs": [],
   "source": [
    "def diss(tb_1, ts_1, t_2):\n",
    "    global M, H\n",
    "    \n",
    "    tb_2 = t_2[0]\n",
    "    ts_2 = t_2[1]\n",
    "    \n",
    "    dis1 = [abs(tb_1[i+1] - tb_2[i]) for i in range(M - 1)]\n",
    "    dis2 = [abs(ts_1[i+1] - ts_2[i]) for i in range(H - 1)]\n",
    "\n",
    "    sum1 = sum(dis1)\n",
    "    sum2 = sum(dis2)\n",
    "    \n",
    "    return sum1 + sum2"
   ]
  },
  {
   "cell_type": "code",
   "execution_count": 36,
   "metadata": {},
   "outputs": [
    {
     "name": "stdout",
     "output_type": "stream",
     "text": [
      "1.1725645065307617 6144.0\n",
      "2.266629695892334 5758.0\n",
      "8.594856023788452 5661.0\n",
      "10.814357042312622 5564.0\n",
      "53.579848766326904 5506.0\n"
     ]
    }
   ],
   "source": [
    "best = 100000\n",
    "start = time.time()\n",
    "ti = []\n",
    "fo = []\n",
    "for i in range(N):\n",
    "    tb, ts, tf = get_all(i)\n",
    "    if max(tf) < best:\n",
    "        best = max(tf).copy()\n",
    "        clock = time.time()\n",
    "        ti.append(clock - start)\n",
    "        fo.append(best)\n",
    "        print(ti[-1], fo[-1])\n",
    "    \n",
    "    "
   ]
  },
  {
   "cell_type": "code",
   "execution_count": 39,
   "metadata": {},
   "outputs": [
    {
     "ename": "TypeError",
     "evalue": "write() argument must be str, not int",
     "output_type": "error",
     "traceback": [
      "\u001b[1;31m---------------------------------------------------------------------------\u001b[0m",
      "\u001b[1;31mTypeError\u001b[0m                                 Traceback (most recent call last)",
      "\u001b[1;32m<ipython-input-39-051b9e73b70c>\u001b[0m in \u001b[0;36m<module>\u001b[1;34m()\u001b[0m\n\u001b[1;32m----> 1\u001b[1;33m \u001b[0mwrite_output\u001b[0m\u001b[1;33m(\u001b[0m\u001b[0mtb\u001b[0m\u001b[1;33m,\u001b[0m \u001b[0mts\u001b[0m\u001b[1;33m,\u001b[0m \u001b[0mtf\u001b[0m\u001b[1;33m,\u001b[0m \u001b[0mfo\u001b[0m\u001b[1;33m,\u001b[0m \u001b[0mti\u001b[0m\u001b[1;33m)\u001b[0m\u001b[1;33m\u001b[0m\u001b[0m\n\u001b[0m",
      "\u001b[1;32m<ipython-input-38-19d1153804aa>\u001b[0m in \u001b[0;36mwrite_output\u001b[1;34m(tb, ts, tf, fo, time)\u001b[0m\n\u001b[0;32m      4\u001b[0m             \u001b[0mfile\u001b[0m\u001b[1;33m.\u001b[0m\u001b[0mwrite\u001b[0m\u001b[1;33m(\u001b[0m\u001b[1;34m\"{}*{}\"\u001b[0m\u001b[1;33m.\u001b[0m\u001b[0mformat\u001b[0m\u001b[1;33m(\u001b[0m\u001b[0mstr\u001b[0m\u001b[1;33m(\u001b[0m\u001b[0m_f\u001b[0m\u001b[1;33m)\u001b[0m\u001b[1;33m,\u001b[0m \u001b[0mstr\u001b[0m\u001b[1;33m(\u001b[0m\u001b[0m_t\u001b[0m\u001b[1;33m)\u001b[0m\u001b[1;33m)\u001b[0m\u001b[1;33m)\u001b[0m \u001b[1;31m#tirar str?\u001b[0m\u001b[1;33m\u001b[0m\u001b[0m\n\u001b[0;32m      5\u001b[0m \u001b[1;33m\u001b[0m\u001b[0m\n\u001b[1;32m----> 6\u001b[1;33m         \u001b[0mfile\u001b[0m\u001b[1;33m.\u001b[0m\u001b[0mwrite\u001b[0m\u001b[1;33m(\u001b[0m\u001b[0mlen\u001b[0m\u001b[1;33m(\u001b[0m\u001b[0mfo\u001b[0m\u001b[1;33m)\u001b[0m\u001b[1;33m)\u001b[0m\u001b[1;33m\u001b[0m\u001b[0m\n\u001b[0m\u001b[0;32m      7\u001b[0m \u001b[1;33m\u001b[0m\u001b[0m\n\u001b[0;32m      8\u001b[0m         \u001b[1;32mfor\u001b[0m \u001b[0m_tb\u001b[0m\u001b[1;33m,\u001b[0m \u001b[0m_ts\u001b[0m\u001b[1;33m,\u001b[0m \u001b[0m_tf\u001b[0m \u001b[1;32min\u001b[0m \u001b[0mzip\u001b[0m\u001b[1;33m(\u001b[0m\u001b[0mtb\u001b[0m\u001b[1;33m,\u001b[0m \u001b[0mts\u001b[0m\u001b[1;33m,\u001b[0m \u001b[0mtf\u001b[0m\u001b[1;33m)\u001b[0m\u001b[1;33m:\u001b[0m\u001b[1;33m\u001b[0m\u001b[0m\n",
      "\u001b[1;31mTypeError\u001b[0m: write() argument must be str, not int"
     ]
    }
   ],
   "source": [
    "write_output(tb, ts, tf, fo, ti)"
   ]
  },
  {
   "cell_type": "code",
   "execution_count": 61,
   "metadata": {},
   "outputs": [
    {
     "name": "stdout",
     "output_type": "stream",
     "text": [
      "Wall time: 301 ms\n"
     ]
    }
   ],
   "source": [
    "%time get_all(3); 0"
   ]
  },
  {
   "cell_type": "code",
   "execution_count": 23,
   "metadata": {},
   "outputs": [],
   "source": [
    "def string_line(tb, ts, tf):\n",
    "    return \"*\".join(map(str,map(int, tb))) + \"*\" + \"*\".join(map(str,map(int, ts))) + \"*\" + str(int(tf))"
   ]
  },
  {
   "cell_type": "code",
   "execution_count": 24,
   "metadata": {},
   "outputs": [],
   "source": [
    "def overlaps(a, b):\n",
    "    \"\"\"\n",
    "    Return the amount of overlap, in bp\n",
    "    between a and b.\n",
    "    If >0, the number of bp of overlap\n",
    "    If 0,  they are book-ended.\n",
    "    If <0, the distance in bp between them\n",
    "    \"\"\"\n",
    "\n",
    "    return min(a[1], b[1]) - max(a[0], b[0])\n"
   ]
  },
  {
   "cell_type": "code",
   "execution_count": 27,
   "metadata": {},
   "outputs": [],
   "source": [
    "def compute_Vb(tb, ts, tf):\n",
    "    aux = [(tb[j], tb[j+1] - tb[j]) if j + 1 not in b else (tb[j], ts[b.index(j + 1)] - tb[j]) for j in range(len(tb) - 1)]\n",
    "    add = sum(aux[-1])\n",
    "    aux.append((add, tf - add))\n",
    "    return aux"
   ]
  },
  {
   "cell_type": "code",
   "execution_count": null,
   "metadata": {},
   "outputs": [],
   "source": []
  },
  {
   "cell_type": "code",
   "execution_count": 28,
   "metadata": {},
   "outputs": [],
   "source": [
    "import matplotlib.pyplot as plt"
   ]
  },
  {
   "cell_type": "code",
   "execution_count": 29,
   "metadata": {},
   "outputs": [],
   "source": [
    "co = ['lightcoral', 'yellow', 'plum', 'grey', 'royalblue', 'maroon', 'coral', 'g', 'red', 'sienna']\n",
    "co2 = ['yellow', 'plum', 'grey', 'royalblue', 'maroon', 'coral', 'g', 'red', 'sienna']"
   ]
  },
  {
   "cell_type": "code",
   "execution_count": 85,
   "metadata": {},
   "outputs": [
    {
     "data": {
      "image/png": "[encoded data removed]",
      "text/plain": [
       "<Figure size 432x288 with 1 Axes>"
      ]
     },
     "metadata": {},
     "output_type": "display_data"
    }
   ],
   "source": [
    "fig, ax = plt.subplots()\n",
    "pp=0\n",
    "for i in order:\n",
    "    pp += 3\n",
    "    ax.broken_barh(compute_Vb(tb[i], ts[i], tf[i]), yrange=(pp,3), color=co)\n",
    "\n",
    "# ax.broken_barh(compute_Vb(tb[16], ts[16], tf[16]), yrange=(3, 20), alpha=0.5, color=)"
   ]
  },
  {
   "cell_type": "code",
   "execution_count": 36,
   "metadata": {},
   "outputs": [
    {
     "data": {
      "text/plain": [
       "[16,\n",
       " 7,\n",
       " 3,\n",
       " 10,\n",
       " 4,\n",
       " 5,\n",
       " 12,\n",
       " 21,\n",
       " 0,\n",
       " 20,\n",
       " 18,\n",
       " 24,\n",
       " 2,\n",
       " 27,\n",
       " 22,\n",
       " 6,\n",
       " 26,\n",
       " 23,\n",
       " 13,\n",
       " 25,\n",
       " 14,\n",
       " 9,\n",
       " 19,\n",
       " 8,\n",
       " 15,\n",
       " 11,\n",
       " 17,\n",
       " 1]"
      ]
     },
     "execution_count": 36,
     "metadata": {},
     "output_type": "execute_result"
    }
   ],
   "source": [
    "order"
   ]
  },
  {
   "cell_type": "code",
   "execution_count": 191,
   "metadata": {},
   "outputs": [
    {
     "data": {
      "image/png": "[encoded data removed]",
      "text/plain": [
       "<Figure size 432x288 with 1 Axes>"
      ]
     },
     "metadata": {},
     "output_type": "display_data"
    }
   ],
   "source": [
    "fig, ax = plt.subplots()\n",
    "pp=0\n",
    "for i in order[:7]:\n",
    "    pp += 3\n",
    "    ax.broken_barh(compute_Vb(tb[i], ts[i], tf[i]), yrange=(pp,2), color=co)\n",
    "\n"
   ]
  },
  {
   "cell_type": "code",
   "execution_count": 138,
   "metadata": {},
   "outputs": [
    {
     "data": {
      "text/plain": [
       "array([414., 480., 507., 512., 521., 546., 808., 875., 901., 974.])"
      ]
     },
     "execution_count": 138,
     "metadata": {},
     "output_type": "execute_result"
    }
   ],
   "source": [
    "tb[4][5:]"
   ]
  },
  {
   "cell_type": "code",
   "execution_count": 156,
   "metadata": {},
   "outputs": [],
   "source": [
    "def compute_tacum(tb, ts, tf, order, req_index):\n",
    "    \n",
    "    for i in order:\n",
    "        if i != req_index:\n",
    "            compute_T_ind(tb[i], ts[i], tf[i])\n",
    "            \n",
    "    \n",
    "    "
   ]
  },
  {
   "cell_type": "code",
   "execution_count": 180,
   "metadata": {},
   "outputs": [],
   "source": [
    "tb_mat = np.matrix(tb)"
   ]
  },
  {
   "cell_type": "code",
   "execution_count": 190,
   "metadata": {},
   "outputs": [
    {
     "data": {
      "text/plain": [
       "matrix([[242.],\n",
       "        [269.],\n",
       "        [299.]])"
      ]
     },
     "execution_count": 190,
     "metadata": {},
     "output_type": "execute_result"
    }
   ],
   "source": [
    "tb_mat[order[:3],5]"
   ]
  },
  {
   "cell_type": "code",
   "execution_count": 172,
   "metadata": {},
   "outputs": [
    {
     "data": {
      "text/plain": [
       "404"
      ]
     },
     "execution_count": 172,
     "metadata": {},
     "output_type": "execute_result"
    }
   ],
   "source": [
    "int(max(tb_mat[:,0]))"
   ]
  },
  {
   "cell_type": "code",
   "execution_count": 154,
   "metadata": {},
   "outputs": [
    {
     "data": {
      "text/plain": [
       "array([11., 40., 27.,  5., 31., 60., 74., 99., 83., 68., 71., 24., 26.,\n",
       "       14., 34.])"
      ]
     },
     "execution_count": 154,
     "metadata": {},
     "output_type": "execute_result"
    }
   ],
   "source": [
    "compute_T_ind(tb[0], ts[0], tf[0])"
   ]
  },
  {
   "cell_type": "code",
   "execution_count": 155,
   "metadata": {},
   "outputs": [
    {
     "data": {
      "text/plain": [
       "array([ 507.,  518.,  558.,  585.,  590.,  735.,  795.,  869.,  968.,\n",
       "       1051., 1119., 1247., 1271., 1297., 1311.])"
      ]
     },
     "execution_count": 155,
     "metadata": {},
     "output_type": "execute_result"
    }
   ],
   "source": [
    "tb[0]"
   ]
  },
  {
   "cell_type": "code",
   "execution_count": 153,
   "metadata": {},
   "outputs": [
    {
     "data": {
      "text/plain": [
       "[(507.0, 11.0),\n",
       " (518.0, 40.0),\n",
       " (558.0, 27.0),\n",
       " (585.0, 5.0),\n",
       " (590.0, 31.0),\n",
       " (735.0, 60.0),\n",
       " (795.0, 74.0),\n",
       " (869.0, 99.0),\n",
       " (968.0, 83.0),\n",
       " (1051.0, 68.0),\n",
       " (1119.0, 71.0),\n",
       " (1247.0, 24.0),\n",
       " (1271.0, 26.0),\n",
       " (1297.0, 14.0),\n",
       " (1311.0, 34.0)]"
      ]
     },
     "execution_count": 153,
     "metadata": {},
     "output_type": "execute_result"
    }
   ],
   "source": [
    "compute_Vb(tb[0], ts[0], tf[0])"
   ]
  },
  {
   "cell_type": "code",
   "execution_count": 143,
   "metadata": {},
   "outputs": [],
   "source": [
    "#como trocar\n",
    "temp = tb[4][5:].copy()\n",
    "tb[4][5:] = tb[10][5:].copy()\n",
    "tb[10][5:] = temp.copy()\n",
    "\n",
    "temp = ts[4][1].copy()\n",
    "ts[4][1] = ts[10][1].copy()\n",
    "ts[10][1] = temp.copy()"
   ]
  },
  {
   "cell_type": "code",
   "execution_count": 150,
   "metadata": {},
   "outputs": [
    {
     "data": {
      "text/plain": [
       "115.0"
      ]
     },
     "execution_count": 150,
     "metadata": {},
     "output_type": "execute_result"
    }
   ],
   "source": [
    "tb[4][5] - ts[4][0] - sec[4][0]\n",
    "# se negativo deve se adiar, não recuar -> verificar se há confronto?\n",
    "\n",
    "tb[4][5] - tb[3][5] # não se pode verificar só com o pedido anterior porque podem ter existido trocas"
   ]
  },
  {
   "cell_type": "code",
   "execution_count": 30,
   "metadata": {},
   "outputs": [],
   "source": [
    "def dissimilarity_2(tb_1, ts_1, tb_2, ts_2, tf_1, tf_2):\n",
    "    global M, H\n",
    "    \n",
    "    #test shifting the array first\n",
    "    # fim de j com o início de j+1\n",
    "    # pode ser visto como procurar o pedido a adicionar que tem a maior utilização?\n",
    "    \n",
    "    _v1 = compute_Vb(tb_1, ts_1, tf_1)\n",
    "    _v2 = compute_Vb(tb_2, ts_2, tf_2)\n",
    "    \n",
    "    _dis = [abs(sum(req_1) - req_2[0]) for req_1, req_2 in zip(_v1[:M], _v2[1:])]\n",
    "    \n",
    "    return sum(_dis)"
   ]
  },
  {
   "cell_type": "code",
   "execution_count": 30,
   "metadata": {},
   "outputs": [
    {
     "ename": "NameError",
     "evalue": "name 'tb' is not defined",
     "output_type": "error",
     "traceback": [
      "\u001b[1;31m---------------------------------------------------------------------------\u001b[0m",
      "\u001b[1;31mNameError\u001b[0m                                 Traceback (most recent call last)",
      "\u001b[1;32m<ipython-input-30-258c40108987>\u001b[0m in \u001b[0;36m<module>\u001b[1;34m()\u001b[0m\n\u001b[1;32m----> 1\u001b[1;33m \u001b[0mdissimilarity_2\u001b[0m\u001b[1;33m(\u001b[0m\u001b[0mtb\u001b[0m\u001b[1;33m[\u001b[0m\u001b[1;36m0\u001b[0m\u001b[1;33m]\u001b[0m\u001b[1;33m,\u001b[0m \u001b[0mts\u001b[0m\u001b[1;33m[\u001b[0m\u001b[1;36m0\u001b[0m\u001b[1;33m]\u001b[0m\u001b[1;33m,\u001b[0m \u001b[0mtb\u001b[0m\u001b[1;33m[\u001b[0m\u001b[1;36m1\u001b[0m\u001b[1;33m]\u001b[0m\u001b[1;33m,\u001b[0m \u001b[0mts\u001b[0m\u001b[1;33m[\u001b[0m\u001b[1;36m1\u001b[0m\u001b[1;33m]\u001b[0m\u001b[1;33m,\u001b[0m \u001b[0mtf\u001b[0m\u001b[1;33m[\u001b[0m\u001b[1;36m0\u001b[0m\u001b[1;33m]\u001b[0m\u001b[1;33m,\u001b[0m \u001b[0mtf\u001b[0m\u001b[1;33m[\u001b[0m\u001b[1;36m1\u001b[0m\u001b[1;33m]\u001b[0m\u001b[1;33m)\u001b[0m\u001b[1;33m\u001b[0m\u001b[0m\n\u001b[0m",
      "\u001b[1;31mNameError\u001b[0m: name 'tb' is not defined"
     ]
    }
   ],
   "source": [
    "dissimilarity_2(tb[0], ts[0], tb[1], ts[1], tf[0], tf[1])"
   ]
  },
  {
   "cell_type": "code",
   "execution_count": 31,
   "metadata": {},
   "outputs": [],
   "source": [
    "def evaluate_solution(tb, ts):\n",
    "    global N, M, H, tin, tax, b, sec\n",
    "    \n",
    "    # Bath time constraints\n",
    "    \n",
    "    "
   ]
  },
  {
   "cell_type": "code",
   "execution_count": 32,
   "metadata": {},
   "outputs": [],
   "source": [
    "def a_solution():\n",
    "    global N, M, H, tin, tax, b, sec\n",
    "    \n",
    "    tb"
   ]
  },
  {
   "cell_type": "code",
   "execution_count": 37,
   "metadata": {},
   "outputs": [],
   "source": [
    "tb6, ts6, tf6 = get_all(12)"
   ]
  },
  {
   "cell_type": "code",
   "execution_count": 38,
   "metadata": {},
   "outputs": [
    {
     "data": {
      "text/plain": [
       "2271.0"
      ]
     },
     "execution_count": 38,
     "metadata": {},
     "output_type": "execute_result"
    }
   ],
   "source": [
    "max(tf6)"
   ]
  },
  {
   "cell_type": "code",
   "execution_count": 39,
   "metadata": {},
   "outputs": [
    {
     "name": "stdout",
     "output_type": "stream",
     "text": [
      "567*662*747*844*1046*1086*1124*1223*1295*1361*1419*906*1468\n",
      "75*103*136*150*327*420*508*574*645*732*820*174*903\n",
      "35*64*103*130*282*327*420*469*499*567*620*150*637\n",
      "103*138*155*174*420*508*591*668*736*823*913*195*1009\n",
      "1762*1840*1850*1900*2011*2033*2061*2097*2117*2144*2149*1916*2167\n",
      "372*407*459*552*815*914*945*1029*1124*1222*1290*647*1314\n",
      "834*916*1005*1040*1221*1286*1312*1407*1436*1501*1555*1081*1652\n",
      "1214*1309*1402*1479*1669*1741*1801*1810*1901*1936*1980*1550*2034\n",
      "143*155*191*221*508*591*686*769*853*923*1009*257*1072\n",
      "1016*1099*1194*1287*1483*1515*1545*1641*1725*1816*1881*1364*1980\n",
      "1529*1612*1681*1709*1915*1924*1933*1968*2007*2034*2050*1806*2088\n",
      "916*1009*1092*1172*1303*1327*1412*1442*1538*1629*1715*1251*1785\n",
      "0*7*35*40*154*249*254*271*320*386*466*51*477\n",
      "7*35*46*52*249*281*289*351*420*466*566*68*619\n",
      "421*511*599*691*928*945*1030*1124*1223*1290*1342*762*1399\n",
      "191*271*346*429*686*785*884*945*1029*1124*1222*522*1290\n",
      "1727*1762*1806*1842*1984*2011*2033*2042*2077*2096*2122*1875*2130\n",
      "1709*1724*1755*1806*1951*1963*1978*2007*2034*2054*2091*1842*2122\n",
      "1413*1461*1538*1619*1818*1833*1907*1933*1968*1980*2034*1709*2050\n",
      "155*191*230*257*591*686*778*862*928*1009*1091*277*1191\n",
      "1840*1905*1913*1944*2134*2152*2181*2221*2227*2240*2263*1987*2271\n",
      "684*784*866*939*1133*1185*1261*1295*1390*1419*1484*1004*1555\n"
     ]
    }
   ],
   "source": [
    "get_output(tb6, ts6, tf6)"
   ]
  },
  {
   "cell_type": "code",
   "execution_count": null,
   "metadata": {},
   "outputs": [],
   "source": []
  }
 ],
 "metadata": {
  "kernelspec": {
   "display_name": "Python 3",
   "language": "python",
   "name": "python3"
  },
  "language_info": {
   "codemirror_mode": {
    "name": "ipython",
    "version": 3
   },
   "file_extension": ".py",
   "mimetype": "text/x-python",
   "name": "python",
   "nbconvert_exporter": "python",
   "pygments_lexer": "ipython3",
   "version": "3.6.5"
  }
 },
 "nbformat": 4,
 "nbformat_minor": 2
}
