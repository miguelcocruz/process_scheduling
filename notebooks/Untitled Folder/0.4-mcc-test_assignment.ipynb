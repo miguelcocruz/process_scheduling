{
 "cells": [
  {
   "cell_type": "markdown",
   "metadata": {},
   "source": [
    "### Testing different assignment algorithms"
   ]
  },
  {
   "cell_type": "code",
   "execution_count": 1,
   "metadata": {},
   "outputs": [],
   "source": [
    "%load_ext autoreload\n",
    "%autoreload 2"
   ]
  },
  {
   "cell_type": "code",
   "execution_count": 2,
   "metadata": {},
   "outputs": [],
   "source": [
    "from src import ps\n",
    "import time\n",
    "import matplotlib.pyplot as plt\n",
    "import numpy as np\n",
    "\n",
    "co = ['lightcoral', 'yellow', 'plum', 'grey', 'royalblue', 'maroon', 'coral', 'g', 'red', 'sienna']"
   ]
  },
  {
   "cell_type": "code",
   "execution_count": 3,
   "metadata": {},
   "outputs": [],
   "source": [
    "ss = ps.Schedule()\n",
    "ss.load_data(2)"
   ]
  },
  {
   "cell_type": "code",
   "execution_count": 4,
   "metadata": {},
   "outputs": [],
   "source": [
    "tb0, ts0, tf0 = ss.first_assignment(0)"
   ]
  },
  {
   "cell_type": "code",
   "execution_count": 5,
   "metadata": {},
   "outputs": [],
   "source": [
    "tb1, ts1, tf1 = ss.assign_new_request_og(tb0, ts0, tf0, 1, True)\n",
    "tb2, ts2, tf2 = ss.assign_new_request_og(tb1, ts1, tf1, 2, True)"
   ]
  },
  {
   "cell_type": "code",
   "execution_count": 113,
   "metadata": {},
   "outputs": [
    {
     "name": "stdout",
     "output_type": "stream",
     "text": [
      "[149. 175.   0.   0.   0.   0.   0.   0.   0.   0.]\n",
      "[204. 230. 270.   0.   0.   0.   0.   0.   0.   0.]\n",
      "[227. 253. 293. 345.   0.   0.   0.   0.   0.   0.]\n",
      "[270. 293.   0.   0.   0.   0.   0.   0.   0.   0.]\n"
     ]
    }
   ],
   "source": [
    "tb1_b, ts1_b, tf1_b = ss.assign_new_request_v2(tb0, ts0, tf0, 1, False)\n",
    "tb2_b, ts2_b, tf2_b = ss.assign_new_request_v2(tb1_b, ts1_b, tf1_b, 2, False)"
   ]
  },
  {
   "cell_type": "code",
   "execution_count": 110,
   "metadata": {},
   "outputs": [
    {
     "data": {
      "text/plain": [
       "<matplotlib.collections.BrokenBarHCollection at 0x1fc1a7fce48>"
      ]
     },
     "execution_count": 110,
     "metadata": {},
     "output_type": "execute_result"
    },
    {
     "data": {
      "image/png": "[encoded data removed]",
      "text/plain": [
       "<Figure size 432x288 with 2 Axes>"
      ]
     },
     "metadata": {},
     "output_type": "display_data"
    }
   ],
   "source": [
    "fig, ax = plt.subplots(nrows=2)\n",
    "\n",
    "ax[0].broken_barh(ss.compute_Vb(tb0, ts0, tf0), yrange=(0,3), color=co)\n",
    "ax[0].broken_barh(ss.compute_Vb(tb1, ts1, tf1), yrange=(3,3), color=co)\n",
    "ax[0].broken_barh(ss.compute_Vb(tb2, ts2, tf2), yrange=(6,3), color=co)\n",
    "\n",
    "ax[1].broken_barh(ss.compute_Vb(tb0, ts0, tf0), yrange=(0,3), color=co)\n",
    "ax[1].broken_barh(ss.compute_Vb(tb1_b, ts1_b, tf1_b), yrange=(3,3), color=co)\n",
    "ax[1].broken_barh(ss.compute_Vb(tb2_b, ts2_b, tf2_b), yrange=(6,3), color=co)\n"
   ]
  },
  {
   "cell_type": "code",
   "execution_count": 114,
   "metadata": {},
   "outputs": [
    {
     "data": {
      "text/plain": [
       "<matplotlib.collections.BrokenBarHCollection at 0x1fc1a8cb588>"
      ]
     },
     "execution_count": 114,
     "metadata": {},
     "output_type": "execute_result"
    },
    {
     "data": {
      "image/png": "[encoded data removed]",
      "text/plain": [
       "<Figure size 432x288 with 2 Axes>"
      ]
     },
     "metadata": {},
     "output_type": "display_data"
    }
   ],
   "source": [
    "fig, ax = plt.subplots(nrows=2)\n",
    "\n",
    "ax[0].broken_barh(ss.compute_Vb(tb0, ts0, tf0), yrange=(0,3), color=co)\n",
    "ax[0].broken_barh(ss.compute_Vb(tb1, ts1, tf1), yrange=(3,3), color=co)\n",
    "ax[0].broken_barh(ss.compute_Vb(tb2, ts2, tf2), yrange=(6,3), color=co)\n",
    "\n",
    "ax[1].broken_barh(ss.compute_Vb(tb0, ts0, tf0), yrange=(0,3), color=co)\n",
    "ax[1].broken_barh(ss.compute_Vb(tb1_b, ts1_b, tf1_b), yrange=(3,3), color=co)\n",
    "ax[1].broken_barh(ss.compute_Vb(tb2_b, ts2_b, tf2_b), yrange=(6,3), color=co)\n"
   ]
  },
  {
   "cell_type": "code",
   "execution_count": 31,
   "metadata": {},
   "outputs": [],
   "source": [
    "tb, ts, tf, order = ss.assign_all(0, 1)"
   ]
  },
  {
   "cell_type": "code",
   "execution_count": 7,
   "metadata": {},
   "outputs": [
    {
     "name": "stdout",
     "output_type": "stream",
     "text": [
      "165 µs ± 7.79 µs per loop (mean ± std. dev. of 7 runs, 10000 loops each)\n"
     ]
    }
   ],
   "source": [
    "%%timeit\n",
    "\n",
    "ss.assign_new_request(tb0, ts0, tf0, 1, True)"
   ]
  },
  {
   "cell_type": "code",
   "execution_count": 91,
   "metadata": {},
   "outputs": [
    {
     "name": "stdout",
     "output_type": "stream",
     "text": [
      "290 µs ± 17.6 µs per loop (mean ± std. dev. of 7 runs, 1000 loops each)\n"
     ]
    }
   ],
   "source": [
    "%%timeit\n",
    "\n",
    "ss.assign_new_request_og(tb0, ts0, tf0, 1, True)"
   ]
  },
  {
   "cell_type": "code",
   "execution_count": 236,
   "metadata": {},
   "outputs": [
    {
     "name": "stdout",
     "output_type": "stream",
     "text": [
      "80.2 µs ± 1.98 µs per loop (mean ± std. dev. of 7 runs, 10000 loops each)\n"
     ]
    }
   ],
   "source": [
    "%%timeit\n",
    "\n",
    "ss.assign_new_request_v2(tb0, ts0, tf0, 3, False)"
   ]
  },
  {
   "cell_type": "code",
   "execution_count": 90,
   "metadata": {},
   "outputs": [
    {
     "name": "stdout",
     "output_type": "stream",
     "text": [
      "62.2 ms ± 1.74 ms per loop (mean ± std. dev. of 7 runs, 10 loops each)\n"
     ]
    }
   ],
   "source": [
    "%timeit ss.assign_all(1, 0)"
   ]
  },
  {
   "cell_type": "code",
   "execution_count": 266,
   "metadata": {},
   "outputs": [
    {
     "name": "stdout",
     "output_type": "stream",
     "text": [
      "0.08199930191040039 496 3790.0\n",
      "0.2430431842803955 1488 3504.0\n",
      "0.3159947395324707 1984 3349.0\n",
      "1.7471790313720703 11408 3308.0\n",
      "5.026794195175171 32736 3291.0\n",
      "5.5579774379730225 36208 3277.0\n",
      "7.993660926818848 52576 3136.0\n"
     ]
    },
    {
     "ename": "KeyboardInterrupt",
     "evalue": "",
     "output_type": "error",
     "traceback": [
      "\u001b[1;31m---------------------------------------------------------------------------\u001b[0m",
      "\u001b[1;31mKeyboardInterrupt\u001b[0m                         Traceback (most recent call last)",
      "\u001b[1;32m<ipython-input-266-506420b739c5>\u001b[0m in \u001b[0;36m<module>\u001b[1;34m()\u001b[0m\n\u001b[0;32m     36\u001b[0m             \u001b[0mcnt\u001b[0m \u001b[1;33m+=\u001b[0m \u001b[1;36m1\u001b[0m\u001b[1;33m\u001b[0m\u001b[0m\n\u001b[0;32m     37\u001b[0m \u001b[1;33m\u001b[0m\u001b[0m\n\u001b[1;32m---> 38\u001b[1;33m             \u001b[0mds\u001b[0m\u001b[1;33m[\u001b[0m\u001b[0mi\u001b[0m\u001b[1;33m]\u001b[0m \u001b[1;33m=\u001b[0m \u001b[0mss\u001b[0m\u001b[1;33m.\u001b[0m\u001b[0mdissimilarity\u001b[0m\u001b[1;33m(\u001b[0m\u001b[0mtb0\u001b[0m\u001b[1;33m,\u001b[0m \u001b[0mts0\u001b[0m\u001b[1;33m,\u001b[0m \u001b[0mtf0\u001b[0m\u001b[1;33m,\u001b[0m \u001b[0mtb1\u001b[0m\u001b[1;33m,\u001b[0m \u001b[0mts1\u001b[0m\u001b[1;33m,\u001b[0m \u001b[0mtf1\u001b[0m\u001b[1;33m)\u001b[0m \u001b[1;33m/\u001b[0m \u001b[0mtf1\u001b[0m\u001b[1;33m\u001b[0m\u001b[0m\n\u001b[0m\u001b[0;32m     39\u001b[0m             \u001b[0mds_keys\u001b[0m\u001b[1;33m[\u001b[0m\u001b[0mi\u001b[0m\u001b[1;33m]\u001b[0m \u001b[1;33m=\u001b[0m \u001b[0mi\u001b[0m\u001b[1;33m\u001b[0m\u001b[0m\n\u001b[0;32m     40\u001b[0m \u001b[1;33m\u001b[0m\u001b[0m\n",
      "\u001b[1;32mc:\\users\\miguel\\process_scheduling\\src\\ps.py\u001b[0m in \u001b[0;36mdissimilarity\u001b[1;34m(self, tb1, ts1, tf1, tb2, ts2, tf2)\u001b[0m\n\u001b[0;32m    326\u001b[0m         \u001b[0m_v2\u001b[0m \u001b[1;33m=\u001b[0m \u001b[0mself\u001b[0m\u001b[1;33m.\u001b[0m\u001b[0mcompute_Vb\u001b[0m\u001b[1;33m(\u001b[0m\u001b[0mtb2\u001b[0m\u001b[1;33m,\u001b[0m \u001b[0mts2\u001b[0m\u001b[1;33m,\u001b[0m \u001b[0mtf2\u001b[0m\u001b[1;33m)\u001b[0m\u001b[1;33m\u001b[0m\u001b[0m\n\u001b[0;32m    327\u001b[0m \u001b[1;33m\u001b[0m\u001b[0m\n\u001b[1;32m--> 328\u001b[1;33m         \u001b[0m_dis\u001b[0m \u001b[1;33m=\u001b[0m \u001b[1;33m[\u001b[0m\u001b[0mabs\u001b[0m\u001b[1;33m(\u001b[0m\u001b[0msum\u001b[0m\u001b[1;33m(\u001b[0m\u001b[0mreq_1\u001b[0m\u001b[1;33m)\u001b[0m \u001b[1;33m-\u001b[0m \u001b[0mreq_2\u001b[0m\u001b[1;33m[\u001b[0m\u001b[1;36m0\u001b[0m\u001b[1;33m]\u001b[0m\u001b[1;33m)\u001b[0m \u001b[1;32mfor\u001b[0m \u001b[0mreq_1\u001b[0m\u001b[1;33m,\u001b[0m \u001b[0mreq_2\u001b[0m \u001b[1;32min\u001b[0m \u001b[0mzip\u001b[0m\u001b[1;33m(\u001b[0m\u001b[0m_v1\u001b[0m\u001b[1;33m[\u001b[0m\u001b[1;33m:\u001b[0m\u001b[0mself\u001b[0m\u001b[1;33m.\u001b[0m\u001b[0mM\u001b[0m\u001b[1;33m]\u001b[0m\u001b[1;33m,\u001b[0m \u001b[0m_v2\u001b[0m\u001b[1;33m[\u001b[0m\u001b[1;36m1\u001b[0m\u001b[1;33m:\u001b[0m\u001b[1;33m]\u001b[0m\u001b[1;33m)\u001b[0m\u001b[1;33m]\u001b[0m\u001b[1;33m\u001b[0m\u001b[0m\n\u001b[0m\u001b[0;32m    329\u001b[0m \u001b[1;33m\u001b[0m\u001b[0m\n\u001b[0;32m    330\u001b[0m         \u001b[1;32mreturn\u001b[0m \u001b[0msum\u001b[0m\u001b[1;33m(\u001b[0m\u001b[0m_dis\u001b[0m\u001b[1;33m)\u001b[0m\u001b[1;33m\u001b[0m\u001b[0m\n",
      "\u001b[1;32mc:\\users\\miguel\\process_scheduling\\src\\ps.py\u001b[0m in \u001b[0;36m<listcomp>\u001b[1;34m(.0)\u001b[0m\n\u001b[0;32m    326\u001b[0m         \u001b[0m_v2\u001b[0m \u001b[1;33m=\u001b[0m \u001b[0mself\u001b[0m\u001b[1;33m.\u001b[0m\u001b[0mcompute_Vb\u001b[0m\u001b[1;33m(\u001b[0m\u001b[0mtb2\u001b[0m\u001b[1;33m,\u001b[0m \u001b[0mts2\u001b[0m\u001b[1;33m,\u001b[0m \u001b[0mtf2\u001b[0m\u001b[1;33m)\u001b[0m\u001b[1;33m\u001b[0m\u001b[0m\n\u001b[0;32m    327\u001b[0m \u001b[1;33m\u001b[0m\u001b[0m\n\u001b[1;32m--> 328\u001b[1;33m         \u001b[0m_dis\u001b[0m \u001b[1;33m=\u001b[0m \u001b[1;33m[\u001b[0m\u001b[0mabs\u001b[0m\u001b[1;33m(\u001b[0m\u001b[0msum\u001b[0m\u001b[1;33m(\u001b[0m\u001b[0mreq_1\u001b[0m\u001b[1;33m)\u001b[0m \u001b[1;33m-\u001b[0m \u001b[0mreq_2\u001b[0m\u001b[1;33m[\u001b[0m\u001b[1;36m0\u001b[0m\u001b[1;33m]\u001b[0m\u001b[1;33m)\u001b[0m \u001b[1;32mfor\u001b[0m \u001b[0mreq_1\u001b[0m\u001b[1;33m,\u001b[0m \u001b[0mreq_2\u001b[0m \u001b[1;32min\u001b[0m \u001b[0mzip\u001b[0m\u001b[1;33m(\u001b[0m\u001b[0m_v1\u001b[0m\u001b[1;33m[\u001b[0m\u001b[1;33m:\u001b[0m\u001b[0mself\u001b[0m\u001b[1;33m.\u001b[0m\u001b[0mM\u001b[0m\u001b[1;33m]\u001b[0m\u001b[1;33m,\u001b[0m \u001b[0m_v2\u001b[0m\u001b[1;33m[\u001b[0m\u001b[1;36m1\u001b[0m\u001b[1;33m:\u001b[0m\u001b[1;33m]\u001b[0m\u001b[1;33m)\u001b[0m\u001b[1;33m]\u001b[0m\u001b[1;33m\u001b[0m\u001b[0m\n\u001b[0m\u001b[0;32m    329\u001b[0m \u001b[1;33m\u001b[0m\u001b[0m\n\u001b[0;32m    330\u001b[0m         \u001b[1;32mreturn\u001b[0m \u001b[0msum\u001b[0m\u001b[1;33m(\u001b[0m\u001b[0m_dis\u001b[0m\u001b[1;33m)\u001b[0m\u001b[1;33m\u001b[0m\u001b[0m\n",
      "\u001b[1;31mKeyboardInterrupt\u001b[0m: "
     ]
    }
   ],
   "source": [
    "\n",
    "start = time.time()\n",
    "clock = 0\n",
    "\n",
    "best = 5000\n",
    "\n",
    "cnt = 0\n",
    "\n",
    "while best > 3062 and clock < 60:\n",
    "    \n",
    "    first = np.random.randint(0, ss.N)\n",
    "    order = [first]\n",
    "\n",
    "    tb0, ts0, tf0 = ss.first_assignment(first)\n",
    "\n",
    "    ds = np.zeros(shape=(ss.N))\n",
    "    ds_keys = np.zeros(shape=(ss.N))\n",
    "\n",
    "    unused_requests = set(range(ss.N)) - {first}\n",
    "\n",
    "    _tb = [None for _ in range(ss.N)]\n",
    "    _ts = [None for _ in range(ss.N)]\n",
    "    _tf = [None for _ in range(ss.N)]\n",
    "\n",
    "    i_add = int(first)\n",
    "\n",
    "    _tb[int(i_add)], _ts[int(i_add)], _tf[int(i_add)] = tb0.copy(), ts0.copy(), tf0.copy()\n",
    "\n",
    "    \n",
    "    while len(unused_requests) > 0:\n",
    "        ds = np.zeros(shape=(ss.N))\n",
    "        ds_keys = np.zeros(shape=(ss.N))\n",
    "\n",
    "        for i in unused_requests:\n",
    "            tb1, ts1, tf1 = ss.assign_new_request_v2(tb0, ts0, tf0, i, True)\n",
    "            cnt += 1\n",
    "\n",
    "            ds[i] = ss.dissimilarity(tb0, ts0, tf0, tb1, ts1, tf1) / tf1\n",
    "            ds_keys[i] = i\n",
    "\n",
    "        ds = ds[list(unused_requests)]\n",
    "        ds_keys = ds_keys[list(unused_requests)]\n",
    "        dss = ds_keys[ds < 0.8]\n",
    "\n",
    "        if len(dss) > 0:\n",
    "            i_add = int(np.random.choice(dss))\n",
    "        else:\n",
    "            i_add = i\n",
    "\n",
    "\n",
    "        unused_requests -= {i_add}\n",
    "        order.append(i_add)\n",
    "\n",
    "        _tb[i_add], _ts[i_add], _tf[i_add] = ss.assign_new_request_v2(tb0, ts0, tf0, int(i_add), True)\n",
    "        tb0, ts0, tf0 = _tb[i_add].copy(), _ts[i_add].copy(), _tf[i_add].copy()\n",
    "    \n",
    "    clock = time.time() - start\n",
    "    \n",
    "    if max(_tf) < best:\n",
    "        best = max(_tf)\n",
    "        print(clock, cnt, max(_tf))\n",
    "        tb_opt, ts_opt, tf_opt, order_opt = _tb.copy(), _ts.copy(), _tf.copy(), order.copy()\n"
   ]
  },
  {
   "cell_type": "code",
   "execution_count": 263,
   "metadata": {},
   "outputs": [
    {
     "data": {
      "text/plain": [
       "54064"
      ]
     },
     "execution_count": 263,
     "metadata": {},
     "output_type": "execute_result"
    }
   ],
   "source": [
    "cnt"
   ]
  },
  {
   "cell_type": "code",
   "execution_count": 251,
   "metadata": {},
   "outputs": [
    {
     "data": {
      "image/png": "[encoded data removed]",
      "text/plain": [
       "<Figure size 432x288 with 1 Axes>"
      ]
     },
     "metadata": {},
     "output_type": "display_data"
    }
   ],
   "source": [
    "fig, ax = plt.subplots()\n",
    "pp=0\n",
    "for i in order_opt:\n",
    "    pp += 3\n",
    "    ax.broken_barh(ss.compute_Vb(tb_opt[i], ts_opt[i], tf_opt[i]), yrange=(pp,3), color=co)"
   ]
  },
  {
   "cell_type": "code",
   "execution_count": 264,
   "metadata": {},
   "outputs": [
    {
     "data": {
      "text/plain": [
       "array([0.4432042])"
      ]
     },
     "execution_count": 264,
     "metadata": {},
     "output_type": "execute_result"
    }
   ],
   "source": [
    "ds"
   ]
  }
 ],
 "metadata": {
  "kernelspec": {
   "display_name": "Python 3",
   "language": "python",
   "name": "python3"
  },
  "language_info": {
   "codemirror_mode": {
    "name": "ipython",
    "version": 3
   },
   "file_extension": ".py",
   "mimetype": "text/x-python",
   "name": "python",
   "nbconvert_exporter": "python",
   "pygments_lexer": "ipython3",
   "version": "3.6.5"
  }
 },
 "nbformat": 4,
 "nbformat_minor": 2
}
