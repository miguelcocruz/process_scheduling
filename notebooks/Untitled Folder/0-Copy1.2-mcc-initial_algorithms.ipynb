{
 "cells": [
  {
   "cell_type": "code",
   "execution_count": 41,
   "metadata": {},
   "outputs": [
    {
     "name": "stdout",
     "output_type": "stream",
     "text": [
      "The autoreload extension is already loaded. To reload it, use:\n",
      "  %reload_ext autoreload\n"
     ]
    }
   ],
   "source": [
    "%load_ext autoreload\n",
    "%autoreload 2"
   ]
  },
  {
   "cell_type": "code",
   "execution_count": 42,
   "metadata": {},
   "outputs": [],
   "source": [
    "from src import utils\n",
    "from src import ps\n",
    "import numpy as np"
   ]
  },
  {
   "cell_type": "code",
   "execution_count": 25,
   "metadata": {},
   "outputs": [],
   "source": [
    "lines = utils.load_data(1)\n",
    "N, M, H, b, tin, tax, sec = utils.parse_data(lines)"
   ]
  },
  {
   "cell_type": "code",
   "execution_count": 4,
   "metadata": {},
   "outputs": [
    {
     "name": "stdout",
     "output_type": "stream",
     "text": [
      "0.0\n"
     ]
    }
   ],
   "source": [
    "import time\n",
    "start = time.time()\n",
    "\n",
    "end = time.time()\n",
    "print(start - end)"
   ]
  },
  {
   "cell_type": "code",
   "execution_count": 26,
   "metadata": {},
   "outputs": [],
   "source": [
    "ss = ps.Schedule()\n",
    "ss.load_data(1)"
   ]
  },
  {
   "cell_type": "code",
   "execution_count": 6,
   "metadata": {},
   "outputs": [],
   "source": [
    "def first_assignment(index):\n",
    "    global M, H, tin, sec\n",
    "    \n",
    "    _tb = np.zeros(shape=(M))\n",
    "    _ts = np.zeros(shape=(H))\n",
    "    _tin = np.array(tin[index])\n",
    "    _sec = np.array(sec[index])\n",
    "    \n",
    "    for j in range(1, M):\n",
    "        if j == 0:\n",
    "            _tb[0] = 0\n",
    "        \n",
    "        else:\n",
    "            _tb[j] = _tb[j - 1] + _tin[j - 1]\n",
    "            \n",
    "    for h, j in enumerate(b):\n",
    "        _ts[h] = _tb[j]\n",
    "        _tb[j:] += _sec[b.index(j)]\n",
    "    \n",
    "    _tf = _tb[M - 1] + _tin[M - 1]\n",
    "    return _tb, _ts, _tf"
   ]
  },
  {
   "cell_type": "code",
   "execution_count": 27,
   "metadata": {},
   "outputs": [],
   "source": [
    "tb0, ts0, tf0 = first_assignment(0)"
   ]
  },
  {
   "cell_type": "code",
   "execution_count": 28,
   "metadata": {},
   "outputs": [
    {
     "data": {
      "text/plain": [
       "<matplotlib.collections.BrokenBarHCollection at 0x183d5030d30>"
      ]
     },
     "execution_count": 28,
     "metadata": {},
     "output_type": "execute_result"
    },
    {
     "data": {
      "image/png": "[encoded data removed]",
      "text/plain": [
       "<Figure size 432x288 with 1 Axes>"
      ]
     },
     "metadata": {},
     "output_type": "display_data"
    }
   ],
   "source": [
    "fig, ax = plt.subplots()\n",
    "\n",
    "ax.broken_barh(ss.compute_Vb(tb0, ts0, tf0), yrange=(0,3), color=co)\n"
   ]
  },
  {
   "cell_type": "code",
   "execution_count": 7,
   "metadata": {},
   "outputs": [
    {
     "name": "stdout",
     "output_type": "stream",
     "text": [
      "53 µs ± 1.87 µs per loop (mean ± std. dev. of 7 runs, 10000 loops each)\n"
     ]
    }
   ],
   "source": [
    "%timeit first_assignment(0)"
   ]
  },
  {
   "cell_type": "code",
   "execution_count": 38,
   "metadata": {},
   "outputs": [],
   "source": [
    "def assign_new_request(tb_prev, ts_prev, tf_prev, index, compute_max):\n",
    "    global M, sec, tin, tax\n",
    "    \n",
    "    _tb = np.zeros(shape=(M))\n",
    "    _ts = np.zeros(shape=(H))\n",
    "    _tin = np.array(tin[index])\n",
    "    _sec = np.array(sec[index])\n",
    "    _tax = np.array(tax[index])\n",
    "    _b = np.array(b)\n",
    "    \n",
    "    for j in range(M):\n",
    "        \n",
    "        if j == 0:\n",
    "            _tb[0] = tb_prev[1]\n",
    "        \n",
    "        elif j < M - 1:\n",
    "            _tb[j] = max(_tb[j - 1] + _tin[j - 1], tb_prev[j+1])\n",
    "        else:\n",
    "            _tb[j] = max(_tb[j - 1] + _tin[j - 1], tf_prev)\n",
    "    \n",
    "    for h, j in enumerate(b):\n",
    "        j -= 1\n",
    "        \n",
    "        if j == 0:\n",
    "            _tb[j:] -= _tb[j] - ts_prev[h]\n",
    "        elif h > 0:\n",
    "            _tb[j:] -= min(_tb[j] - (_tb[j - 1] + _tin[j - 1]), _tb[j] - ts_prev[h], _tb[j] - _ts[h - 1] - _sec[h - 1])\n",
    "        else:\n",
    "            _tb[j:] -= min(_tb[j] - (_tb[j - 1] + _tin[j - 1]), _tb[j] - ts_prev[h])\n",
    "            \n",
    "        _ts[h] = _tb[j] + _tin[j]\n",
    "        delta = tb_prev[j + 1:] - _tb[j:-1]\n",
    "\n",
    "        if j + 1 in b:  \n",
    "            _tb[j + 1:] += max(_sec[h], _sec[h] + ts_prev[b.index(j + 1)] - _tb[j + 1], *delta)\n",
    "        else:\n",
    "            _tb[j + 1:] += max(_sec[h], _sec[h] + tb_prev[j + 2] - _tb[j + 1], *delta)\n",
    "    \n",
    "    _tf = _tb[M - 1] + _tin[M - 1]\n",
    "          \n",
    "    new_j = 0\n",
    "    \n",
    "    if compute_max:\n",
    "        for j in range(M):\n",
    "            \n",
    "            if j + 1 in b : \n",
    "                #doesn´t mean the next j, it is just because b doesn't start at zero         \n",
    "                h = b.index(j + 1)\n",
    "                \n",
    "                if _ts[h] > _tax[j] + _tb[j]:\n",
    "                    shift = _ts[h] - _tb[j] - _tax[j]\n",
    "                    _tb[new_j:j + 1] += shift\n",
    "                    _ts[h] += shift\n",
    "                \n",
    "                new_j = j\n",
    "                \n",
    "            elif j < M - 1 and _tb[j + 1] > _tax[j] + _tb[j]:\n",
    "                shift = _tb[j + 1] - _tb[j] - _tax[j]\n",
    "                _tb[new_j:j + 1] += shift\n",
    "                _ts[h] += shift\n",
    "                \n",
    "            elif j == M - 1 and tf_prev > _tb[j]:\n",
    "                shift = tf_prev - _tb[j]\n",
    "                _tb[new_j:] += shift\n",
    "                _ts[h] += shift\n",
    "                _tf += shift\n",
    "            print(_tb, _ts, _tf)     \n",
    "    return _tb, _ts, _tf\n",
    "            "
   ]
  },
  {
   "cell_type": "code",
   "execution_count": 33,
   "metadata": {},
   "outputs": [],
   "source": [
    "def assign_new_request(tb_prev, ts_prev, tf_prev, index, compute_max):\n",
    "    global M, sec, tin, tax\n",
    "    \n",
    "    _tb = np.zeros(shape=(M))\n",
    "    _ts = np.zeros(shape=(H))\n",
    "    _tin = np.array(tin[index])\n",
    "    _sec = np.array(sec[index])\n",
    "    _tax = np.array(tax[index])\n",
    "    _b = np.array(b)\n",
    "    \n",
    "    for j in range(M):\n",
    "        \n",
    "        if j == 0:\n",
    "            _tb[0] = tb_prev[1]\n",
    "        \n",
    "        elif j < M - 1:\n",
    "            _tb[j] = max(_tb[j - 1] + _tin[j - 1], tb_prev[j+1])\n",
    "        else:\n",
    "            _tb[j] = max(_tb[j - 1] + _tin[j - 1], tf_prev)\n",
    "    \n",
    "    for h, j in enumerate(b):\n",
    "        j -= 1\n",
    "        \n",
    "        if j == 0:\n",
    "            _tb[j:] -= _tb[j] - ts_prev[h]\n",
    "        elif h > 0:\n",
    "            _tb[j:] -= min(_tb[j] - (_tb[j - 1] + _tin[j - 1]), _tb[j] - ts_prev[h], _tb[j] - _ts[h - 1] - _sec[h - 1])\n",
    "        else:\n",
    "            _tb[j:] -= min(_tb[j] - (_tb[j - 1] + _tin[j - 1]), _tb[j] - ts_prev[h])\n",
    "            \n",
    "        _ts[h] = _tb[j] + _tin[j]\n",
    "        delta = tb_prev[j + 1:] - _tb[j:-1]\n",
    "\n",
    "        if j + 1 in b:  \n",
    "            _tb[j + 1:] += max(_sec[h], _sec[h] + ts_prev[b.index(j + 1)] - _tb[j + 1], *delta)\n",
    "        else:\n",
    "            _tb[j + 1:] += max(_sec[h], _sec[h] + tb_prev[j + 2] - _tb[j + 1], *delta)\n",
    "    \n",
    "    _tf = _tb[M - 1] + _tin[M - 1]\n",
    "          \n",
    "        \n",
    "    if compute_max:\n",
    "        for j in range(M):\n",
    "            \n",
    "            if j + 1 in b : \n",
    "                #doesn´t mean the next j, it is just because b doesn't start at zero         \n",
    "                h = b.index(j + 1)\n",
    "                \n",
    "                if _ts[h] > _tax[j] + _tb[j]:\n",
    "                    shift = _ts[h] - _tb[j] - _tax[j]\n",
    "                    _tb[:j + 1] += shift\n",
    "                    _ts[h] += shift\n",
    "               \n",
    "            elif j < M - 1 and _tb[j + 1] > _tax[j] + _tb[j]:\n",
    "                shift = _tb[j + 1] - _tb[j] - _tax[j]\n",
    "                _tb[:j + 1] += shift\n",
    "                _ts[_b < j + 1] += shift\n",
    "                \n",
    "            elif j == M - 1 and tf_prev > _tb[j]:\n",
    "                shift = tf_prev - _tb[j]\n",
    "                _tb += shift\n",
    "                _ts += shift\n",
    "                _tf += shift\n",
    "            print(_tb, _ts, _tf)     \n",
    "    return _tb, _ts, _tf\n",
    "            "
   ]
  },
  {
   "cell_type": "code",
   "execution_count": 39,
   "metadata": {},
   "outputs": [
    {
     "name": "stdout",
     "output_type": "stream",
     "text": [
      "[  53.  138.  225.  299.  384.  447.  523.  705.  841.  906.  990. 1058.\n",
      " 1131. 1194. 1266.] [596. 747.] 1342.0\n",
      "[  53.  138.  225.  299.  384.  447.  523.  705.  841.  906.  990. 1058.\n",
      " 1131. 1194. 1266.] [596. 747.] 1342.0\n",
      "[  53.  138.  225.  299.  384.  447.  523.  705.  841.  906.  990. 1058.\n",
      " 1131. 1194. 1266.] [596. 747.] 1342.0\n",
      "[  53.  138.  225.  299.  384.  447.  523.  705.  841.  906.  990. 1058.\n",
      " 1131. 1194. 1266.] [596. 747.] 1342.0\n",
      "[  53.  138.  225.  299.  384.  447.  523.  705.  841.  906.  990. 1058.\n",
      " 1131. 1194. 1266.] [596. 747.] 1342.0\n",
      "[  53.  138.  225.  299.  384.  447.  523.  705.  841.  906.  990. 1058.\n",
      " 1131. 1194. 1266.] [596. 747.] 1342.0\n",
      "[  53.  138.  225.  299.  384.  447.  523.  705.  841.  906.  990. 1058.\n",
      " 1131. 1194. 1266.] [596. 747.] 1342.0\n",
      "[  53.  138.  225.  299.  384.  447.  523.  705.  841.  906.  990. 1058.\n",
      " 1131. 1194. 1266.] [596. 747.] 1342.0\n",
      "[  53.  138.  225.  299.  384.  447.  523.  705.  841.  906.  990. 1058.\n",
      " 1131. 1194. 1266.] [596. 747.] 1342.0\n",
      "[  53.  138.  225.  299.  384.  447.  523.  705.  841.  906.  990. 1058.\n",
      " 1131. 1194. 1266.] [596. 747.] 1342.0\n",
      "[  53.  138.  225.  299.  384.  447.  523.  705.  841.  906.  990. 1058.\n",
      " 1131. 1194. 1266.] [596. 747.] 1342.0\n",
      "[  53.  138.  225.  299.  384.  447.  523.  705.  841.  906.  990. 1058.\n",
      " 1131. 1194. 1266.] [596. 747.] 1342.0\n",
      "[  53.  138.  225.  299.  384.  447.  523.  705.  841.  906.  990. 1058.\n",
      " 1131. 1194. 1266.] [596. 747.] 1342.0\n",
      "[  53.  138.  225.  299.  384.  447.  523.  705.  841.  906.  990. 1058.\n",
      " 1131. 1194. 1266.] [596. 747.] 1342.0\n",
      "[  53.  138.  225.  299.  384.  447.  523.  705.  841.  906.  990. 1058.\n",
      " 1131. 1194. 1266.] [596. 747.] 1342.0\n"
     ]
    }
   ],
   "source": [
    "tb1, ts1, tf1 = assign_new_request(tb0, ts0, tf0, True, 1)"
   ]
  },
  {
   "cell_type": "code",
   "execution_count": 40,
   "metadata": {},
   "outputs": [
    {
     "data": {
      "text/plain": [
       "[Text(0,0,'Pedido 1'), Text(0,0,'Pedido 2')]"
      ]
     },
     "execution_count": 40,
     "metadata": {},
     "output_type": "execute_result"
    },
    {
     "data": {
      "image/png": "[encoded data removed]",
      "text/plain": [
       "<Figure size 432x288 with 1 Axes>"
      ]
     },
     "metadata": {},
     "output_type": "display_data"
    }
   ],
   "source": [
    "fig, ax = plt.subplots()\n",
    "\n",
    "ax.broken_barh(ss.compute_Vb(tb0, ts0, tf0), yrange=(0,3), color=co)\n",
    "ax.broken_barh(ss.compute_Vb(tb1, ts1, tf1), yrange=(4,7), color=co)\n",
    "\n",
    "ax.set_ylim(0, 7)\n",
    "\n",
    "ax.set_yticks([1.5, 5.5])\n",
    "ax.set_yticklabels(['Pedido 1', 'Pedido 2'])"
   ]
  },
  {
   "cell_type": "code",
   "execution_count": 187,
   "metadata": {},
   "outputs": [],
   "source": [
    "from src import ps"
   ]
  },
  {
   "cell_type": "code",
   "execution_count": 215,
   "metadata": {},
   "outputs": [],
   "source": [
    "ss = ps.Schedule()\n",
    "ss.load_data(11)"
   ]
  },
  {
   "cell_type": "code",
   "execution_count": 50,
   "metadata": {},
   "outputs": [],
   "source": [
    "tb, ts, tf, order = ss.assign_all(1, 0)"
   ]
  },
  {
   "cell_type": "code",
   "execution_count": 216,
   "metadata": {},
   "outputs": [
    {
     "name": "stdout",
     "output_type": "stream",
     "text": [
      "0.15001964569091797 3332.0\n",
      "0.33031344413757324 3274.0\n",
      "0.5026693344116211 3251.0\n",
      "1.0202488899230957 3187.0\n",
      "3.1989152431488037 3169.0\n"
     ]
    }
   ],
   "source": [
    "best = 10000000\n",
    "start = time.time()\n",
    "ti = []\n",
    "fo = []\n",
    "for i in range(ss.N):\n",
    "    tb, ts, tf, order = ss.assign_all(i, 0)\n",
    "    if max(tf) < best:\n",
    "        best = max(tf).copy()\n",
    "        clock = time.time()\n",
    "        ti.append(clock - start)\n",
    "        fo.append(best)\n",
    "        tb_opt, ts_opt, tf_opt, order_opt = tb.copy(), ts.copy(), tf.copy(), order.copy()\n",
    "        print(ti[-1], fo[-1])"
   ]
  },
  {
   "cell_type": "code",
   "execution_count": 214,
   "metadata": {},
   "outputs": [],
   "source": [
    "ps.write_output(tb_opt, ts_opt, tf_opt, fo, ti, 10)"
   ]
  },
  {
   "cell_type": "code",
   "execution_count": 147,
   "metadata": {},
   "outputs": [],
   "source": [
    "import matplotlib.pyplot as plt\n",
    "co = ['lightcoral', 'yellow', 'plum', 'grey', 'royalblue', 'maroon', 'coral', 'g', 'red', 'sienna']"
   ]
  },
  {
   "cell_type": "code",
   "execution_count": 217,
   "metadata": {},
   "outputs": [
    {
     "data": {
      "image/png": "[encoded data removed]",
      "text/plain": [
       "<Figure size 432x288 with 1 Axes>"
      ]
     },
     "metadata": {},
     "output_type": "display_data"
    }
   ],
   "source": [
    "fig, ax = plt.subplots()\n",
    "pp=0\n",
    "for i in order_opt:\n",
    "    pp += 3\n",
    "    ax.broken_barh(ss.compute_Vb(tb_opt[i], ts_opt[i], tf_opt[i]), yrange=(pp,3), color=co)\n"
   ]
  },
  {
   "cell_type": "code",
   "execution_count": 146,
   "metadata": {},
   "outputs": [
    {
     "data": {
      "text/plain": [
       "(array([2946., 3041., 3139., 3223., 3304., 3402., 3497., 3585., 3913.,\n",
       "        4010., 4106.]), array([3677.]), 4186.0)"
      ]
     },
     "execution_count": 146,
     "metadata": {},
     "output_type": "execute_result"
    }
   ],
   "source": [
    "tb_opt[14], ts_opt[14], tf_opt[14]"
   ]
  },
  {
   "cell_type": "code",
   "execution_count": 195,
   "metadata": {},
   "outputs": [
    {
     "data": {
      "text/plain": [
       "[(379.0, 30.0),\n",
       " (409.0, 92.0),\n",
       " (501.0, 48.0),\n",
       " (799.0, 13.0),\n",
       " (812.0, 9.0),\n",
       " (821.0, 7.0),\n",
       " (1076.0, 11.0),\n",
       " (1199.0, 45.0),\n",
       " (1700.0, 8.0)]"
      ]
     },
     "execution_count": 195,
     "metadata": {},
     "output_type": "execute_result"
    }
   ],
   "source": [
    "_vv = ss.compute_Vb(tb_opt[14], ts_opt[14], tf_opt[14]); _vv"
   ]
  },
  {
   "cell_type": "code",
   "execution_count": 145,
   "metadata": {},
   "outputs": [
    {
     "data": {
      "text/plain": [
       "[(2946.0, 95.0),\n",
       " (3041.0, 98.0),\n",
       " (3139.0, 84.0),\n",
       " (3223.0, 81.0),\n",
       " (3304.0, 98.0),\n",
       " (3402.0, 95.0),\n",
       " (3497.0, 88.0),\n",
       " (3585.0, 92.0),\n",
       " (3913.0, 97.0),\n",
       " (4010.0, 96.0),\n",
       " (4106.0, 80.0)]"
      ]
     },
     "execution_count": 145,
     "metadata": {},
     "output_type": "execute_result"
    }
   ],
   "source": [
    "ss.compute_Vb(tb_opt[14], ts_opt[14], tf_opt[14])"
   ]
  },
  {
   "cell_type": "code",
   "execution_count": 190,
   "metadata": {},
   "outputs": [
    {
     "data": {
      "text/plain": [
       "203.0"
      ]
     },
     "execution_count": 190,
     "metadata": {},
     "output_type": "execute_result"
    }
   ],
   "source": [
    "sum([tb1[b[h]] - ts1[h] for h, j in enumerate(ts1)])"
   ]
  },
  {
   "cell_type": "code",
   "execution_count": 185,
   "metadata": {},
   "outputs": [
    {
     "data": {
      "text/plain": [
       "(array([  53.,  138.,  225.,  299.,  384.,  447.,  523.,  705.,  841.,\n",
       "         906.,  990., 1058., 1131., 1194., 1266.]), array([596., 747.]))"
      ]
     },
     "execution_count": 185,
     "metadata": {},
     "output_type": "execute_result"
    }
   ],
   "source": [
    "tb1, ts1"
   ]
  }
 ],
 "metadata": {
  "kernelspec": {
   "display_name": "Python 3",
   "language": "python",
   "name": "python3"
  },
  "language_info": {
   "codemirror_mode": {
    "name": "ipython",
    "version": 3
   },
   "file_extension": ".py",
   "mimetype": "text/x-python",
   "name": "python",
   "nbconvert_exporter": "python",
   "pygments_lexer": "ipython3",
   "version": "3.6.5"
  }
 },
 "nbformat": 4,
 "nbformat_minor": 2
}
