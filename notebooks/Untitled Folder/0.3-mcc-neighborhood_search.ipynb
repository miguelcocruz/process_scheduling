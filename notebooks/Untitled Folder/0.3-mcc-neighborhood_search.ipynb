{
 "cells": [
  {
   "cell_type": "code",
   "execution_count": 745,
   "metadata": {},
   "outputs": [
    {
     "name": "stdout",
     "output_type": "stream",
     "text": [
      "The autoreload extension is already loaded. To reload it, use:\n",
      "  %reload_ext autoreload\n"
     ]
    }
   ],
   "source": [
    "%load_ext autoreload\n",
    "%autoreload 2"
   ]
  },
  {
   "cell_type": "code",
   "execution_count": 746,
   "metadata": {},
   "outputs": [],
   "source": [
    "from src import ps\n",
    "import time\n",
    "import matplotlib.pyplot as plt\n",
    "import numpy as np\n",
    "\n",
    "co = ['lightcoral', 'yellow', 'plum', 'grey', 'royalblue', 'maroon', 'coral', 'g', 'red', 'sienna']"
   ]
  },
  {
   "cell_type": "code",
   "execution_count": 747,
   "metadata": {},
   "outputs": [],
   "source": [
    "ss = ps.Schedule()\n",
    "ss.load_data(1)"
   ]
  },
  {
   "cell_type": "code",
   "execution_count": 585,
   "metadata": {},
   "outputs": [],
   "source": [
    "N, M, H, b, tin, tax, sec = ss.N, ss.M, ss.H, ss.b, ss.tin, ss.tax, ss.sec"
   ]
  },
  {
   "cell_type": "code",
   "execution_count": 709,
   "metadata": {},
   "outputs": [
    {
     "name": "stdout",
     "output_type": "stream",
     "text": [
      "0.5540554523468018 5739.0\n",
      "1.5980587005615234 5415.0\n",
      "15.249094247817993 5353.0\n"
     ]
    }
   ],
   "source": [
    "best = 100000\n",
    "start = time.time()\n",
    "\n",
    "ti = []\n",
    "fo = []\n",
    "\n",
    "for i in range(ss.N):\n",
    "    tb, ts, tf, order = ss.assign_all(i, 0)\n",
    "    \n",
    "    if max(tf) < best:\n",
    "        best = max(tf).copy()\n",
    "        clock = time.time()\n",
    "        ti.append(clock - start)\n",
    "        fo.append(best)\n",
    "        tb_opt, ts_opt, tf_opt, order_opt = tb.copy(), ts.copy(), tf.copy(), order.copy()\n",
    "        print(ti[-1], fo[-1])\n",
    "        "
   ]
  },
  {
   "cell_type": "code",
   "execution_count": 710,
   "metadata": {},
   "outputs": [],
   "source": [
    "# usar para obter inalterados\n",
    "tb, ts, tf, order = tb_opt.copy(), ts_opt.copy(), tf_opt.copy(), order_opt.copy()"
   ]
  },
  {
   "cell_type": "code",
   "execution_count": 727,
   "metadata": {},
   "outputs": [
    {
     "name": "stdout",
     "output_type": "stream",
     "text": [
      "5353.0\n",
      "5328.0\n",
      "5417.0\n",
      "5535.0\n",
      "5632.0\n",
      "5705.0\n",
      "5832.0\n",
      "5912.0\n",
      "5985.0\n",
      "6103.0\n",
      "6167.0\n",
      "6140.0\n",
      "6185.0\n",
      "6218.0\n",
      "6249.0\n",
      "6280.0\n",
      "6303.0\n"
     ]
    },
    {
     "ename": "KeyboardInterrupt",
     "evalue": "",
     "output_type": "error",
     "traceback": [
      "\u001b[1;31m---------------------------------------------------------------------------\u001b[0m",
      "\u001b[1;31mKeyboardInterrupt\u001b[0m                         Traceback (most recent call last)",
      "\u001b[1;32m<ipython-input-727-1f0e6d84c587>\u001b[0m in \u001b[0;36m<module>\u001b[1;34m()\u001b[0m\n\u001b[0;32m      5\u001b[0m \u001b[1;33m\u001b[0m\u001b[0m\n\u001b[0;32m      6\u001b[0m \u001b[1;33m\u001b[0m\u001b[0m\n\u001b[1;32m----> 7\u001b[1;33m     \u001b[0mtb0\u001b[0m\u001b[1;33m,\u001b[0m \u001b[0mts0\u001b[0m\u001b[1;33m,\u001b[0m \u001b[0mtf0\u001b[0m \u001b[1;33m=\u001b[0m \u001b[0mpermute_order\u001b[0m\u001b[1;33m(\u001b[0m\u001b[0mtb1\u001b[0m\u001b[1;33m,\u001b[0m \u001b[0mts1\u001b[0m\u001b[1;33m,\u001b[0m \u001b[0mtf1\u001b[0m\u001b[1;33m,\u001b[0m \u001b[1;36m1\u001b[0m\u001b[1;33m,\u001b[0m \u001b[0mindex\u001b[0m\u001b[1;33m=\u001b[0m\u001b[0mi\u001b[0m\u001b[1;33m)\u001b[0m\u001b[1;33m\u001b[0m\u001b[0m\n\u001b[0m\u001b[0;32m      8\u001b[0m     \u001b[0mprint\u001b[0m\u001b[1;33m(\u001b[0m\u001b[0mmax\u001b[0m\u001b[1;33m(\u001b[0m\u001b[0mtf0\u001b[0m\u001b[1;33m)\u001b[0m\u001b[1;33m)\u001b[0m\u001b[1;33m\u001b[0m\u001b[0m\n",
      "\u001b[1;32m<ipython-input-694-43b5c8f62d35>\u001b[0m in \u001b[0;36mpermute_order\u001b[1;34m(tb, ts, tf, h_perm, index)\u001b[0m\n\u001b[0;32m     89\u001b[0m     \u001b[1;32mfor\u001b[0m \u001b[0mi\u001b[0m\u001b[1;33m,\u001b[0m \u001b[0mind\u001b[0m \u001b[1;32min\u001b[0m \u001b[0menumerate\u001b[0m\u001b[1;33m(\u001b[0m\u001b[0morder\u001b[0m\u001b[1;33m[\u001b[0m\u001b[0mindex\u001b[0m \u001b[1;33m+\u001b[0m \u001b[1;36m1\u001b[0m\u001b[1;33m:\u001b[0m\u001b[1;33m]\u001b[0m\u001b[1;33m)\u001b[0m\u001b[1;33m:\u001b[0m\u001b[1;33m\u001b[0m\u001b[0m\n\u001b[0;32m     90\u001b[0m         \u001b[0mmat_tb\u001b[0m \u001b[1;33m=\u001b[0m \u001b[0mnp\u001b[0m\u001b[1;33m.\u001b[0m\u001b[0mmatrix\u001b[0m\u001b[1;33m(\u001b[0m\u001b[0mtb\u001b[0m\u001b[1;33m)\u001b[0m\u001b[1;33m\u001b[0m\u001b[0m\n\u001b[1;32m---> 91\u001b[1;33m         \u001b[0mmat_fin\u001b[0m \u001b[1;33m=\u001b[0m \u001b[0mmat_tb\u001b[0m \u001b[1;33m+\u001b[0m \u001b[0mnp\u001b[0m\u001b[1;33m.\u001b[0m\u001b[0mmatrix\u001b[0m\u001b[1;33m(\u001b[0m\u001b[0mcompute_T\u001b[0m\u001b[1;33m(\u001b[0m\u001b[0mtb\u001b[0m\u001b[1;33m,\u001b[0m \u001b[0mts\u001b[0m\u001b[1;33m,\u001b[0m \u001b[0mtf\u001b[0m\u001b[1;33m)\u001b[0m\u001b[1;33m)\u001b[0m\u001b[1;33m\u001b[0m\u001b[0m\n\u001b[0m\u001b[0;32m     92\u001b[0m \u001b[1;33m\u001b[0m\u001b[0m\n\u001b[0;32m     93\u001b[0m         \u001b[0msubmat_fin\u001b[0m \u001b[1;33m=\u001b[0m \u001b[0mmat_fin\u001b[0m\u001b[1;33m[\u001b[0m\u001b[0morder\u001b[0m\u001b[1;33m[\u001b[0m\u001b[1;33m:\u001b[0m\u001b[0mindex\u001b[0m \u001b[1;33m+\u001b[0m \u001b[0mi\u001b[0m \u001b[1;33m+\u001b[0m \u001b[1;36m1\u001b[0m\u001b[1;33m]\u001b[0m\u001b[1;33m,\u001b[0m\u001b[1;33m:\u001b[0m\u001b[1;33m]\u001b[0m\u001b[1;33m\u001b[0m\u001b[0m\n",
      "\u001b[1;32mc:\\users\\miguel\\appdata\\local\\programs\\python\\python36\\lib\\site-packages\\numpy\\matrixlib\\defmatrix.py\u001b[0m in \u001b[0;36m__new__\u001b[1;34m(subtype, data, dtype, copy)\u001b[0m\n\u001b[0;32m    227\u001b[0m             \u001b[1;32mif\u001b[0m \u001b[0mintype\u001b[0m \u001b[1;33m!=\u001b[0m \u001b[0mdata\u001b[0m\u001b[1;33m.\u001b[0m\u001b[0mdtype\u001b[0m\u001b[1;33m:\u001b[0m\u001b[1;33m\u001b[0m\u001b[0m\n\u001b[0;32m    228\u001b[0m                 \u001b[1;32mreturn\u001b[0m \u001b[0mnew\u001b[0m\u001b[1;33m.\u001b[0m\u001b[0mastype\u001b[0m\u001b[1;33m(\u001b[0m\u001b[0mintype\u001b[0m\u001b[1;33m)\u001b[0m\u001b[1;33m\u001b[0m\u001b[0m\n\u001b[1;32m--> 229\u001b[1;33m             \u001b[1;32mif\u001b[0m \u001b[0mcopy\u001b[0m\u001b[1;33m:\u001b[0m \u001b[1;32mreturn\u001b[0m \u001b[0mnew\u001b[0m\u001b[1;33m.\u001b[0m\u001b[0mcopy\u001b[0m\u001b[1;33m(\u001b[0m\u001b[1;33m)\u001b[0m\u001b[1;33m\u001b[0m\u001b[0m\n\u001b[0m\u001b[0;32m    230\u001b[0m             \u001b[1;32melse\u001b[0m\u001b[1;33m:\u001b[0m \u001b[1;32mreturn\u001b[0m \u001b[0mnew\u001b[0m\u001b[1;33m\u001b[0m\u001b[0m\n\u001b[0;32m    231\u001b[0m \u001b[1;33m\u001b[0m\u001b[0m\n",
      "\u001b[1;31mKeyboardInterrupt\u001b[0m: "
     ]
    }
   ],
   "source": [
    "best = max(tf_opt)\n",
    "print(best)\n",
    "\n",
    "tb1, ts1, tf1, order1 = tb_opt.copy(), ts_opt.copy(), tf_opt.copy(), order_opt.copy()\n",
    "\n",
    "for i in range(2,N):\n",
    "    tb0, ts0, tf0 = ss.permute_order(tb1, ts1, tf1, order1, 1, index=i)\n",
    "    print(max(tf0)) "
   ]
  },
  {
   "cell_type": "code",
   "execution_count": 753,
   "metadata": {},
   "outputs": [],
   "source": [
    "tb1, ts1, tf1 = ss.permute_order(tb, ts, tf, order, 1, 5)"
   ]
  },
  {
   "cell_type": "code",
   "execution_count": 720,
   "metadata": {},
   "outputs": [],
   "source": [
    "tb, ts, tf = permute_order(tb, ts, tf, 1, index=5)"
   ]
  },
  {
   "cell_type": "code",
   "execution_count": 754,
   "metadata": {},
   "outputs": [
    {
     "data": {
      "image/png": "[encoded data removed]",
      "text/plain": [
       "<Figure size 432x288 with 1 Axes>"
      ]
     },
     "metadata": {},
     "output_type": "display_data"
    }
   ],
   "source": [
    "fig, ax = plt.subplots()\n",
    "pp=0\n",
    "for i in order[:7:\n",
    "    pp += 3\n",
    "    ax.broken_barh(ss.compute_Vb(tb1[i], ts1[i], tf1[i]), yrange=(pp,3), color=co)"
   ]
  },
  {
   "cell_type": "code",
   "execution_count": 722,
   "metadata": {},
   "outputs": [],
   "source": [
    "ps.write_output(tb, ts, tf, fo, ti, 1)"
   ]
  },
  {
   "cell_type": "code",
   "execution_count": 723,
   "metadata": {},
   "outputs": [
    {
     "data": {
      "text/plain": [
       "5632.0"
      ]
     },
     "execution_count": 723,
     "metadata": {},
     "output_type": "execute_result"
    }
   ],
   "source": [
    "max(tf)"
   ]
  },
  {
   "cell_type": "code",
   "execution_count": 358,
   "metadata": {},
   "outputs": [
    {
     "data": {
      "text/plain": [
       "(0, 15)"
      ]
     },
     "execution_count": 358,
     "metadata": {},
     "output_type": "execute_result"
    },
    {
     "data": {
      "image/png": "[encoded data removed]",
      "text/plain": [
       "<Figure size 432x288 with 1 Axes>"
      ]
     },
     "metadata": {},
     "output_type": "display_data"
    }
   ],
   "source": [
    "fig, ax = plt.subplots()\n",
    "ax.broken_barh(ss.compute_Vb(tb[4], ts[4], tf[4]), yrange=(0,5), color=co)\n",
    "ax.broken_barh(ss.compute_Vb(tb[16], ts[16], tf[16]), yrange=(5,5), color=co)\n",
    "\n",
    "ax.set_ylim(0,15)"
   ]
  },
  {
   "cell_type": "code",
   "execution_count": 694,
   "metadata": {},
   "outputs": [],
   "source": [
    "def permute_order(tb, ts, tf, h_perm, index):\n",
    "    \n",
    "    j_perm = b[h_perm] - 1\n",
    "    \n",
    "    ind2 = order[index]\n",
    "    ind1 = order[index - 1]\n",
    "    \n",
    "    # times of ind2\n",
    "    \n",
    "    mat_tb = np.matrix(tb)\n",
    "    mat_fin = mat_tb + np.matrix(compute_T(tb, ts, tf))\n",
    "    \n",
    "    submat_fin = mat_fin[order[:index-1],:]    \n",
    "    \n",
    "    for j in range(j_perm + 1, M):\n",
    "        \n",
    "        if j in b: #if j is preceded by a drying step\n",
    "            #tempo minimo de secado e pedidos anteriores\n",
    "            tb[ind2][j] = max(ts[ind2][b.index(j)] + sec[ind2][b.index(j)], int(max(submat_fin[:,j])))\n",
    "        \n",
    "        else:\n",
    "            tb[ind2][j] = max(tb[ind2][j - 1] + tin[ind2][j - 1], int(max(submat_fin[:,j])))\n",
    "            \n",
    "        if j + 1 in b:\n",
    "            ts[ind2][b.index(j + 1)] = tb[ind2][j] + tin[ind2][j]\n",
    "\n",
    "        elif j == M - 1:\n",
    "            tf[ind2] = tb[ind2][j] + tin[ind2][j]\n",
    "    \n",
    "    # falta corrigir tax\n",
    "    \n",
    "    new_j = j_perm + 1\n",
    "    \n",
    "    for j in range(j_perm + 1, M):\n",
    "        \n",
    "        if j + 1 in b:\n",
    "            #if this bath is followed by a drying step\n",
    "            new_j = j + 1\n",
    "        \n",
    "        elif j < M - 1 and tb[ind2][j + 1] > tb[ind2][j] + tax[ind2][j]:\n",
    "            tb[ind2][new_j:j + 1] += tb[ind2][j + 1] - tb[ind2][j] - tax[ind2][j]\n",
    "            \n",
    "    \n",
    "    # times of ind1\n",
    "    \n",
    "    for j in range(j_perm + 1, M):\n",
    "        \n",
    "        if j in b: #if j is preceded by a drying step\n",
    "            #tempo minimo de secado e pedidos anteriores\n",
    "            if j + 1 in b:\n",
    "\n",
    "                tb[ind1][j] = max(ts[ind1][b.index(j)] + sec[ind1][b.index(j)], int(max(submat_fin[:,j])), ts[ind2][b.index(j + 1)])\n",
    "                \n",
    "            else:\n",
    "                tb[ind1][j] = max(ts[ind1][b.index(j)] + sec[ind1][b.index(j)], int(max(submat_fin[:,j])), tb[ind2][j + 1])\n",
    "        \n",
    "        elif j < M - 1:\n",
    "            if j + 1 in b:  \n",
    "                tb[ind1][j] = max(tb[ind1][j - 1] + tin[ind1][j - 1], int(max(submat_fin[:,j])), ts[ind2][b.index(j + 1)])\n",
    "                \n",
    "            else:\n",
    "                tb[ind1][j] = max(tb[ind1][j - 1] + tin[ind1][j - 1], int(max(submat_fin[:,j])), tb[ind2][j + 1])\n",
    "                \n",
    "        else:\n",
    "            tb[ind1][j] = max(tb[ind1][j - 1] + tin[ind1][j - 1], int(max(submat_fin[:,j])), tf[ind2])\n",
    "            \n",
    "        if j + 1 in b:\n",
    "            ts[ind1][b.index(j + 1)] = tb[ind1][j] + tin[ind1][j]\n",
    "\n",
    "        elif j == M - 1:\n",
    "            tf[ind1] = tb[ind1][j] + tin[ind1][j]\n",
    "    \n",
    "    # tax for ind1\n",
    "    \n",
    "    new_j = j_perm + 1\n",
    "    \n",
    "    for j in range(j_perm + 1, M):\n",
    "        \n",
    "        if j + 1 in b:\n",
    "            #if this bath is followed by a drying step\n",
    "            new_j = j + 1\n",
    "        \n",
    "        elif j < M - 1 and tb[ind1][j + 1] > tb[ind1][j] + tax[ind1][j]:\n",
    "            tb[ind1][new_j:j + 1] += tb[ind1][j + 1] - tb[ind1][j] - tax[ind1][j]\n",
    "            \n",
    "    # falta reajustar seguintes pedidos\n",
    "    \n",
    "    \n",
    "    for i, ind in enumerate(order[index + 1:]):\n",
    "        mat_tb = np.matrix(tb)\n",
    "        mat_fin = mat_tb + np.matrix(compute_T(tb, ts, tf))\n",
    "        \n",
    "        submat_fin = mat_fin[order[:index + i + 1],:]\n",
    "\n",
    "        for j in range(j_perm + 1, M):\n",
    "            \n",
    "            if j in b: #if j is preceded by a drying step\n",
    "                #tempo minimo de secado e pedidos anteriores\n",
    "                tb[ind][j] = max(ts[ind][b.index(j)] + sec[ind][b.index(j)], int(max(submat_fin[:,j])))\n",
    "\n",
    "            else:\n",
    "                tb[ind][j] = max(tb[ind][j - 1] + tin[ind][j - 1], int(max(submat_fin[:,j])))\n",
    "\n",
    "            if j + 1 in b:\n",
    "                ts[ind][b.index(j + 1)] = tb[ind][j] + tin[ind][j]\n",
    "\n",
    "            elif j == M - 1:\n",
    "                tf[ind] = tb[ind][j] + tin[ind][j]\n",
    "    \n",
    "        new_j = j_perm + 1\n",
    "        \n",
    "        for j in range(j_perm + 1, M):\n",
    "\n",
    "            if j + 1 in b:\n",
    "                #if this bath is followed by a drying step\n",
    "                new_j = j + 1\n",
    "\n",
    "            elif j < M - 1 and tb[ind][j + 1] > tb[ind][j] + tax[ind][j]:\n",
    "                tb[ind][new_j:j + 1] += tb[ind][j + 1] - tb[ind][j] - tax[ind][j]\n",
    "            \n",
    "            \n",
    "    return tb, ts, tf"
   ]
  },
  {
   "cell_type": "code",
   "execution_count": 411,
   "metadata": {},
   "outputs": [
    {
     "data": {
      "text/plain": [
       "7.0"
      ]
     },
     "execution_count": 411,
     "metadata": {},
     "output_type": "execute_result"
    }
   ],
   "source": [
    "tb[12][6] - tb[12][5] - tax[12][5]"
   ]
  },
  {
   "cell_type": "code",
   "execution_count": 280,
   "metadata": {},
   "outputs": [
    {
     "data": {
      "text/plain": [
       "[3,\n",
       " 7,\n",
       " 10,\n",
       " 4,\n",
       " 16,\n",
       " 12,\n",
       " 21,\n",
       " 0,\n",
       " 20,\n",
       " 6,\n",
       " 18,\n",
       " 24,\n",
       " 2,\n",
       " 27,\n",
       " 13,\n",
       " 26,\n",
       " 22,\n",
       " 25,\n",
       " 15,\n",
       " 5,\n",
       " 17,\n",
       " 1,\n",
       " 11,\n",
       " 9,\n",
       " 19,\n",
       " 14,\n",
       " 8,\n",
       " 23]"
      ]
     },
     "execution_count": 280,
     "metadata": {},
     "output_type": "execute_result"
    }
   ],
   "source": [
    "order"
   ]
  },
  {
   "cell_type": "code",
   "execution_count": 186,
   "metadata": {},
   "outputs": [
    {
     "data": {
      "text/plain": [
       "matrix([[ 21.,  33.,  63.,  97., 117., 269., 276., 293., 321., 347.,\n",
       "         357., 462., 494., 567., 628.],\n",
       "        [ 61.,  75., 100., 117., 137., 280., 302., 335., 358., 397.,\n",
       "         429., 559., 654., 726., 814.],\n",
       "        [109., 136., 149., 161., 177., 334., 349., 382., 397., 437.,\n",
       "         466., 728., 804., 892., 974.]])"
      ]
     },
     "execution_count": 186,
     "metadata": {},
     "output_type": "execute_result"
    }
   ],
   "source": [
    "latest_req = int(max(mat_fim[order[:4-1], 5]))"
   ]
  },
  {
   "cell_type": "code",
   "execution_count": 682,
   "metadata": {},
   "outputs": [],
   "source": [
    "mat_tb = np.matrix(tb)\n",
    "mat_fin = mat_tb + np.matrix(compute_T(tb, ts, tf))\n",
    "    \n",
    "submat_fin = mat_fin[order,:]"
   ]
  },
  {
   "cell_type": "code",
   "execution_count": 683,
   "metadata": {},
   "outputs": [
    {
     "data": {
      "text/plain": [
       "matrix([[  21.,   53.,   62.,   95.,  124.,  131.,  147.,  277.,  403.,\n",
       "          435.,  484.,  568.,  657.,  702.,  783.],\n",
       "        [  53.,   82.,  107.,  135.,  171.,  179.,  215.,  311.,  613.,\n",
       "          639.,  725.,  805.,  887.,  968.,  818.],\n",
       "        [  84.,  120.,  135.,  171.,  180.,  215.,  246.,  391.,  777.,\n",
       "          861.,  943., 1029., 1102., 1202.,  993.]])"
      ]
     },
     "execution_count": 683,
     "metadata": {},
     "output_type": "execute_result"
    }
   ],
   "source": [
    "submat_fin[:3,:]"
   ]
  },
  {
   "cell_type": "code",
   "execution_count": 684,
   "metadata": {},
   "outputs": [
    {
     "data": {
      "text/plain": [
       "array([[   53.,    75.,    97.,    27.,    70.,    34.,     6.,    26.,\n",
       "           89.,    64.,    96.,    57.,    53.,    21., -3282.],\n",
       "       [   90.,    60.,    74.,    85.,    63.,    76.,    73.,    42.,\n",
       "           72.,    84.,    86.,    82.,    80.,    86., -3622.],\n",
       "       [    8.,    24.,    21.,    20.,    37.,    30.,    33.,    30.,\n",
       "           31.,    24.,     9.,    37.,    16.,    20., -1149.],\n",
       "       [   10.,    23.,    27.,    32.,    19.,     9.,    30.,    25.,\n",
       "           85.,    17.,    83.,    87.,    45.,    47.,  -815.],\n",
       "       [   92.,    95.,    75.,    76.,    96.,    14.,    19.,    43.,\n",
       "           69.,    73.,    52.,    40.,    88.,   100., -2348.],\n",
       "       [   31.,    11.,    39.,    23.,    39.,     5.,    29.,    26.,\n",
       "           98.,    97.,    24.,    59.,    91.,    79.,  -541.],\n",
       "       [   31.,    36.,    15.,    36.,     9.,    35.,    31.,    80.,\n",
       "           21.,    84.,    82.,    86.,    73.,   100.,  -209.],\n",
       "       [   31.,    39.,    35.,    74.,    28.,    67.,    60.,    38.,\n",
       "           25.,    27.,    39.,    25.,    28.,     9., -1231.],\n",
       "       [   13.,    46.,    18.,    30.,    13.,    36.,    12.,    71.,\n",
       "           89.,    94.,    89.,    72.,   100.,    77., -2983.],\n",
       "       [   40.,    31.,    17.,    18.,    23.,    10.,    35.,    12.,\n",
       "           71.,    23.,    40.,    59.,    12.,    56.,  -939.],\n",
       "       [   71.,    92.,    88.,    82.,    76.,    96.,    96.,    82.,\n",
       "           86.,    20.,    29.,    57.,    90.,    99., -2171.],\n",
       "       [   68.,    85.,    66.,    69.,    90.,    74.,    70.,    16.,\n",
       "           98.,    88.,    85.,    81.,    90.,    82., -3804.],\n",
       "       [   89.,    61.,    89.,    82.,    74.,    91.,    84.,    94.,\n",
       "           92.,    96.,    81.,    98.,    91.,    87., -4156.],\n",
       "       [   11.,     9.,    23.,    35.,     8.,    36.,     5.,    63.,\n",
       "           68.,    98.,    44.,    36.,    97.,    70.,  -718.],\n",
       "       [   85.,    80.,    92.,    66.,    97.,    67.,    65.,    39.,\n",
       "           23.,    75.,    35.,    76.,    54.,    52., -1667.],\n",
       "       [   77.,    73.,    82.,    93.,    98.,    65.,    61.,    48.,\n",
       "           82.,    97.,    96.,    82.,    93.,    91., -4265.],\n",
       "       [   40.,    13.,    19.,    21.,    31.,    23.,    25.,    10.,\n",
       "           98.,    93.,    66.,   100.,    80.,    79.,  -284.],\n",
       "       [   26.,    24.,    39.,    69.,    40.,    31.,     6.,    99.,\n",
       "          100.,    84.,    72.,    74.,    89.,    69., -2759.],\n",
       "       [   97.,    66.,    85.,    75.,    86.,    94.,    84.,    45.,\n",
       "           20.,    12.,    62.,    34.,    32.,    47., -1960.],\n",
       "       [   73.,    82.,    96.,    95.,    86.,    72.,    93.,    17.,\n",
       "           96.,    82.,    93.,    91.,   100.,    78., -4368.],\n",
       "       [   74.,    90.,    63.,    85.,    94.,    99.,    72.,    32.,\n",
       "           50.,    14.,    64.,    36.,    42.,    76., -2075.],\n",
       "       [   25.,    13.,    15.,    31.,    20.,    25.,    27.,    74.,\n",
       "           96.,    98.,    70.,    65.,    93.,    91.,  -375.],\n",
       "       [   12.,     8.,    91.,    73.,    34.,    70.,    80.,    21.,\n",
       "           57.,   100.,    65.,    95.,    85.,    29., -3199.],\n",
       "       [   27.,    31.,    35.,    39.,    26.,    24.,    21.,     8.,\n",
       "           25.,    39.,    25.,    28.,    24.,    22., -1192.],\n",
       "       [   86.,    70.,    90.,    92.,    65.,    83.,    69.,    71.,\n",
       "           85.,    98.,    87.,    68.,    87.,    81., -3876.],\n",
       "       [   68.,    26.,    13.,    22.,    97.,    65.,    15.,    92.,\n",
       "           84.,    93.,   100.,    73.,    76.,    70., -2660.],\n",
       "       [   76.,    68.,    97.,    72.,    86.,    97.,    65.,    14.,\n",
       "           49.,     9.,    70.,    20.,    75.,    54., -1592.],\n",
       "       [   75.,    28.,    99.,    71.,    35.,    20.,    37.,    85.,\n",
       "           61.,    97.,    99.,    42.,    96.,    36., -3519.],\n",
       "       [   21.,    32.,     9.,    33.,    29.,     7.,    16.,    23.,\n",
       "           16.,    32.,    49.,    84.,    89.,    45.,    81.],\n",
       "       [   29.,    36.,    17.,    24.,    29.,    15.,     7.,    80.,\n",
       "           30.,    73.,   100.,    75.,     8.,    62.,  -864.],\n",
       "       [   92.,    90.,    26.,    99.,    44.,    14.,    31.,     9.,\n",
       "           99.,    68.,    97.,    69.,    68.,    99., -3516.],\n",
       "       [   96.,    76.,    99.,    81.,    98.,   100.,    87.,    65.,\n",
       "           93.,    90.,   100.,    85.,    82.,    67., -4411.],\n",
       "       [   94.,    68.,    67.,    76.,    69.,    69.,    93.,    63.,\n",
       "           15.,    13.,     8.,    21.,    34.,    32., -1344.],\n",
       "       [   99.,    87.,    61.,    72.,    84.,    91.,    64.,    54.,\n",
       "           80.,    79.,    92.,    90.,    87.,    98., -4081.],\n",
       "       [  100.,    70.,    88.,    84.,    28.,    30.,    89.,    61.,\n",
       "           70.,    92.,    97.,    93.,    85.,    91., -2386.],\n",
       "       [   76.,    66.,    73.,    90.,    64.,    81.,    69.,    16.,\n",
       "           25.,    28.,    36.,    38.,    19.,    12., -1338.],\n",
       "       [   50.,    30.,    37.,    38.,     5.,    75.,    82.,    99.,\n",
       "           71.,    89.,    47.,    85.,   100.,    32., -3142.],\n",
       "       [   84.,    72.,    72.,    89.,    80.,    86.,    91.,    27.,\n",
       "            8.,    36.,    11.,     8.,    31.,    39., -1525.],\n",
       "       [   71.,    96.,    63.,    86.,    73.,    75.,    76.,    97.,\n",
       "           90.,   100.,    85.,    85.,    98.,    68., -4623.],\n",
       "       [   31.,    17.,    11.,    23.,    10.,    35.,    20.,    65.,\n",
       "           35.,    39.,    38.,    40.,    35.,    17., -1068.],\n",
       "       [   99.,    66.,    97.,    70.,    99.,    77.,    96.,    74.,\n",
       "           43.,    50.,     9.,    98.,    13.,    88., -2101.],\n",
       "       [   81.,    91.,    97.,    66.,    85.,    75.,    74.,     6.,\n",
       "           55.,    61.,    75.,    51.,    70.,    25., -1763.],\n",
       "       [   24.,    27.,    14.,    40.,    24.,    33.,    10.,     8.,\n",
       "           20.,    22.,    17.,    32.,    30.,    34., -1171.],\n",
       "       [   91.,    97.,    66.,    85.,    75.,    83.,    97.,     9.,\n",
       "           64.,    48.,    39.,    38.,    77.,    18., -1875.],\n",
       "       [   82.,    96.,    96.,    85.,    72.,    93.,    85.,    40.,\n",
       "           96.,    90.,    98.,    93.,    90.,   100., -4456.],\n",
       "       [   65.,    27.,    67.,    13.,    67.,    97.,    44.,    79.,\n",
       "           92.,   100.,    84.,    93.,    84.,    81., -2576.],\n",
       "       [  100.,    92.,    96.,    83.,    77.,    79.,    70.,    92.,\n",
       "           98.,    93.,    90.,   100.,    68.,    71., -4503.],\n",
       "       [   65.,    65.,    77.,    61.,    45.,    84.,    53.,     9.,\n",
       "           39.,    36.,    26.,    22.,    32.,     5., -1262.],\n",
       "       [   81.,    99.,    76.,    72.,    72.,    75.,    60.,    65.,\n",
       "           87.,    83.,    80.,    73.,    98.,    87., -3995.],\n",
       "       [   14.,    76.,    27.,    53.,    27.,    67.,    11.,    67.,\n",
       "           97.,    93.,    92.,    97.,    87.,    93., -2479.],\n",
       "       [   13.,    31.,    15.,    39.,    14.,    25.,    20.,    88.,\n",
       "           87.,    38.,    64.,    91.,    97.,    98.,  -469.],\n",
       "       [   31.,     7.,    23.,    34.,    14.,    35.,    16.,    70.,\n",
       "           38.,    32.,    21.,    38.,     9.,    13., -1112.],\n",
       "       [   20.,    29.,    25.,    28.,    36.,     8.,    36.,    34.,\n",
       "           52.,    26.,    86.,    80.,    82.,    81.,  -150.],\n",
       "       [   24.,    10.,    79.,    30.,     9.,    30.,    40.,    15.,\n",
       "           94.,    91.,    79.,    91.,    77.,    97., -2880.],\n",
       "       [   82.,    63.,    78.,    78.,    69.,    67.,    71.,    79.,\n",
       "           93.,    80.,    81.,    99.,    82.,    80., -3709.]])"
      ]
     },
     "execution_count": 684,
     "metadata": {},
     "output_type": "execute_result"
    }
   ],
   "source": [
    "compute_T(tb, ts, tf)"
   ]
  },
  {
   "cell_type": "code",
   "execution_count": 29,
   "metadata": {},
   "outputs": [],
   "source": [
    "def compute_T(tb, ts, tf):\n",
    "    '''returns a vector T_ij whose elements represent the time\n",
    "    the request i spent on bath j'''\n",
    "    \n",
    "    global N, M\n",
    "\n",
    "    T = np.zeros(shape=(N, M))\n",
    "    \n",
    "    for i in range(N):\n",
    "        for j in range(M):\n",
    "            if j == M - 1:\n",
    "                T[i, j] = tf[i] - tb[i][j]\n",
    "            elif j+1 in b:\n",
    "                T[i, j] = ts[i][b.index(j+1)] - tb[i][j]\n",
    "            else:\n",
    "                T[i, j] = tb[i][j+1] - tb[i][j]\n",
    "            #T[i, j] = (not S[j]) * tb[i, j+1] + S[j] * ts[i, b.index(j)] - tb[i, j]\n",
    "            \n",
    "    return T"
   ]
  },
  {
   "cell_type": "code",
   "execution_count": 146,
   "metadata": {},
   "outputs": [],
   "source": [
    "mat_fim = Mat_tb + np.matrix(compute_T(tb, ts, tf))"
   ]
  },
  {
   "cell_type": "code",
   "execution_count": 108,
   "metadata": {},
   "outputs": [
    {
     "data": {
      "text/plain": [
       "1032.0"
      ]
     },
     "execution_count": 108,
     "metadata": {},
     "output_type": "execute_result"
    }
   ],
   "source": [
    "tf[10]"
   ]
  },
  {
   "cell_type": "code",
   "execution_count": 406,
   "metadata": {},
   "outputs": [
    {
     "data": {
      "text/plain": [
       "[3734.0, 3502.0, 3501.0, 3463.0]"
      ]
     },
     "execution_count": 406,
     "metadata": {},
     "output_type": "execute_result"
    }
   ],
   "source": [
    "fo"
   ]
  },
  {
   "cell_type": "code",
   "execution_count": 440,
   "metadata": {},
   "outputs": [],
   "source": [
    "ps.write_output(tb, ts, tf, fo, ti, 99)"
   ]
  }
 ],
 "metadata": {
  "kernelspec": {
   "display_name": "Python 3",
   "language": "python",
   "name": "python3"
  },
  "language_info": {
   "codemirror_mode": {
    "name": "ipython",
    "version": 3
   },
   "file_extension": ".py",
   "mimetype": "text/x-python",
   "name": "python",
   "nbconvert_exporter": "python",
   "pygments_lexer": "ipython3",
   "version": "3.6.5"
  }
 },
 "nbformat": 4,
 "nbformat_minor": 2
}
