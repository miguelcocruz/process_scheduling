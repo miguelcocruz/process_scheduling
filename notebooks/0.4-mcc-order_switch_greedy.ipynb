{
 "cells": [
  {
   "cell_type": "markdown",
   "metadata": {},
   "source": [
    "## Order switching greedy algorithm"
   ]
  },
  {
   "cell_type": "code",
   "execution_count": 2,
   "metadata": {},
   "outputs": [],
   "source": [
    "%load_ext autoreload\n",
    "%autoreload 2"
   ]
  },
  {
   "cell_type": "code",
   "execution_count": 3,
   "metadata": {},
   "outputs": [],
   "source": [
    "from src import ps\n",
    "import matplotlib.pyplot as plt\n",
    "import numpy as np\n",
    "import pandas as pd"
   ]
  },
  {
   "cell_type": "code",
   "execution_count": 4,
   "metadata": {},
   "outputs": [],
   "source": [
    "ss = ps.Schedule()\n",
    "ss.load_data(8)"
   ]
  },
  {
   "cell_type": "code",
   "execution_count": 5,
   "metadata": {},
   "outputs": [],
   "source": [
    "request = 0\n",
    "bathset = 0\n",
    "\n",
    "tb_prev = [0 for _ in range(3)]\n",
    "ts_prev = [0]\n",
    "tf_prev = 0\n",
    "\n",
    "tb = [0 for _ in range(ss.M)]\n",
    "ts = [0 for _ in range(ss.H)]\n",
    "tf = [0]\n",
    "\n",
    "if bathset == 0:\n",
    "    start = 0\n",
    "    end = ss.b[bathset] # don't subtract 1, so it is included in the range\n",
    "\n",
    "else:\n",
    "    start = ss.b[bathset - 1]\n",
    "    end = ss.b[bathset]\n",
    "\n",
    "for j in range(start, end):\n",
    "    \n",
    "    if j == 0:\n",
    "        \n",
    "        if j + 1 in ss.b: # next to bath 0 is drying step h\n",
    "            tb[0] = ts_prev[0]\n",
    "            ts[0] = tb[0] + ss.tin[request][0]\n",
    "            \n",
    "        else:\n",
    "            tb[0] = tb_prev[1]\n",
    "        \n",
    "    elif j < ss.M - 1:\n",
    "        \n",
    "        if j in ss.b: # bath j is preceded by a drying step\n",
    "            \n",
    "            if j + 1 in self.b:\n",
    "                \n",
    "                tb[j] = max(ts[bathset - 1] + ss.sec[request][bathset - 1], ts_prev[bathset])\n",
    "                ts[bathset] = tb[j] + ss.tin[request][j]\n",
    "                \n",
    "            else:\n",
    "                tb[j] = max(ts[bathset - 1] + ss.sec[request][bathset - 1], tb_prev[j + 1])\n",
    "            \n",
    "        else:\n",
    "            \n",
    "            if j + 1 in ss.b:\n",
    "                tb[j] = max(tb[j - 1] + ss.tin[request][j - 1], ts_prev[bathset - 1])\n",
    "                ts[bathset] = tb[j] + ss.tin[request][j]\n",
    "                \n",
    "            else:\n",
    "                tb[j] = max(tb[j - 1] + ss.tin[request][j - 1], tb_prev[j + 1])\n",
    "                \n",
    "            if tb[j] - tb[j - 1] > ss.tax[request][j - 1]:\n",
    "                \n",
    "                dif = tb[j] - tb[j - 1] - ss.tax[request][j - 1]\n",
    "                \n",
    "                for k in reversed(range(start, j)):\n",
    "                    if k in ss.b or k == 0:\n",
    "                        tb[k:j] += dif\n",
    "                        break\n",
    "                    else:\n",
    "                        shift = tb[k] + tb[k - 1] + ss.tax[request][k - 1]\n",
    "                        tb[k:j] += min(dif, shift)\n",
    "                        dif -= shift\n",
    "                        if dif <= 0:\n",
    "                            break\n",
    "                            \n",
    "            \n",
    "    else:\n",
    "        \n",
    "        if j in ss.b:\n",
    "            tb[j] = max(ts[bathset - 1] + ss.sec[request][bathset - 1], tf_prev)\n",
    "            \n",
    "        else:\n",
    "            tb[j] = max(tb[j - 1] + ss.tin[request][j - 1], tf_prev)\n",
    "            \n",
    "            if tb[j] - tb[j - 1] > ss.tax[request][j - 1]:\n",
    "                \n",
    "                dif = tb[j] - tb[j - 1] - ss.tax[request][j - 1]\n",
    "                \n",
    "                for k in reversed(range(start, j)):\n",
    "                    if k in ss.b or k == 0:\n",
    "                        tb[k:j] += dif\n",
    "                        break\n",
    "                    else:\n",
    "                        shift = tb[k] + tb[k - 1] + ss.tax[request][k - 1]\n",
    "                        tb[k:j] += min(dif, shift)\n",
    "                        dif -= shift\n",
    "                        if dif <= 0:\n",
    "                            break\n",
    "        \n",
    "    if bathset == ss.H:\n",
    "        tf = tb[ss.M - 1] + ss.tin[request][ss.M - 1]\n",
    "        \n",
    "        "
   ]
  },
  {
   "cell_type": "code",
   "execution_count": 5,
   "metadata": {},
   "outputs": [],
   "source": [
    "request = 0\n",
    "bathset = 0\n",
    "\n",
    "TB = [None for _ in range(ss.N)]\n",
    "TS = [None for _ in range(ss.N)]\n",
    "TF = [None for _ in range(ss.N)]\n",
    "\n",
    "i_prev = 0\n",
    "TB[0] = [0 for _ in range(ss.M)]\n",
    "TS[0] = [0 for _ in range(ss.H)]\n",
    "TF[0] = 0\n",
    "\n",
    "for i in range(ss.N):\n",
    "    \n",
    "    tb = np.zeros(shape=(ss.M))\n",
    "    ts = np.zeros(shape=(ss.H))\n",
    "    tf = 0\n",
    "    \n",
    "    tb_prev = TB[i_prev].copy()\n",
    "    ts_prev = TS[i_prev].copy()\n",
    "    tf_prev = TF[i_prev]\n",
    "\n",
    "    if bathset == 0:\n",
    "        start = 0\n",
    "        end = ss.b[bathset] # don't subtract 1, so it is included in the range\n",
    "\n",
    "    else:\n",
    "        start = ss.b[bathset - 1]\n",
    "        end = ss.b[bathset]\n",
    "\n",
    "    for j in range(start, end):\n",
    "\n",
    "        if j == 0:\n",
    "\n",
    "            if j + 1 in ss.b: # next to bath 0 is drying step h\n",
    "                tb[0] = ts_prev[0]\n",
    "                ts[0] = tb[0] + ss.tin[i][0]\n",
    "\n",
    "            else:\n",
    "                tb[0] = tb_prev[1]\n",
    "\n",
    "        elif j < ss.M - 1:\n",
    "\n",
    "            if j in ss.b: # bath j is preceded by a drying step\n",
    "\n",
    "                if j + 1 in ss.b:\n",
    "\n",
    "                    tb[j] = max(ts[bathset - 1] + ss.sec[i][bathset - 1], ts_prev[bathset])\n",
    "                    ts[bathset] = tb[j] + ss.tin[i][j]\n",
    "\n",
    "                else:\n",
    "                    tb[j] = max(ts[bathset - 1] + ss.sec[i][bathset - 1], tb_prev[j + 1])\n",
    "\n",
    "            else:\n",
    "\n",
    "                if j + 1 in ss.b:\n",
    "                    tb[j] = max(tb[j - 1] + ss.tin[i][j - 1], ts_prev[bathset - 1])\n",
    "                    ts[bathset] = tb[j] + ss.tin[i][j]\n",
    "\n",
    "                else:\n",
    "                    tb[j] = max(tb[j - 1] + ss.tin[i][j - 1], tb_prev[j + 1])\n",
    "\n",
    "                if tb[j] - tb[j - 1] > ss.tax[i][j - 1]:\n",
    "\n",
    "                    dif = tb[j] - tb[j - 1] - ss.tax[i][j - 1]\n",
    "\n",
    "                    for k in reversed(range(start, j)):\n",
    "                        if k in ss.b or k == 0:\n",
    "                            tb[k:j] += dif\n",
    "                            break\n",
    "                        else:\n",
    "                            shift = tb[k] + tb[k - 1] + ss.tax[i][k - 1]\n",
    "                            tb[k:j] += min(dif, shift)\n",
    "                            dif -= shift\n",
    "                            if dif <= 0:\n",
    "                                break\n",
    "\n",
    "\n",
    "        else:\n",
    "\n",
    "            if j in ss.b:\n",
    "                tb[j] = max(ts[bathset - 1] + ss.sec[i][bathset - 1], tf_prev)\n",
    "\n",
    "            else:\n",
    "                tb[j] = max(tb[j - 1] + ss.tin[i][j - 1], tf_prev)\n",
    "\n",
    "                if tb[j] - tb[j - 1] > ss.tax[i][j - 1]:\n",
    "\n",
    "                    dif = tb[j] - tb[j - 1] - ss.tax[i][j - 1]\n",
    "\n",
    "                    for k in reversed(range(start, j)):\n",
    "                        if k in ss.b or k == 0:\n",
    "                            tb[k:j] += dif\n",
    "                            break\n",
    "                        else:\n",
    "                            shift = tb[k] + tb[k - 1] + ss.tax[i][k - 1]\n",
    "                            tb[k:j] += min(dif, shift)\n",
    "                            dif -= shift\n",
    "                            if dif <= 0:\n",
    "                                break\n",
    "\n",
    "        if bathset == ss.H:\n",
    "            tf = tb[ss.M - 1] + ss.tin[i][ss.M - 1]\n",
    "        \n",
    "        i_prev = i\n",
    "        TB[i], TS[i], TF[i] = tb.copy(), ts.copy(), tf\n",
    "        "
   ]
  },
  {
   "cell_type": "code",
   "execution_count": 6,
   "metadata": {},
   "outputs": [
    {
     "ename": "NameError",
     "evalue": "name 'TB' is not defined",
     "output_type": "error",
     "traceback": [
      "\u001b[1;31m---------------------------------------------------------------------------\u001b[0m",
      "\u001b[1;31mNameError\u001b[0m                                 Traceback (most recent call last)",
      "\u001b[1;32m<ipython-input-6-e905fde03b2c>\u001b[0m in \u001b[0;36m<module>\u001b[1;34m\u001b[0m\n\u001b[0;32m      7\u001b[0m \u001b[1;32mfor\u001b[0m \u001b[0mi\u001b[0m \u001b[1;32min\u001b[0m \u001b[0mrange\u001b[0m\u001b[1;33m(\u001b[0m\u001b[0mss\u001b[0m\u001b[1;33m.\u001b[0m\u001b[0mN\u001b[0m\u001b[1;33m)\u001b[0m\u001b[1;33m:\u001b[0m\u001b[1;33m\u001b[0m\u001b[1;33m\u001b[0m\u001b[0m\n\u001b[0;32m      8\u001b[0m     \u001b[0mpp\u001b[0m \u001b[1;33m+=\u001b[0m \u001b[1;36m3\u001b[0m\u001b[1;33m\u001b[0m\u001b[1;33m\u001b[0m\u001b[0m\n\u001b[1;32m----> 9\u001b[1;33m     \u001b[0max\u001b[0m\u001b[1;33m.\u001b[0m\u001b[0mbroken_barh\u001b[0m\u001b[1;33m(\u001b[0m\u001b[0mss\u001b[0m\u001b[1;33m.\u001b[0m\u001b[0mcompute_Vb\u001b[0m\u001b[1;33m(\u001b[0m\u001b[0mTB\u001b[0m\u001b[1;33m[\u001b[0m\u001b[0mi\u001b[0m\u001b[1;33m]\u001b[0m\u001b[1;33m,\u001b[0m \u001b[0mTS\u001b[0m\u001b[1;33m[\u001b[0m\u001b[0mi\u001b[0m\u001b[1;33m]\u001b[0m\u001b[1;33m,\u001b[0m \u001b[0mTF\u001b[0m\u001b[1;33m[\u001b[0m\u001b[0mi\u001b[0m\u001b[1;33m]\u001b[0m\u001b[1;33m)\u001b[0m\u001b[1;33m[\u001b[0m\u001b[1;33m:\u001b[0m\u001b[1;36m3\u001b[0m\u001b[1;33m]\u001b[0m\u001b[1;33m,\u001b[0m \u001b[0myrange\u001b[0m\u001b[1;33m=\u001b[0m\u001b[1;33m(\u001b[0m\u001b[0mpp\u001b[0m\u001b[1;33m,\u001b[0m\u001b[1;36m3\u001b[0m\u001b[1;33m)\u001b[0m\u001b[1;33m,\u001b[0m \u001b[0mcolor\u001b[0m\u001b[1;33m=\u001b[0m\u001b[0mco\u001b[0m\u001b[1;33m)\u001b[0m\u001b[1;33m\u001b[0m\u001b[1;33m\u001b[0m\u001b[0m\n\u001b[0m",
      "\u001b[1;31mNameError\u001b[0m: name 'TB' is not defined"
     ]
    },
    {
     "data": {
      "image/png": "[encoded data removed]",
      "text/plain": [
       "<Figure size 1440x360 with 1 Axes>"
      ]
     },
     "metadata": {
      "needs_background": "light"
     },
     "output_type": "display_data"
    }
   ],
   "source": [
    "plt.rcParams['figure.figsize'] = [20, 5]\n",
    "fig, ax = plt.subplots()\n",
    "co = ['lightcoral', 'yellow', 'plum', 'grey', 'royalblue', 'maroon', 'coral', 'g', 'red', 'sienna']\n",
    "\n",
    "pp = 0\n",
    "\n",
    "for i in range(ss.N):\n",
    "    pp += 3\n",
    "    ax.broken_barh(ss.compute_Vb(TB[i], TS[i], TF[i])[:3], yrange=(pp,3), color=co)"
   ]
  },
  {
   "cell_type": "code",
   "execution_count": 9,
   "metadata": {},
   "outputs": [],
   "source": [
    "request = 0\n",
    "bathset = 0\n",
    "\n",
    "TB = [np.zeros((ss.M)) for _ in range(ss.N)]\n",
    "TS = [np.zeros((ss.H)) for _ in range(ss.N)]\n",
    "TF = [0 for _ in range(ss.N)]\n",
    "\n",
    "for h in range(ss.H + 1):\n",
    "    \n",
    "    i_prev = 0\n",
    "    \n",
    "    for i in range(ss.N):\n",
    "\n",
    "        tb = TB[i]\n",
    "        ts = TS[i]\n",
    "        tf = 0\n",
    "\n",
    "        tb_prev = TB[i_prev].copy()\n",
    "        ts_prev = TS[i_prev].copy()\n",
    "        tf_prev = TF[i_prev]\n",
    "        \n",
    "        if h == ss.H:\n",
    "            start = ss.b[h - 1]\n",
    "            end = ss.M\n",
    "        \n",
    "        elif h == 0:\n",
    "            start = 0\n",
    "            end = ss.b[h] # don't subtract 1, so it is included in the range\n",
    "\n",
    "        else:\n",
    "            start = ss.b[h - 1]\n",
    "            end = ss.b[h]\n",
    "            \n",
    "\n",
    "        for j in range(start, end):\n",
    "\n",
    "            if j == 0:\n",
    "\n",
    "                if j + 1 in ss.b: # next to bath 0 is drying step h\n",
    "                    tb[0] = ts_prev[0]\n",
    "                    ts[0] = tb[0] + ss.tin[i][0]\n",
    "\n",
    "                else:\n",
    "                    tb[0] = tb_prev[1]\n",
    "\n",
    "            elif j < ss.M - 1:\n",
    "\n",
    "                if j in ss.b: # bath j is preceded by a drying step\n",
    "\n",
    "                    if j + 1 in ss.b:\n",
    "\n",
    "                        tb[j] = max(ts[h - 1] + ss.sec[i][h - 1], ts_prev[h])\n",
    "                        ts[h] = tb[j] + ss.tin[i][j]\n",
    "\n",
    "                    else:\n",
    "                        tb[j] = max(ts[h - 1] + ss.sec[i][h - 1], tb_prev[j + 1])\n",
    "\n",
    "                else:\n",
    "\n",
    "                    if j + 1 in ss.b:                            \n",
    "                        tb[j] = max(tb[j - 1] + ss.tin[i][j - 1], ts_prev[h])\n",
    "                        ts[h] = tb[j] + ss.tin[i][j]\n",
    "\n",
    "                    else:\n",
    "                        tb[j] = max(tb[j - 1] + ss.tin[i][j - 1], tb_prev[j + 1])\n",
    "\n",
    "                    if tb[j] - tb[j - 1] > ss.tax[i][j - 1]:\n",
    "\n",
    "                        dif = tb[j] - tb[j - 1] - ss.tax[i][j - 1]\n",
    "\n",
    "                        for k in reversed(range(start, j)):\n",
    "                            if k in ss.b or k == 0:\n",
    "                                tb[k:j] += dif\n",
    "                                break\n",
    "                            else:\n",
    "                                shift = tb[k - 1] - tb[k] + ss.tax[i][k - 1]\n",
    "                                tb[k:j] += min(dif, shift)\n",
    "                                dif -= shift\n",
    "                                if dif <= 0:\n",
    "                                    break\n",
    "\n",
    "\n",
    "            else:\n",
    "\n",
    "                if j in ss.b:\n",
    "                    tb[j] = max(ts[h - 1] + ss.sec[i][h - 1], tf_prev)\n",
    "\n",
    "                else:\n",
    "                    tb[j] = max(tb[j - 1] + ss.tin[i][j - 1], tf_prev)\n",
    "\n",
    "                    if tb[j] - tb[j - 1] > ss.tax[i][j - 1]:\n",
    "\n",
    "                        dif = tb[j] - tb[j - 1] - ss.tax[i][j - 1]\n",
    "\n",
    "                        for k in reversed(range(start, j)):\n",
    "                            if k in ss.b or k == 0:\n",
    "                                tb[k:j] += dif\n",
    "                                break\n",
    "                            else:\n",
    "                                shift = tb[k - 1] - tb[k] + ss.tax[i][k - 1]\n",
    "                                tb[k:j] += min(dif, shift)\n",
    "                                dif -= shift\n",
    "                                if dif <= 0:\n",
    "                                    break\n",
    "\n",
    "            if h == ss.H:\n",
    "                tf = tb[ss.M - 1] + ss.tin[i][ss.M - 1]\n",
    "            else:\n",
    "                TS[i][h] = ts[h]\n",
    "\n",
    "            i_prev = i\n",
    "            \n",
    "            TB[i][start:end] = tb[start:end]\n",
    "            TF[i] = tf\n",
    "            \n",
    "\n"
   ]
  },
  {
   "cell_type": "code",
   "execution_count": 10,
   "metadata": {},
   "outputs": [
    {
     "data": {
      "image/png": "[encoded data removed]",
      "text/plain": [
       "<Figure size 1440x360 with 1 Axes>"
      ]
     },
     "metadata": {
      "needs_background": "light"
     },
     "output_type": "display_data"
    }
   ],
   "source": [
    "fig, ax = plt.subplots()\n",
    "co = ['lightcoral', 'yellow', 'plum', 'grey', 'royalblue', 'maroon', 'coral', 'g', 'red', 'sienna']\n",
    "\n",
    "pp = 0\n",
    "\n",
    "for i in range(ss.N):\n",
    "    pp += 3\n",
    "    ax.broken_barh(ss.compute_Vb(TB[i], TS[i], TF[i]), yrange=(pp,3), color=co)"
   ]
  },
  {
   "cell_type": "code",
   "execution_count": 32,
   "metadata": {},
   "outputs": [],
   "source": [
    "_tb, _ts, _tf, _order = ss.assign_all(14, 1)\n"
   ]
  },
  {
   "cell_type": "code",
   "execution_count": 33,
   "metadata": {},
   "outputs": [],
   "source": [
    "OM = np.zeros(shape=(ss.N, ss.H + 1), dtype='int')\n",
    "\n",
    "pos = -1\n",
    "for i in _order:\n",
    "    pos += 1\n",
    "    OM[pos,:] = [i for _ in range(ss.H + 1)]"
   ]
  },
  {
   "cell_type": "code",
   "execution_count": 34,
   "metadata": {},
   "outputs": [
    {
     "data": {
      "text/plain": [
       "array([14,  3, 30, 45, 23, 17, 36, 47, 27, 51, 33, 29, 53, 11,  1,  7, 43,\n",
       "       12, 52, 50, 42, 46, 18, 54,  4, 38, 44,  0, 49,  6, 28,  8, 24, 48,\n",
       "       16,  2, 25, 20, 35, 31, 39, 40, 34, 37, 19, 26, 41, 15, 32,  9, 10,\n",
       "       13, 22,  5, 21])"
      ]
     },
     "execution_count": 34,
     "metadata": {},
     "output_type": "execute_result"
    }
   ],
   "source": [
    "OM[:,0]"
   ]
  },
  {
   "cell_type": "code",
   "execution_count": 19,
   "metadata": {},
   "outputs": [],
   "source": [
    "request = 0\n",
    "bathset = 0\n",
    "\n",
    "TB = [np.zeros((ss.M)) for _ in range(ss.N)]\n",
    "TS = [np.zeros((ss.H)) for _ in range(ss.N)]\n",
    "TF = [0 for _ in range(ss.N)]\n",
    "\n",
    "for h in range(ss.H + 1):\n",
    "    \n",
    "    i_prev = 0\n",
    "    \n",
    "    for i in OM[:,h]:\n",
    "\n",
    "        tb = TB[i]\n",
    "        ts = TS[i]\n",
    "        tf = 0\n",
    "\n",
    "        tb_prev = TB[i_prev].copy()\n",
    "        ts_prev = TS[i_prev].copy()\n",
    "        tf_prev = TF[i_prev]\n",
    "        \n",
    "        if h == ss.H:\n",
    "            start = ss.b[h - 1]\n",
    "            end = ss.M\n",
    "        \n",
    "        elif h == 0:\n",
    "            start = 0\n",
    "            end = ss.b[h] # don't subtract 1, so it is included in the range\n",
    "\n",
    "        else:\n",
    "            start = ss.b[h - 1]\n",
    "            end = ss.b[h]\n",
    "            \n",
    "\n",
    "        for j in range(start, end):\n",
    "\n",
    "            if j == 0:\n",
    "\n",
    "                if j + 1 in ss.b: # next to bath 0 is drying step h\n",
    "                    tb[0] = ts_prev[0]\n",
    "                    ts[0] = tb[0] + ss.tin[i][0]\n",
    "\n",
    "                else:\n",
    "                    tb[0] = tb_prev[1]\n",
    "\n",
    "            elif j < ss.M - 1:\n",
    "\n",
    "                if j in ss.b: # bath j is preceded by a drying step\n",
    "\n",
    "                    if j + 1 in ss.b:\n",
    "\n",
    "                        tb[j] = max(ts[h - 1] + ss.sec[i][h - 1], ts_prev[h])\n",
    "                        ts[h] = tb[j] + ss.tin[i][j]\n",
    "\n",
    "                    else:\n",
    "                        tb[j] = max(ts[h - 1] + ss.sec[i][h - 1], tb_prev[j + 1])\n",
    "\n",
    "                else:\n",
    "\n",
    "                    if j + 1 in ss.b:                            \n",
    "                        tb[j] = max(tb[j - 1] + ss.tin[i][j - 1], ts_prev[h])\n",
    "                        ts[h] = tb[j] + ss.tin[i][j]\n",
    "\n",
    "                    else:\n",
    "                        tb[j] = max(tb[j - 1] + ss.tin[i][j - 1], tb_prev[j + 1])\n",
    "\n",
    "                    if tb[j] - tb[j - 1] > ss.tax[i][j - 1]:\n",
    "\n",
    "                        dif = tb[j] - tb[j - 1] - ss.tax[i][j - 1]\n",
    "\n",
    "                        for k in reversed(range(start, j)):\n",
    "                            if k in ss.b or k == 0:\n",
    "                                tb[k:j] += dif\n",
    "                                break\n",
    "                            else:\n",
    "                                shift = tb[k - 1] - tb[k] + ss.tax[i][k - 1]\n",
    "                                tb[k:j] += min(dif, shift)\n",
    "                                dif -= shift\n",
    "                                if dif <= 0:\n",
    "                                    break\n",
    "\n",
    "\n",
    "            else:\n",
    "\n",
    "                if j in ss.b:\n",
    "                    tb[j] = max(ts[h - 1] + ss.sec[i][h - 1], tf_prev)\n",
    "\n",
    "                else:\n",
    "                    tb[j] = max(tb[j - 1] + ss.tin[i][j - 1], tf_prev)\n",
    "\n",
    "                    if tb[j] - tb[j - 1] > ss.tax[i][j - 1]:\n",
    "\n",
    "                        dif = tb[j] - tb[j - 1] - ss.tax[i][j - 1]\n",
    "\n",
    "                        for k in reversed(range(start, j)):\n",
    "                            if k in ss.b or k == 0:\n",
    "                                tb[k:j] += dif\n",
    "                                break\n",
    "                            else:\n",
    "                                shift = tb[k - 1] - tb[k] + ss.tax[i][k - 1]\n",
    "                                tb[k:j] += min(dif, shift)\n",
    "                                dif -= shift\n",
    "                                if dif <= 0:\n",
    "                                    break               \n",
    "                \n",
    "\n",
    "        if h == ss.H:\n",
    "            tf = tb[ss.M - 1] + ss.tin[i][ss.M - 1]\n",
    "        else:\n",
    "            TS[i][h] = ts[h]\n",
    "\n",
    "        i_prev = i\n",
    "\n",
    "        TB[i][start:end] = tb[start:end]\n",
    "        TF[i] = tf\n",
    "            \n",
    "\n"
   ]
  },
  {
   "cell_type": "code",
   "execution_count": 31,
   "metadata": {},
   "outputs": [
    {
     "ename": "IndexError",
     "evalue": "index 14 is out of bounds for axis 0 with size 9",
     "output_type": "error",
     "traceback": [
      "\u001b[1;31m---------------------------------------------------------------------------\u001b[0m",
      "\u001b[1;31mIndexError\u001b[0m                                Traceback (most recent call last)",
      "\u001b[1;32m<ipython-input-31-c35da0e86601>\u001b[0m in \u001b[0;36m<module>\u001b[1;34m\u001b[0m\n\u001b[0;32m      6\u001b[0m \u001b[1;32mfor\u001b[0m \u001b[0mi\u001b[0m \u001b[1;32min\u001b[0m \u001b[0m_order\u001b[0m\u001b[1;33m:\u001b[0m\u001b[1;33m\u001b[0m\u001b[1;33m\u001b[0m\u001b[0m\n\u001b[0;32m      7\u001b[0m     \u001b[0mpp\u001b[0m \u001b[1;33m+=\u001b[0m \u001b[1;36m3\u001b[0m\u001b[1;33m\u001b[0m\u001b[1;33m\u001b[0m\u001b[0m\n\u001b[1;32m----> 8\u001b[1;33m     \u001b[0max\u001b[0m\u001b[1;33m.\u001b[0m\u001b[0mbroken_barh\u001b[0m\u001b[1;33m(\u001b[0m\u001b[0mss\u001b[0m\u001b[1;33m.\u001b[0m\u001b[0mcompute_Vb\u001b[0m\u001b[1;33m(\u001b[0m\u001b[0mTB\u001b[0m\u001b[1;33m[\u001b[0m\u001b[0mi\u001b[0m\u001b[1;33m]\u001b[0m\u001b[1;33m,\u001b[0m \u001b[0mTS\u001b[0m\u001b[1;33m[\u001b[0m\u001b[0mi\u001b[0m\u001b[1;33m]\u001b[0m\u001b[1;33m,\u001b[0m \u001b[0mTF\u001b[0m\u001b[1;33m[\u001b[0m\u001b[0mi\u001b[0m\u001b[1;33m]\u001b[0m\u001b[1;33m)\u001b[0m\u001b[1;33m,\u001b[0m \u001b[0myrange\u001b[0m\u001b[1;33m=\u001b[0m\u001b[1;33m(\u001b[0m\u001b[0mpp\u001b[0m\u001b[1;33m,\u001b[0m\u001b[1;36m3\u001b[0m\u001b[1;33m)\u001b[0m\u001b[1;33m,\u001b[0m \u001b[0mcolor\u001b[0m\u001b[1;33m=\u001b[0m\u001b[0mco\u001b[0m\u001b[1;33m)\u001b[0m\u001b[1;33m\u001b[0m\u001b[1;33m\u001b[0m\u001b[0m\n\u001b[0m",
      "\u001b[1;31mIndexError\u001b[0m: index 14 is out of bounds for axis 0 with size 9"
     ]
    },
    {
     "data": {
      "image/png": "[encoded data removed]",
      "text/plain": [
       "<Figure size 1440x360 with 1 Axes>"
      ]
     },
     "metadata": {
      "needs_background": "light"
     },
     "output_type": "display_data"
    }
   ],
   "source": [
    "fig, ax = plt.subplots()\n",
    "co = ['lightcoral', 'yellow', 'plum', 'grey', 'royalblue', 'maroon', 'coral', 'g', 'red', 'sienna']\n",
    "\n",
    "pp = 0\n",
    "\n",
    "for i in _order:\n",
    "    pp += 3\n",
    "    ax.broken_barh(ss.compute_Vb(TB[i], TS[i], TF[i]), yrange=(pp,3), color=co)"
   ]
  },
  {
   "cell_type": "code",
   "execution_count": 14,
   "metadata": {},
   "outputs": [
    {
     "name": "stdout",
     "output_type": "stream",
     "text": [
      "5097.0\n"
     ]
    }
   ],
   "source": [
    "request = 0\n",
    "bathset = 0\n",
    "\n",
    "TB = [np.zeros((ss.M)) for _ in range(ss.N)]\n",
    "TS = [np.zeros((ss.H)) for _ in range(ss.N)]\n",
    "TF = [0 for _ in range(ss.N)]\n",
    "\n",
    "for h in range(ss.H + 1):\n",
    "    \n",
    "    i_prev = 0\n",
    "    \n",
    "    for i in OM[:,h]:\n",
    "\n",
    "        TB, TS, TF = ss.assign_new_set(TB, TS, TF, i, h, i_prev)\n",
    "        \n",
    "        i_prev = i\n",
    "\n",
    "print(max(TF))"
   ]
  },
  {
   "cell_type": "code",
   "execution_count": 41,
   "metadata": {},
   "outputs": [
    {
     "ename": "IndexError",
     "evalue": "index 14 is out of bounds for axis 0 with size 9",
     "output_type": "error",
     "traceback": [
      "\u001b[1;31m---------------------------------------------------------------------------\u001b[0m",
      "\u001b[1;31mIndexError\u001b[0m                                Traceback (most recent call last)",
      "\u001b[1;32m<ipython-input-41-c35da0e86601>\u001b[0m in \u001b[0;36m<module>\u001b[1;34m\u001b[0m\n\u001b[0;32m      6\u001b[0m \u001b[1;32mfor\u001b[0m \u001b[0mi\u001b[0m \u001b[1;32min\u001b[0m \u001b[0m_order\u001b[0m\u001b[1;33m:\u001b[0m\u001b[1;33m\u001b[0m\u001b[1;33m\u001b[0m\u001b[0m\n\u001b[0;32m      7\u001b[0m     \u001b[0mpp\u001b[0m \u001b[1;33m+=\u001b[0m \u001b[1;36m3\u001b[0m\u001b[1;33m\u001b[0m\u001b[1;33m\u001b[0m\u001b[0m\n\u001b[1;32m----> 8\u001b[1;33m     \u001b[0max\u001b[0m\u001b[1;33m.\u001b[0m\u001b[0mbroken_barh\u001b[0m\u001b[1;33m(\u001b[0m\u001b[0mss\u001b[0m\u001b[1;33m.\u001b[0m\u001b[0mcompute_Vb\u001b[0m\u001b[1;33m(\u001b[0m\u001b[0mTB\u001b[0m\u001b[1;33m[\u001b[0m\u001b[0mi\u001b[0m\u001b[1;33m]\u001b[0m\u001b[1;33m,\u001b[0m \u001b[0mTS\u001b[0m\u001b[1;33m[\u001b[0m\u001b[0mi\u001b[0m\u001b[1;33m]\u001b[0m\u001b[1;33m,\u001b[0m \u001b[0mTF\u001b[0m\u001b[1;33m[\u001b[0m\u001b[0mi\u001b[0m\u001b[1;33m]\u001b[0m\u001b[1;33m)\u001b[0m\u001b[1;33m,\u001b[0m \u001b[0myrange\u001b[0m\u001b[1;33m=\u001b[0m\u001b[1;33m(\u001b[0m\u001b[0mpp\u001b[0m\u001b[1;33m,\u001b[0m\u001b[1;36m3\u001b[0m\u001b[1;33m)\u001b[0m\u001b[1;33m,\u001b[0m \u001b[0mcolor\u001b[0m\u001b[1;33m=\u001b[0m\u001b[0mco\u001b[0m\u001b[1;33m)\u001b[0m\u001b[1;33m\u001b[0m\u001b[1;33m\u001b[0m\u001b[0m\n\u001b[0m",
      "\u001b[1;31mIndexError\u001b[0m: index 14 is out of bounds for axis 0 with size 9"
     ]
    },
    {
     "data": {
      "image/png": "[encoded data removed]",
      "text/plain": [
       "<Figure size 1440x360 with 1 Axes>"
      ]
     },
     "metadata": {
      "needs_background": "light"
     },
     "output_type": "display_data"
    }
   ],
   "source": [
    "fig, ax = plt.subplots()\n",
    "co = ['lightcoral', 'yellow', 'plum', 'grey', 'royalblue', 'maroon', 'coral', 'g', 'red', 'sienna']\n",
    "\n",
    "pp = 0\n",
    "\n",
    "for i in _order:\n",
    "    pp += 3\n",
    "    ax.broken_barh(ss.compute_Vb(TB[i], TS[i], TF[i]), yrange=(pp,3), color=co)"
   ]
  },
  {
   "cell_type": "code",
   "execution_count": 23,
   "metadata": {},
   "outputs": [],
   "source": [
    "import random"
   ]
  },
  {
   "cell_type": "code",
   "execution_count": 24,
   "metadata": {},
   "outputs": [],
   "source": [
    "OM = np.zeros(shape=(ss.N, ss.H + 1), dtype='int')\n",
    "\n",
    "pos = -1\n",
    "for i in _order:\n",
    "    pos += 1\n",
    "    OM[pos,:] = [i for _ in range(ss.H + 1)]"
   ]
  },
  {
   "cell_type": "code",
   "execution_count": 42,
   "metadata": {},
   "outputs": [
    {
     "ename": "IndexError",
     "evalue": "index 14 is out of bounds for axis 0 with size 9",
     "output_type": "error",
     "traceback": [
      "\u001b[1;31m---------------------------------------------------------------------------\u001b[0m",
      "\u001b[1;31mIndexError\u001b[0m                                Traceback (most recent call last)",
      "\u001b[1;32m<ipython-input-42-0e4ef4ffbccf>\u001b[0m in \u001b[0;36m<module>\u001b[1;34m\u001b[0m\n\u001b[0;32m     16\u001b[0m         \u001b[1;32mfor\u001b[0m \u001b[0mi\u001b[0m \u001b[1;32min\u001b[0m \u001b[0mOM\u001b[0m\u001b[1;33m[\u001b[0m\u001b[1;33m:\u001b[0m\u001b[1;33m,\u001b[0m\u001b[0mh\u001b[0m\u001b[1;33m]\u001b[0m\u001b[1;33m:\u001b[0m\u001b[1;33m\u001b[0m\u001b[1;33m\u001b[0m\u001b[0m\n\u001b[0;32m     17\u001b[0m \u001b[1;33m\u001b[0m\u001b[0m\n\u001b[1;32m---> 18\u001b[1;33m             \u001b[0mTB\u001b[0m\u001b[1;33m,\u001b[0m \u001b[0mTS\u001b[0m\u001b[1;33m,\u001b[0m \u001b[0mTF\u001b[0m \u001b[1;33m=\u001b[0m \u001b[0mss\u001b[0m\u001b[1;33m.\u001b[0m\u001b[0massign_new_set\u001b[0m\u001b[1;33m(\u001b[0m\u001b[0mTB\u001b[0m\u001b[1;33m,\u001b[0m \u001b[0mTS\u001b[0m\u001b[1;33m,\u001b[0m \u001b[0mTF\u001b[0m\u001b[1;33m,\u001b[0m \u001b[0mi\u001b[0m\u001b[1;33m,\u001b[0m \u001b[0mh\u001b[0m\u001b[1;33m,\u001b[0m \u001b[0mi_prev\u001b[0m\u001b[1;33m)\u001b[0m\u001b[1;33m\u001b[0m\u001b[1;33m\u001b[0m\u001b[0m\n\u001b[0m\u001b[0;32m     19\u001b[0m \u001b[1;33m\u001b[0m\u001b[0m\n\u001b[0;32m     20\u001b[0m             \u001b[0mi_prev\u001b[0m \u001b[1;33m=\u001b[0m \u001b[0mi\u001b[0m\u001b[1;33m\u001b[0m\u001b[1;33m\u001b[0m\u001b[0m\n",
      "\u001b[1;32mc:\\users\\miguel\\process_scheduling\\src\\ps.py\u001b[0m in \u001b[0;36massign_new_set\u001b[1;34m(self, TB, TS, TF, i_request, h_step, i_prev)\u001b[0m\n\u001b[0;32m    373\u001b[0m     \u001b[1;32mdef\u001b[0m \u001b[0massign_new_set\u001b[0m\u001b[1;33m(\u001b[0m\u001b[0mself\u001b[0m\u001b[1;33m,\u001b[0m \u001b[0mTB\u001b[0m\u001b[1;33m,\u001b[0m \u001b[0mTS\u001b[0m\u001b[1;33m,\u001b[0m \u001b[0mTF\u001b[0m\u001b[1;33m,\u001b[0m \u001b[0mi_request\u001b[0m\u001b[1;33m,\u001b[0m \u001b[0mh_step\u001b[0m\u001b[1;33m,\u001b[0m \u001b[0mi_prev\u001b[0m\u001b[1;33m)\u001b[0m\u001b[1;33m:\u001b[0m\u001b[1;33m\u001b[0m\u001b[1;33m\u001b[0m\u001b[0m\n\u001b[0;32m    374\u001b[0m \u001b[1;33m\u001b[0m\u001b[0m\n\u001b[1;32m--> 375\u001b[1;33m         \u001b[0mtb_prev\u001b[0m \u001b[1;33m=\u001b[0m \u001b[0mTB\u001b[0m\u001b[1;33m[\u001b[0m\u001b[0mi_prev\u001b[0m\u001b[1;33m]\u001b[0m\u001b[1;33m.\u001b[0m\u001b[0mcopy\u001b[0m\u001b[1;33m(\u001b[0m\u001b[1;33m)\u001b[0m\u001b[1;33m\u001b[0m\u001b[1;33m\u001b[0m\u001b[0m\n\u001b[0m\u001b[0;32m    376\u001b[0m         \u001b[0mts_prev\u001b[0m \u001b[1;33m=\u001b[0m \u001b[0mTS\u001b[0m\u001b[1;33m[\u001b[0m\u001b[0mi_prev\u001b[0m\u001b[1;33m]\u001b[0m\u001b[1;33m.\u001b[0m\u001b[0mcopy\u001b[0m\u001b[1;33m(\u001b[0m\u001b[1;33m)\u001b[0m\u001b[1;33m\u001b[0m\u001b[1;33m\u001b[0m\u001b[0m\n\u001b[0;32m    377\u001b[0m         \u001b[0mtf_prev\u001b[0m \u001b[1;33m=\u001b[0m \u001b[0mTF\u001b[0m\u001b[1;33m[\u001b[0m\u001b[0mi_prev\u001b[0m\u001b[1;33m]\u001b[0m\u001b[1;33m\u001b[0m\u001b[1;33m\u001b[0m\u001b[0m\n",
      "\u001b[1;31mIndexError\u001b[0m: index 14 is out of bounds for axis 0 with size 9"
     ]
    }
   ],
   "source": [
    "cnt = 0\n",
    "best = 10000\n",
    "while cnt < 200:\n",
    "    cnt += 1\n",
    "    \n",
    "    TB = [np.zeros((ss.M)) for _ in range(ss.N)]\n",
    "    TS = [np.zeros((ss.H)) for _ in range(ss.N)]\n",
    "    TF = [0 for _ in range(ss.N)]\n",
    "    \n",
    "    OM[cnt,h:], OM[cnt+1,h:] =  OM[cnt+1,h:].copy(), OM[cnt,h:].copy()\n",
    "\n",
    "    for h in range(ss.H + 1):\n",
    "\n",
    "        i_prev = 0\n",
    "\n",
    "        for i in OM[:,h]:\n",
    "\n",
    "            TB, TS, TF = ss.assign_new_set(TB, TS, TF, i, h, i_prev)\n",
    "\n",
    "            i_prev = i\n",
    "    \n",
    "    if max(TF) < best:\n",
    "        best = max(TF)\n",
    "        OMb = OM.copy()\n",
    "    else:\n",
    "        OM = OMb.copy()\n",
    "        \n",
    "    print(max(TF))"
   ]
  },
  {
   "cell_type": "code",
   "execution_count": 19,
   "metadata": {},
   "outputs": [
    {
     "data": {
      "image/png": "[encoded data removed]",
      "text/plain": [
       "<Figure size 432x288 with 1 Axes>"
      ]
     },
     "metadata": {},
     "output_type": "display_data"
    }
   ],
   "source": [
    "fig, ax = plt.subplots()\n",
    "co = ['lightcoral', 'yellow', 'plum', 'grey', 'royalblue', 'maroon', 'coral', 'g', 'red', 'sienna']\n",
    "\n",
    "pp = 0\n",
    "\n",
    "for i in _order[:7]:\n",
    "    pp += 3\n",
    "    ax.broken_barh(ss.compute_Vb(TB[i], TS[i], TF[i]), yrange=(pp,3), color=co)"
   ]
  },
  {
   "cell_type": "code",
   "execution_count": 93,
   "metadata": {},
   "outputs": [
    {
     "data": {
      "image/png": "[encoded data removed]",
      "text/plain": [
       "<Figure size 432x288 with 1 Axes>"
      ]
     },
     "metadata": {},
     "output_type": "display_data"
    }
   ],
   "source": [
    "fig, ax = plt.subplots()\n",
    "co = ['lightcoral', 'yellow', 'plum', 'grey', 'royalblue', 'maroon', 'coral', 'g', 'red', 'sienna']\n",
    "\n",
    "pp = 0\n",
    "\n",
    "for i in _order[:10]:\n",
    "    pp += 3\n",
    "    ax.broken_barh(ss.compute_Vb(TB[i], TS[i], TF[i]), yrange=(pp,3), color=co)"
   ]
  },
  {
   "cell_type": "code",
   "execution_count": 20,
   "metadata": {},
   "outputs": [
    {
     "data": {
      "text/plain": [
       "0"
      ]
     },
     "execution_count": 20,
     "metadata": {},
     "output_type": "execute_result"
    }
   ],
   "source": [
    "max(TF)"
   ]
  },
  {
   "cell_type": "code",
   "execution_count": 86,
   "metadata": {},
   "outputs": [
    {
     "data": {
      "text/plain": [
       "array([[14,  3,  3,  3,  3],\n",
       "       [ 3, 30, 30, 30, 30],\n",
       "       [30, 14, 14, 14, 14],\n",
       "       [45, 45, 45, 45, 45],\n",
       "       [23, 23, 23, 23, 23],\n",
       "       [17, 17, 17, 17, 17],\n",
       "       [36, 36, 36, 36, 36],\n",
       "       [47, 47, 47, 47, 47],\n",
       "       [27, 27, 27, 27, 27],\n",
       "       [51, 51, 51, 51, 51],\n",
       "       [33, 33, 33, 33, 33],\n",
       "       [29, 29, 29, 29, 29],\n",
       "       [53, 53, 53, 53, 53],\n",
       "       [11, 11, 11, 11, 11],\n",
       "       [ 1,  1,  1,  1,  1],\n",
       "       [ 7,  7,  7,  7,  7],\n",
       "       [43, 43, 43, 43, 43],\n",
       "       [12, 12, 12, 12, 12],\n",
       "       [52, 52, 52, 52, 52],\n",
       "       [50, 50, 50, 50, 50],\n",
       "       [42, 42, 42, 42, 42],\n",
       "       [46, 46, 46, 46, 46],\n",
       "       [18, 18, 18, 18, 18],\n",
       "       [54, 54, 54, 54, 54],\n",
       "       [ 4,  4,  4,  4,  4],\n",
       "       [38, 38, 38, 38, 38],\n",
       "       [44, 44, 44, 44, 44],\n",
       "       [ 0,  0,  0,  0,  0],\n",
       "       [49, 49, 49, 49, 49],\n",
       "       [ 6,  6,  6,  6,  6],\n",
       "       [28, 28, 28, 28, 28],\n",
       "       [ 8,  8,  8,  8,  8],\n",
       "       [24, 24, 24, 24, 24],\n",
       "       [48, 48, 48, 48, 48],\n",
       "       [16, 16, 16, 16, 16],\n",
       "       [ 2,  2,  2,  2,  2],\n",
       "       [25, 25, 25, 25, 25],\n",
       "       [20, 20, 20, 20, 20],\n",
       "       [35, 35, 35, 35, 35],\n",
       "       [31, 31, 31, 31, 31],\n",
       "       [39, 39, 39, 39, 39],\n",
       "       [40, 40, 40, 40, 40],\n",
       "       [34, 34, 34, 34, 34],\n",
       "       [37, 37, 37, 37, 37],\n",
       "       [19, 19, 19, 19, 19],\n",
       "       [26, 26, 26, 26, 26],\n",
       "       [41, 41, 41, 41, 41],\n",
       "       [15, 15, 15, 15, 15],\n",
       "       [32, 32, 32, 32, 32],\n",
       "       [ 9,  9,  9,  9,  9],\n",
       "       [10, 10, 10, 10, 10],\n",
       "       [13, 13, 13, 13, 13],\n",
       "       [22, 22, 22, 22, 22],\n",
       "       [ 5,  5,  5,  5,  5],\n",
       "       [21, 21, 21, 21, 21]])"
      ]
     },
     "execution_count": 86,
     "metadata": {},
     "output_type": "execute_result"
    }
   ],
   "source": [
    "OM[1,1:] = 30\n",
    "OM[2,1:] = 14\n",
    "OM"
   ]
  },
  {
   "cell_type": "code",
   "execution_count": 99,
   "metadata": {},
   "outputs": [],
   "source": [
    "TB = [np.zeros((ss.M)) for _ in range(ss.N)]\n",
    "TS = [np.zeros((ss.H)) for _ in range(ss.N)]\n",
    "TF = [0 for _ in range(ss.N)]\n",
    "\n",
    "\n",
    "i_prev = 0\n",
    "h = 0\n",
    "for i in OM[:,h]:\n",
    "\n",
    "    TB, TS, TF = ss.assign_new_set(TB, TS, TF, i, h, i_prev)\n",
    "\n",
    "    i_prev = i\n",
    "    \n",
    "for i in OM[:,h]:\n",
    "    "
   ]
  },
  {
   "cell_type": "code",
   "execution_count": 102,
   "metadata": {},
   "outputs": [
    {
     "data": {
      "image/png": "[encoded data removed]",
      "text/plain": [
       "<Figure size 432x288 with 1 Axes>"
      ]
     },
     "metadata": {},
     "output_type": "display_data"
    }
   ],
   "source": [
    "fig, ax = plt.subplots()\n",
    "co = ['lightcoral', 'yellow', 'plum', 'grey', 'royalblue', 'maroon', 'coral', 'g', 'red', 'sienna']\n",
    "\n",
    "pp = 0\n",
    "\n",
    "for i in _order:\n",
    "    pp += 3\n",
    "    ax.broken_barh(ss.compute_Vb(TB[i], TS[i], TF[i])[:3], yrange=(pp,3), color=co)"
   ]
  },
  {
   "cell_type": "code",
   "execution_count": 165,
   "metadata": {},
   "outputs": [],
   "source": [
    "ps.write_output(TB, TS, TF, [6000, 5097], [15, 20], 8)"
   ]
  },
  {
   "cell_type": "code",
   "execution_count": 22,
   "metadata": {},
   "outputs": [],
   "source": [
    "OM = np.zeros(shape=(ss.N, ss.H + 1), dtype='int')\n",
    "\n",
    "pos = -1\n",
    "for i in _order:\n",
    "    pos += 1\n",
    "    OM[pos,:] = [i for _ in range(ss.H + 1)]"
   ]
  },
  {
   "cell_type": "code",
   "execution_count": 21,
   "metadata": {},
   "outputs": [],
   "source": [
    "pos1 = 0\n",
    "order = list(range(ss.N))"
   ]
  },
  {
   "cell_type": "code",
   "execution_count": 25,
   "metadata": {},
   "outputs": [],
   "source": [
    "order[pos1], order[pos1 + 1] = order[pos1 + 1], order[pos1]\n",
    "pos1 +=1"
   ]
  },
  {
   "cell_type": "code",
   "execution_count": 45,
   "metadata": {},
   "outputs": [
    {
     "ename": "IndexError",
     "evalue": "index 14 is out of bounds for axis 0 with size 9",
     "output_type": "error",
     "traceback": [
      "\u001b[1;31m---------------------------------------------------------------------------\u001b[0m",
      "\u001b[1;31mIndexError\u001b[0m                                Traceback (most recent call last)",
      "\u001b[1;32m<ipython-input-45-4f7f6201313e>\u001b[0m in \u001b[0;36m<module>\u001b[1;34m\u001b[0m\n\u001b[0;32m     18\u001b[0m         \u001b[1;32mfor\u001b[0m \u001b[0mi\u001b[0m \u001b[1;32min\u001b[0m \u001b[0mOM1\u001b[0m\u001b[1;33m[\u001b[0m\u001b[1;33m:\u001b[0m\u001b[1;33m,\u001b[0m\u001b[0mh\u001b[0m\u001b[1;33m]\u001b[0m\u001b[1;33m:\u001b[0m\u001b[1;33m\u001b[0m\u001b[1;33m\u001b[0m\u001b[0m\n\u001b[0;32m     19\u001b[0m \u001b[1;33m\u001b[0m\u001b[0m\n\u001b[1;32m---> 20\u001b[1;33m             \u001b[0mTB\u001b[0m\u001b[1;33m,\u001b[0m \u001b[0mTS\u001b[0m\u001b[1;33m,\u001b[0m \u001b[0mTF\u001b[0m \u001b[1;33m=\u001b[0m \u001b[0mss\u001b[0m\u001b[1;33m.\u001b[0m\u001b[0massign_new_set\u001b[0m\u001b[1;33m(\u001b[0m\u001b[0mTB\u001b[0m\u001b[1;33m,\u001b[0m \u001b[0mTS\u001b[0m\u001b[1;33m,\u001b[0m \u001b[0mTF\u001b[0m\u001b[1;33m,\u001b[0m \u001b[0mi\u001b[0m\u001b[1;33m,\u001b[0m \u001b[0mh\u001b[0m\u001b[1;33m,\u001b[0m \u001b[0mi_prev\u001b[0m\u001b[1;33m)\u001b[0m\u001b[1;33m\u001b[0m\u001b[1;33m\u001b[0m\u001b[0m\n\u001b[0m\u001b[0;32m     21\u001b[0m \u001b[1;33m\u001b[0m\u001b[0m\n\u001b[0;32m     22\u001b[0m             \u001b[0mi_prev\u001b[0m \u001b[1;33m=\u001b[0m \u001b[0mi\u001b[0m\u001b[1;33m\u001b[0m\u001b[1;33m\u001b[0m\u001b[0m\n",
      "\u001b[1;32mc:\\users\\miguel\\process_scheduling\\src\\ps.py\u001b[0m in \u001b[0;36massign_new_set\u001b[1;34m(self, TB, TS, TF, i_request, h_step, i_prev)\u001b[0m\n\u001b[0;32m    373\u001b[0m     \u001b[1;32mdef\u001b[0m \u001b[0massign_new_set\u001b[0m\u001b[1;33m(\u001b[0m\u001b[0mself\u001b[0m\u001b[1;33m,\u001b[0m \u001b[0mTB\u001b[0m\u001b[1;33m,\u001b[0m \u001b[0mTS\u001b[0m\u001b[1;33m,\u001b[0m \u001b[0mTF\u001b[0m\u001b[1;33m,\u001b[0m \u001b[0mi_request\u001b[0m\u001b[1;33m,\u001b[0m \u001b[0mh_step\u001b[0m\u001b[1;33m,\u001b[0m \u001b[0mi_prev\u001b[0m\u001b[1;33m)\u001b[0m\u001b[1;33m:\u001b[0m\u001b[1;33m\u001b[0m\u001b[1;33m\u001b[0m\u001b[0m\n\u001b[0;32m    374\u001b[0m \u001b[1;33m\u001b[0m\u001b[0m\n\u001b[1;32m--> 375\u001b[1;33m         \u001b[0mtb_prev\u001b[0m \u001b[1;33m=\u001b[0m \u001b[0mTB\u001b[0m\u001b[1;33m[\u001b[0m\u001b[0mi_prev\u001b[0m\u001b[1;33m]\u001b[0m\u001b[1;33m.\u001b[0m\u001b[0mcopy\u001b[0m\u001b[1;33m(\u001b[0m\u001b[1;33m)\u001b[0m\u001b[1;33m\u001b[0m\u001b[1;33m\u001b[0m\u001b[0m\n\u001b[0m\u001b[0;32m    376\u001b[0m         \u001b[0mts_prev\u001b[0m \u001b[1;33m=\u001b[0m \u001b[0mTS\u001b[0m\u001b[1;33m[\u001b[0m\u001b[0mi_prev\u001b[0m\u001b[1;33m]\u001b[0m\u001b[1;33m.\u001b[0m\u001b[0mcopy\u001b[0m\u001b[1;33m(\u001b[0m\u001b[1;33m)\u001b[0m\u001b[1;33m\u001b[0m\u001b[1;33m\u001b[0m\u001b[0m\n\u001b[0;32m    377\u001b[0m         \u001b[0mtf_prev\u001b[0m \u001b[1;33m=\u001b[0m \u001b[0mTF\u001b[0m\u001b[1;33m[\u001b[0m\u001b[0mi_prev\u001b[0m\u001b[1;33m]\u001b[0m\u001b[1;33m\u001b[0m\u001b[1;33m\u001b[0m\u001b[0m\n",
      "\u001b[1;31mIndexError\u001b[0m: index 14 is out of bounds for axis 0 with size 9"
     ]
    }
   ],
   "source": [
    "OM0 = OM.copy()\n",
    "cnt = 0\n",
    "_h = 0\n",
    "while cnt < 20:\n",
    "    \n",
    "    cnt += 1\n",
    "    \n",
    "    OM1 = OM0[order,:]\n",
    "    \n",
    "    TB = [np.zeros((ss.M)) for _ in range(ss.N)]\n",
    "    TS = [np.zeros((ss.H)) for _ in range(ss.N)]\n",
    "    TF = [0 for _ in range(ss.N)]\n",
    "\n",
    "    for h in range(ss.H + 1):\n",
    "\n",
    "        i_prev = 0\n",
    "\n",
    "        for i in OM1[:,h]:\n",
    "\n",
    "            TB, TS, TF = ss.assign_new_set(TB, TS, TF, i, h, i_prev)\n",
    "\n",
    "            i_prev = i\n",
    "    \n",
    "    if max(TF) < best:\n",
    "        best = max(TF)\n",
    "        OM0 = OM1.copy()\n",
    "    \n",
    "    if cnt == 20:\n",
    "        _h +=1\n",
    "        pos1 = 0\n",
    "        order = list(range(ss.N))\n",
    "        cnt = 0\n",
    "        \n",
    "    print(_h, max(TF))\n",
    "    order[pos1], order[pos1 + 1] = order[pos1 + 1], order[pos1]\n",
    "    pos1 +=1"
   ]
  },
  {
   "cell_type": "code",
   "execution_count": 1,
   "metadata": {},
   "outputs": [
    {
     "ename": "NameError",
     "evalue": "name 'plt' is not defined",
     "output_type": "error",
     "traceback": [
      "\u001b[1;31m---------------------------------------------------------------------------\u001b[0m",
      "\u001b[1;31mNameError\u001b[0m                                 Traceback (most recent call last)",
      "\u001b[1;32m<ipython-input-1-c35da0e86601>\u001b[0m in \u001b[0;36m<module>\u001b[1;34m\u001b[0m\n\u001b[1;32m----> 1\u001b[1;33m \u001b[0mfig\u001b[0m\u001b[1;33m,\u001b[0m \u001b[0max\u001b[0m \u001b[1;33m=\u001b[0m \u001b[0mplt\u001b[0m\u001b[1;33m.\u001b[0m\u001b[0msubplots\u001b[0m\u001b[1;33m(\u001b[0m\u001b[1;33m)\u001b[0m\u001b[1;33m\u001b[0m\u001b[1;33m\u001b[0m\u001b[0m\n\u001b[0m\u001b[0;32m      2\u001b[0m \u001b[0mco\u001b[0m \u001b[1;33m=\u001b[0m \u001b[1;33m[\u001b[0m\u001b[1;34m'lightcoral'\u001b[0m\u001b[1;33m,\u001b[0m \u001b[1;34m'yellow'\u001b[0m\u001b[1;33m,\u001b[0m \u001b[1;34m'plum'\u001b[0m\u001b[1;33m,\u001b[0m \u001b[1;34m'grey'\u001b[0m\u001b[1;33m,\u001b[0m \u001b[1;34m'royalblue'\u001b[0m\u001b[1;33m,\u001b[0m \u001b[1;34m'maroon'\u001b[0m\u001b[1;33m,\u001b[0m \u001b[1;34m'coral'\u001b[0m\u001b[1;33m,\u001b[0m \u001b[1;34m'g'\u001b[0m\u001b[1;33m,\u001b[0m \u001b[1;34m'red'\u001b[0m\u001b[1;33m,\u001b[0m \u001b[1;34m'sienna'\u001b[0m\u001b[1;33m]\u001b[0m\u001b[1;33m\u001b[0m\u001b[1;33m\u001b[0m\u001b[0m\n\u001b[0;32m      3\u001b[0m \u001b[1;33m\u001b[0m\u001b[0m\n\u001b[0;32m      4\u001b[0m \u001b[0mpp\u001b[0m \u001b[1;33m=\u001b[0m \u001b[1;36m0\u001b[0m\u001b[1;33m\u001b[0m\u001b[1;33m\u001b[0m\u001b[0m\n\u001b[0;32m      5\u001b[0m \u001b[1;33m\u001b[0m\u001b[0m\n",
      "\u001b[1;31mNameError\u001b[0m: name 'plt' is not defined"
     ]
    }
   ],
   "source": [
    "fig, ax = plt.subplots()\n",
    "co = ['lightcoral', 'yellow', 'plum', 'grey', 'royalblue', 'maroon', 'coral', 'g', 'red', 'sienna']\n",
    "\n",
    "pp = 0\n",
    "\n",
    "for i in _order:\n",
    "    pp += 3\n",
    "    ax.broken_barh(ss.compute_Vb(TB[i], TS[i], TF[i]), yrange=(pp,3), color=co)"
   ]
  },
  {
   "cell_type": "code",
   "execution_count": 39,
   "metadata": {},
   "outputs": [
    {
     "data": {
      "text/plain": [
       "array([[14, 14, 14, 14, 14],\n",
       "       [ 3,  3,  3,  3,  3],\n",
       "       [30, 30, 30, 30, 30],\n",
       "       [45, 45, 45, 45, 45],\n",
       "       [23, 23, 23, 23, 23],\n",
       "       [17, 17, 17, 17, 17],\n",
       "       [36, 36, 36, 36, 36],\n",
       "       [47, 47, 47, 47, 47],\n",
       "       [27, 27, 27, 27, 27],\n",
       "       [51, 51, 51, 51, 51],\n",
       "       [33, 33, 33, 33, 33],\n",
       "       [29, 29, 29, 29, 29],\n",
       "       [53, 53, 53, 53, 53],\n",
       "       [11, 11, 11, 11, 11],\n",
       "       [ 1,  1,  1,  1,  1],\n",
       "       [ 7,  7,  7,  7,  7],\n",
       "       [43, 43, 43, 43, 43],\n",
       "       [12, 12, 12, 12, 12],\n",
       "       [52, 52, 52, 52, 52],\n",
       "       [50, 50, 50, 50, 50],\n",
       "       [42, 42, 42, 42, 42],\n",
       "       [46, 46, 46, 46, 46],\n",
       "       [18, 18, 18, 18, 18],\n",
       "       [54, 54, 54, 54, 54],\n",
       "       [ 4,  4,  4,  4,  4],\n",
       "       [38, 38, 38, 38, 38],\n",
       "       [44, 44, 44, 44, 44],\n",
       "       [ 0,  0,  0,  0,  0],\n",
       "       [49, 49, 49, 49, 49],\n",
       "       [ 6,  6,  6,  6,  6],\n",
       "       [28, 28, 28, 28, 28],\n",
       "       [ 8,  8,  8,  8,  8],\n",
       "       [24, 24, 24, 24, 24],\n",
       "       [48, 48, 48, 48, 48],\n",
       "       [16, 16, 16, 16, 16],\n",
       "       [ 2,  2,  2,  2,  2],\n",
       "       [25, 25, 25, 25, 25],\n",
       "       [20, 20, 20, 20, 20],\n",
       "       [35, 35, 35, 35, 35],\n",
       "       [31, 31, 31, 31, 31],\n",
       "       [39, 39, 39, 39, 39],\n",
       "       [40, 40, 40, 40, 40],\n",
       "       [34, 34, 34, 34, 34],\n",
       "       [37, 37, 37, 37, 37],\n",
       "       [19, 19, 19, 19, 19],\n",
       "       [26, 26, 26, 26, 26],\n",
       "       [41, 41, 41, 41, 41],\n",
       "       [15, 15, 15, 15, 15],\n",
       "       [32, 32, 32, 32, 32],\n",
       "       [ 9,  9,  9,  9,  9],\n",
       "       [10, 10, 10, 10, 10],\n",
       "       [13, 13, 13, 13, 13],\n",
       "       [22, 22, 22, 22, 22],\n",
       "       [ 5,  5,  5,  5,  5],\n",
       "       [21, 21, 21, 21, 21]])"
      ]
     },
     "execution_count": 39,
     "metadata": {},
     "output_type": "execute_result"
    }
   ],
   "source": [
    "OM"
   ]
  },
  {
   "cell_type": "code",
   "execution_count": 43,
   "metadata": {},
   "outputs": [],
   "source": [
    "TB = [np.zeros((ss.M)) for _ in range(ss.N)]\n",
    "TS = [np.zeros((ss.H)) for _ in range(ss.N)]\n",
    "TF = [0 for _ in range(ss.N)]\n",
    "i_prev = 0\n",
    "\n",
    "for i in OM[:,0]:\n",
    "    TB[i], TS[i], TF[i] = ss.assign_new_set(TB, TS, TF, i, 0, i_prev)\n",
    "    i_prev = i\n",
    "\n",
    "TB[14], TS[14], TF[14] = ss.assign_new_set(TB, TS, TF, 14, 1, 0)\n",
    "\n",
    "unused_req = set(OM[:,1]) - {14}\n",
    "\n",
    "for ii in OM[:,1]:\n",
    "    ds=[]\n",
    "    ds_best = 10000000000\n",
    "    \n",
    "    for i in OM[:,1]:\n",
    "        if i != ii and i in unused_req:\n",
    "            \n",
    "            tb, ts, tf = ss.assign_new_set(TB, TS, TF, i, 1, i_prev)\n",
    "            ds.append(ss.dissimilarity(TB[i_prev], TS[i_prev], TF[i_prev], tb, ts, tf) * ts[1])\n",
    "\n",
    "            if ds[-1] < ds_best:\n",
    "                ds_best = ds[-1]\n",
    "                i_best = i\n",
    "            \n",
    "    unused_req -= {i_best}\n",
    "    TB[i_best], TS[i_best], TF[i_best] = ss.assign_new_set(TB, TS, TF, i_best, 1, ii)\n",
    "    i_prev = i_best\n",
    "\n",
    "i_prev = 0\n",
    "h = 2\n",
    "for i in OM[:,h]:\n",
    "    TB[i], TS[i], TF[i] = ss.assign_new_set(TB, TS, TF, i, h, i_prev)\n",
    "    i_prev = i\n",
    "\n",
    "i_prev = 0\n",
    "h = 3\n",
    "for i in OM[:,h]:\n",
    "    TB[i], TS[i], TF[i] = ss.assign_new_set(TB, TS, TF, i, h, i_prev)\n",
    "    i_prev = i\n",
    "    \n",
    "i_prev = 0\n",
    "h = 4\n",
    "for i in OM[:,h]:\n",
    "    TB[i], TS[i], TF[i] = ss.assign_new_set(TB, TS, TF, i, h, i_prev)\n",
    "    i_prev = i"
   ]
  },
  {
   "cell_type": "code",
   "execution_count": 104,
   "metadata": {},
   "outputs": [],
   "source": [
    "TB[14], TS[14], TF[14] = ss.assign_new_set(TB, TS, TF, 14, 1, 0)"
   ]
  },
  {
   "cell_type": "code",
   "execution_count": 44,
   "metadata": {},
   "outputs": [
    {
     "data": {
      "image/png": "[encoded data removed]",
      "text/plain": [
       "<Figure size 1440x360 with 1 Axes>"
      ]
     },
     "metadata": {
      "needs_background": "light"
     },
     "output_type": "display_data"
    }
   ],
   "source": [
    "fig, ax = plt.subplots()\n",
    "co = ['lightcoral', 'yellow', 'plum', 'grey', 'royalblue', 'maroon', 'coral', 'g', 'red', 'sienna']\n",
    "\n",
    "pp = 0\n",
    "\n",
    "for i in OM[:,0]:\n",
    "    pp += 3\n",
    "    ax.broken_barh(ss.compute_Vb(TB[i], TS[i], TF[i]), yrange=(pp,3), color=co)"
   ]
  },
  {
   "cell_type": "code",
   "execution_count": null,
   "metadata": {},
   "outputs": [],
   "source": [
    "ps.write_output(TB, TS, )"
   ]
  },
  {
   "cell_type": "code",
   "execution_count": 100,
   "metadata": {},
   "outputs": [
    {
     "data": {
      "text/plain": [
       "[(0.0, 20.0),\n",
       " (20.0, 92.0),\n",
       " (112.0, 48.0),\n",
       " (246.0, 13.0),\n",
       " (259.0, 9.0),\n",
       " (268.0, 7.0),\n",
       " (0.0, 0.0),\n",
       " (0.0, 0.0),\n",
       " (0.0, 0.0)]"
      ]
     },
     "execution_count": 100,
     "metadata": {},
     "output_type": "execute_result"
    }
   ],
   "source": [
    "ss.compute_Vb(TB[14], TS[14], TF[14])"
   ]
  }
 ],
 "metadata": {
  "kernelspec": {
   "display_name": "Python 3",
   "language": "python",
   "name": "python3"
  },
  "language_info": {
   "codemirror_mode": {
    "name": "ipython",
    "version": 3
   },
   "file_extension": ".py",
   "mimetype": "text/x-python",
   "name": "python",
   "nbconvert_exporter": "python",
   "pygments_lexer": "ipython3",
   "version": "3.7.1"
  }
 },
 "nbformat": 4,
 "nbformat_minor": 2
}
